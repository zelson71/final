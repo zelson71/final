{
 "cells": [
  {
   "cell_type": "code",
   "execution_count": 65,
   "metadata": {},
   "outputs": [],
   "source": [
    "import pandas as pd\n",
    "import tensorflow as tf\n",
    "import matplotlib.pyplot as plt\n",
    "import itertools\n",
    "import numpy as np\n",
    "from keras.models import Sequential\n",
    "from keras.layers import Dense, Dropout\n",
    "from sklearn.preprocessing import MinMaxScaler, LabelEncoder, StandardScaler\n",
    "from keras.utils import to_categorical\n",
    "from sklearn.model_selection import train_test_split, KFold, GridSearchCV\n",
    "from sklearn.metrics import confusion_matrix, classification_report, accuracy_score\n",
    "from keras.wrappers.scikit_learn import KerasClassifier\n",
    "%matplotlib inline"
   ]
  },
  {
   "cell_type": "code",
   "execution_count": 66,
   "metadata": {},
   "outputs": [
    {
     "data": {
      "text/html": [
       "<div>\n",
       "<style scoped>\n",
       "    .dataframe tbody tr th:only-of-type {\n",
       "        vertical-align: middle;\n",
       "    }\n",
       "\n",
       "    .dataframe tbody tr th {\n",
       "        vertical-align: top;\n",
       "    }\n",
       "\n",
       "    .dataframe thead th {\n",
       "        text-align: right;\n",
       "    }\n",
       "</style>\n",
       "<table border=\"1\" class=\"dataframe\">\n",
       "  <thead>\n",
       "    <tr style=\"text-align: right;\">\n",
       "      <th></th>\n",
       "      <th>ID</th>\n",
       "      <th>alcohol</th>\n",
       "      <th>category</th>\n",
       "      <th>country</th>\n",
       "      <th>description</th>\n",
       "      <th>designation</th>\n",
       "      <th>price</th>\n",
       "      <th>rating</th>\n",
       "      <th>rating_bin</th>\n",
       "      <th>region</th>\n",
       "      <th>subregion</th>\n",
       "      <th>subsubregion</th>\n",
       "      <th>title</th>\n",
       "      <th>url</th>\n",
       "      <th>varietal</th>\n",
       "      <th>vintage</th>\n",
       "      <th>winery</th>\n",
       "    </tr>\n",
       "  </thead>\n",
       "  <tbody>\n",
       "    <tr>\n",
       "      <td>0</td>\n",
       "      <td>4</td>\n",
       "      <td>14.1</td>\n",
       "      <td>White</td>\n",
       "      <td>US</td>\n",
       "      <td>This white has an expert level of intensity an...</td>\n",
       "      <td>Dutton Ranch Walker Hill Vineyard</td>\n",
       "      <td>50.0</td>\n",
       "      <td>94</td>\n",
       "      <td>91-100</td>\n",
       "      <td>California</td>\n",
       "      <td>Sonoma</td>\n",
       "      <td>Green Valley</td>\n",
       "      <td>Dutton-Goldfield 2016 Dutton Ranch Walker Hill...</td>\n",
       "      <td>https://www.winemag.com/buying-guide/dutton-go...</td>\n",
       "      <td>Chardonnay</td>\n",
       "      <td>2016</td>\n",
       "      <td>Dutton-Goldfield</td>\n",
       "    </tr>\n",
       "    <tr>\n",
       "      <td>1</td>\n",
       "      <td>53</td>\n",
       "      <td>13.8</td>\n",
       "      <td>White</td>\n",
       "      <td>US</td>\n",
       "      <td>This is a structured and remarkable wine, burs...</td>\n",
       "      <td>Year of the Monkey Single Vineyard</td>\n",
       "      <td>60.0</td>\n",
       "      <td>94</td>\n",
       "      <td>91-100</td>\n",
       "      <td>California</td>\n",
       "      <td>Napa-Sonoma</td>\n",
       "      <td>Carneros</td>\n",
       "      <td>Donum 2016 Year of the Monkey Single Vineyard ...</td>\n",
       "      <td>https://www.winemag.com/buying-guide/donum-201...</td>\n",
       "      <td>Chardonnay</td>\n",
       "      <td>2016</td>\n",
       "      <td>Donum</td>\n",
       "    </tr>\n",
       "    <tr>\n",
       "      <td>2</td>\n",
       "      <td>74</td>\n",
       "      <td>14.7</td>\n",
       "      <td>White</td>\n",
       "      <td>US</td>\n",
       "      <td>This is a grainy, structured and textured whit...</td>\n",
       "      <td>Lewis MacGregor Estate Vineyard</td>\n",
       "      <td>65.0</td>\n",
       "      <td>94</td>\n",
       "      <td>91-100</td>\n",
       "      <td>California</td>\n",
       "      <td>Sonoma</td>\n",
       "      <td>Russian River Valley</td>\n",
       "      <td>Williams Selyem 2016 Lewis MacGregor Estate Vi...</td>\n",
       "      <td>https://www.winemag.com/buying-guide/williams-...</td>\n",
       "      <td>Chardonnay</td>\n",
       "      <td>2016</td>\n",
       "      <td>Williams Selyem</td>\n",
       "    </tr>\n",
       "    <tr>\n",
       "      <td>3</td>\n",
       "      <td>156</td>\n",
       "      <td>14.4</td>\n",
       "      <td>White</td>\n",
       "      <td>US</td>\n",
       "      <td>This has gorgeous aromas of ginger and crushed...</td>\n",
       "      <td>Gap's Crown</td>\n",
       "      <td>58.0</td>\n",
       "      <td>95</td>\n",
       "      <td>91-100</td>\n",
       "      <td>California</td>\n",
       "      <td>Sonoma</td>\n",
       "      <td>Sonoma Coast</td>\n",
       "      <td>Black Kite 2016 Gap's Crown Chardonnay (Sonoma...</td>\n",
       "      <td>https://www.winemag.com/buying-guide/black-kit...</td>\n",
       "      <td>Chardonnay</td>\n",
       "      <td>2016</td>\n",
       "      <td>Black Kite</td>\n",
       "    </tr>\n",
       "    <tr>\n",
       "      <td>4</td>\n",
       "      <td>169</td>\n",
       "      <td>14.5</td>\n",
       "      <td>White</td>\n",
       "      <td>US</td>\n",
       "      <td>This lovely vineyard-designate is expertly put...</td>\n",
       "      <td>Toyon Vineyard</td>\n",
       "      <td>125.0</td>\n",
       "      <td>95</td>\n",
       "      <td>91-100</td>\n",
       "      <td>California</td>\n",
       "      <td>Napa-Sonoma</td>\n",
       "      <td>Los Carneros</td>\n",
       "      <td>Alpha Omega 2015 Toyon Vineyard Chardonnay (Lo...</td>\n",
       "      <td>https://www.winemag.com/buying-guide/alpha-ome...</td>\n",
       "      <td>Chardonnay</td>\n",
       "      <td>2015</td>\n",
       "      <td>Alpha Omega</td>\n",
       "    </tr>\n",
       "  </tbody>\n",
       "</table>\n",
       "</div>"
      ],
      "text/plain": [
       "    ID  alcohol category country  \\\n",
       "0    4     14.1    White      US   \n",
       "1   53     13.8    White      US   \n",
       "2   74     14.7    White      US   \n",
       "3  156     14.4    White      US   \n",
       "4  169     14.5    White      US   \n",
       "\n",
       "                                         description  \\\n",
       "0  This white has an expert level of intensity an...   \n",
       "1  This is a structured and remarkable wine, burs...   \n",
       "2  This is a grainy, structured and textured whit...   \n",
       "3  This has gorgeous aromas of ginger and crushed...   \n",
       "4  This lovely vineyard-designate is expertly put...   \n",
       "\n",
       "                          designation  price  rating rating_bin      region  \\\n",
       "0   Dutton Ranch Walker Hill Vineyard   50.0      94     91-100  California   \n",
       "1  Year of the Monkey Single Vineyard   60.0      94     91-100  California   \n",
       "2     Lewis MacGregor Estate Vineyard   65.0      94     91-100  California   \n",
       "3                         Gap's Crown   58.0      95     91-100  California   \n",
       "4                      Toyon Vineyard  125.0      95     91-100  California   \n",
       "\n",
       "     subregion          subsubregion  \\\n",
       "0       Sonoma          Green Valley   \n",
       "1  Napa-Sonoma              Carneros   \n",
       "2       Sonoma  Russian River Valley   \n",
       "3       Sonoma          Sonoma Coast   \n",
       "4  Napa-Sonoma          Los Carneros   \n",
       "\n",
       "                                               title  \\\n",
       "0  Dutton-Goldfield 2016 Dutton Ranch Walker Hill...   \n",
       "1  Donum 2016 Year of the Monkey Single Vineyard ...   \n",
       "2  Williams Selyem 2016 Lewis MacGregor Estate Vi...   \n",
       "3  Black Kite 2016 Gap's Crown Chardonnay (Sonoma...   \n",
       "4  Alpha Omega 2015 Toyon Vineyard Chardonnay (Lo...   \n",
       "\n",
       "                                                 url    varietal  vintage  \\\n",
       "0  https://www.winemag.com/buying-guide/dutton-go...  Chardonnay     2016   \n",
       "1  https://www.winemag.com/buying-guide/donum-201...  Chardonnay     2016   \n",
       "2  https://www.winemag.com/buying-guide/williams-...  Chardonnay     2016   \n",
       "3  https://www.winemag.com/buying-guide/black-kit...  Chardonnay     2016   \n",
       "4  https://www.winemag.com/buying-guide/alpha-ome...  Chardonnay     2015   \n",
       "\n",
       "             winery  \n",
       "0  Dutton-Goldfield  \n",
       "1             Donum  \n",
       "2   Williams Selyem  \n",
       "3        Black Kite  \n",
       "4       Alpha Omega  "
      ]
     },
     "execution_count": 66,
     "metadata": {},
     "output_type": "execute_result"
    }
   ],
   "source": [
    "df = pd.read_csv('Resources/US_French_Chardonnays.csv')\n",
    "df.head()"
   ]
  },
  {
   "cell_type": "code",
   "execution_count": 67,
   "metadata": {},
   "outputs": [
    {
     "data": {
      "text/html": [
       "<div>\n",
       "<style scoped>\n",
       "    .dataframe tbody tr th:only-of-type {\n",
       "        vertical-align: middle;\n",
       "    }\n",
       "\n",
       "    .dataframe tbody tr th {\n",
       "        vertical-align: top;\n",
       "    }\n",
       "\n",
       "    .dataframe thead th {\n",
       "        text-align: right;\n",
       "    }\n",
       "</style>\n",
       "<table border=\"1\" class=\"dataframe\">\n",
       "  <thead>\n",
       "    <tr style=\"text-align: right;\">\n",
       "      <th></th>\n",
       "      <th>country</th>\n",
       "      <th>price</th>\n",
       "      <th>rating_bin</th>\n",
       "      <th>region</th>\n",
       "      <th>subregion</th>\n",
       "      <th>subsubregion</th>\n",
       "    </tr>\n",
       "  </thead>\n",
       "  <tbody>\n",
       "    <tr>\n",
       "      <td>0</td>\n",
       "      <td>US</td>\n",
       "      <td>50.0</td>\n",
       "      <td>91-100</td>\n",
       "      <td>California</td>\n",
       "      <td>Sonoma</td>\n",
       "      <td>Green Valley</td>\n",
       "    </tr>\n",
       "    <tr>\n",
       "      <td>1</td>\n",
       "      <td>US</td>\n",
       "      <td>60.0</td>\n",
       "      <td>91-100</td>\n",
       "      <td>California</td>\n",
       "      <td>Napa-Sonoma</td>\n",
       "      <td>Carneros</td>\n",
       "    </tr>\n",
       "    <tr>\n",
       "      <td>2</td>\n",
       "      <td>US</td>\n",
       "      <td>65.0</td>\n",
       "      <td>91-100</td>\n",
       "      <td>California</td>\n",
       "      <td>Sonoma</td>\n",
       "      <td>Russian River Valley</td>\n",
       "    </tr>\n",
       "    <tr>\n",
       "      <td>3</td>\n",
       "      <td>US</td>\n",
       "      <td>58.0</td>\n",
       "      <td>91-100</td>\n",
       "      <td>California</td>\n",
       "      <td>Sonoma</td>\n",
       "      <td>Sonoma Coast</td>\n",
       "    </tr>\n",
       "    <tr>\n",
       "      <td>4</td>\n",
       "      <td>US</td>\n",
       "      <td>125.0</td>\n",
       "      <td>91-100</td>\n",
       "      <td>California</td>\n",
       "      <td>Napa-Sonoma</td>\n",
       "      <td>Los Carneros</td>\n",
       "    </tr>\n",
       "  </tbody>\n",
       "</table>\n",
       "</div>"
      ],
      "text/plain": [
       "  country  price rating_bin      region    subregion          subsubregion\n",
       "0      US   50.0     91-100  California       Sonoma          Green Valley\n",
       "1      US   60.0     91-100  California  Napa-Sonoma              Carneros\n",
       "2      US   65.0     91-100  California       Sonoma  Russian River Valley\n",
       "3      US   58.0     91-100  California       Sonoma          Sonoma Coast\n",
       "4      US  125.0     91-100  California  Napa-Sonoma          Los Carneros"
      ]
     },
     "execution_count": 67,
     "metadata": {},
     "output_type": "execute_result"
    }
   ],
   "source": [
    "df = df.drop(['ID', 'alcohol', 'category', 'description', 'designation', 'rating', 'title', 'url', 'varietal', 'vintage','winery'], axis=1)\n",
    "df.head()\n"
   ]
  },
  {
   "cell_type": "code",
   "execution_count": 68,
   "metadata": {},
   "outputs": [
    {
     "data": {
      "text/html": [
       "<div>\n",
       "<style scoped>\n",
       "    .dataframe tbody tr th:only-of-type {\n",
       "        vertical-align: middle;\n",
       "    }\n",
       "\n",
       "    .dataframe tbody tr th {\n",
       "        vertical-align: top;\n",
       "    }\n",
       "\n",
       "    .dataframe thead th {\n",
       "        text-align: right;\n",
       "    }\n",
       "</style>\n",
       "<table border=\"1\" class=\"dataframe\">\n",
       "  <thead>\n",
       "    <tr style=\"text-align: right;\">\n",
       "      <th></th>\n",
       "      <th>country</th>\n",
       "      <th>price</th>\n",
       "      <th>rating_bin</th>\n",
       "      <th>region</th>\n",
       "      <th>subregion</th>\n",
       "      <th>subsubregion</th>\n",
       "    </tr>\n",
       "  </thead>\n",
       "  <tbody>\n",
       "    <tr>\n",
       "      <td>0</td>\n",
       "      <td>US</td>\n",
       "      <td>50.0</td>\n",
       "      <td>91-100</td>\n",
       "      <td>California</td>\n",
       "      <td>Sonoma</td>\n",
       "      <td>Green Valley</td>\n",
       "    </tr>\n",
       "    <tr>\n",
       "      <td>1</td>\n",
       "      <td>US</td>\n",
       "      <td>60.0</td>\n",
       "      <td>91-100</td>\n",
       "      <td>California</td>\n",
       "      <td>Napa-Sonoma</td>\n",
       "      <td>Carneros</td>\n",
       "    </tr>\n",
       "    <tr>\n",
       "      <td>2</td>\n",
       "      <td>US</td>\n",
       "      <td>65.0</td>\n",
       "      <td>91-100</td>\n",
       "      <td>California</td>\n",
       "      <td>Sonoma</td>\n",
       "      <td>Russian River Valley</td>\n",
       "    </tr>\n",
       "    <tr>\n",
       "      <td>3</td>\n",
       "      <td>US</td>\n",
       "      <td>58.0</td>\n",
       "      <td>91-100</td>\n",
       "      <td>California</td>\n",
       "      <td>Sonoma</td>\n",
       "      <td>Sonoma Coast</td>\n",
       "    </tr>\n",
       "    <tr>\n",
       "      <td>4</td>\n",
       "      <td>US</td>\n",
       "      <td>125.0</td>\n",
       "      <td>91-100</td>\n",
       "      <td>California</td>\n",
       "      <td>Napa-Sonoma</td>\n",
       "      <td>Los Carneros</td>\n",
       "    </tr>\n",
       "    <tr>\n",
       "      <td>...</td>\n",
       "      <td>...</td>\n",
       "      <td>...</td>\n",
       "      <td>...</td>\n",
       "      <td>...</td>\n",
       "      <td>...</td>\n",
       "      <td>...</td>\n",
       "    </tr>\n",
       "    <tr>\n",
       "      <td>13683</td>\n",
       "      <td>US</td>\n",
       "      <td>44.0</td>\n",
       "      <td>85-90</td>\n",
       "      <td>California</td>\n",
       "      <td>Central Coast</td>\n",
       "      <td>Santa Lucia Highlands</td>\n",
       "    </tr>\n",
       "    <tr>\n",
       "      <td>13684</td>\n",
       "      <td>US</td>\n",
       "      <td>25.0</td>\n",
       "      <td>91-100</td>\n",
       "      <td>California</td>\n",
       "      <td>Central Coast</td>\n",
       "      <td>Santa Maria Valley</td>\n",
       "    </tr>\n",
       "    <tr>\n",
       "      <td>13685</td>\n",
       "      <td>US</td>\n",
       "      <td>30.0</td>\n",
       "      <td>91-100</td>\n",
       "      <td>California</td>\n",
       "      <td>Central Coast</td>\n",
       "      <td>Arroyo Seco</td>\n",
       "    </tr>\n",
       "    <tr>\n",
       "      <td>13686</td>\n",
       "      <td>US</td>\n",
       "      <td>29.0</td>\n",
       "      <td>91-100</td>\n",
       "      <td>California</td>\n",
       "      <td>Central Coast</td>\n",
       "      <td>Santa Barbara County</td>\n",
       "    </tr>\n",
       "    <tr>\n",
       "      <td>13687</td>\n",
       "      <td>US</td>\n",
       "      <td>19.0</td>\n",
       "      <td>85-90</td>\n",
       "      <td>California</td>\n",
       "      <td>Central Coast</td>\n",
       "      <td>Livermore Valley</td>\n",
       "    </tr>\n",
       "  </tbody>\n",
       "</table>\n",
       "<p>10668 rows × 6 columns</p>\n",
       "</div>"
      ],
      "text/plain": [
       "      country  price rating_bin      region      subregion  \\\n",
       "0          US   50.0     91-100  California         Sonoma   \n",
       "1          US   60.0     91-100  California    Napa-Sonoma   \n",
       "2          US   65.0     91-100  California         Sonoma   \n",
       "3          US   58.0     91-100  California         Sonoma   \n",
       "4          US  125.0     91-100  California    Napa-Sonoma   \n",
       "...       ...    ...        ...         ...            ...   \n",
       "13683      US   44.0      85-90  California  Central Coast   \n",
       "13684      US   25.0     91-100  California  Central Coast   \n",
       "13685      US   30.0     91-100  California  Central Coast   \n",
       "13686      US   29.0     91-100  California  Central Coast   \n",
       "13687      US   19.0      85-90  California  Central Coast   \n",
       "\n",
       "                subsubregion  \n",
       "0               Green Valley  \n",
       "1                   Carneros  \n",
       "2       Russian River Valley  \n",
       "3               Sonoma Coast  \n",
       "4               Los Carneros  \n",
       "...                      ...  \n",
       "13683  Santa Lucia Highlands  \n",
       "13684     Santa Maria Valley  \n",
       "13685            Arroyo Seco  \n",
       "13686   Santa Barbara County  \n",
       "13687       Livermore Valley  \n",
       "\n",
       "[10668 rows x 6 columns]"
      ]
     },
     "execution_count": 68,
     "metadata": {},
     "output_type": "execute_result"
    }
   ],
   "source": [
    "df = df.dropna(subset=['subsubregion'])\n",
    "df"
   ]
  },
  {
   "cell_type": "code",
   "execution_count": 69,
   "metadata": {},
   "outputs": [],
   "source": [
    "X_df = pd.DataFrame(df)\n",
    "X_df['subregion'] = X_df['subregion'].astype(str)\n"
   ]
  },
  {
   "cell_type": "code",
   "execution_count": 70,
   "metadata": {},
   "outputs": [],
   "source": [
    "X = X_df.drop(\"rating_bin\", axis=1)\n",
    "y = df[\"rating_bin\"]"
   ]
  },
  {
   "cell_type": "code",
   "execution_count": 71,
   "metadata": {},
   "outputs": [
    {
     "name": "stdout",
     "output_type": "stream",
     "text": [
      "       country  price  region  subregion  subsubregion\n",
      "0            0     57       0         14            44\n",
      "1            0     67       0          9            15\n",
      "2            0     72       0         14           103\n",
      "3            0     65       0         14           127\n",
      "4            0     95       0          9            57\n",
      "...        ...    ...     ...        ...           ...\n",
      "13683        0     51       0          1           118\n",
      "13684        0     31       0          1           120\n",
      "13685        0     37       0          1             8\n",
      "13686        0     35       0          1           113\n",
      "13687        0     22       0          1            53\n",
      "\n",
      "[10668 rows x 5 columns]\n"
     ]
    }
   ],
   "source": [
    "X= X.apply(LabelEncoder().fit_transform)\n",
    "print(X)"
   ]
  },
  {
   "cell_type": "code",
   "execution_count": 72,
   "metadata": {},
   "outputs": [
    {
     "name": "stdout",
     "output_type": "stream",
     "text": [
      "[[  0.  57.   0.  14.  44.]\n",
      " [  0.  67.   0.   9.  15.]\n",
      " [  0.  72.   0.  14. 103.]\n",
      " ...\n",
      " [  0.  37.   0.   1.   8.]\n",
      " [  0.  35.   0.   1. 113.]\n",
      " [  0.  22.   0.   1.  53.]]\n"
     ]
    }
   ],
   "source": [
    "X = X.values.astype(\"float32\")\n",
    "print(X)\n",
    "# y = y.values.astype(\"float32\")"
   ]
  },
  {
   "cell_type": "code",
   "execution_count": 73,
   "metadata": {},
   "outputs": [
    {
     "name": "stdout",
     "output_type": "stream",
     "text": [
      "0        91-100\n",
      "1        91-100\n",
      "2        91-100\n",
      "3        91-100\n",
      "4        91-100\n",
      "          ...  \n",
      "13683     85-90\n",
      "13684    91-100\n",
      "13685    91-100\n",
      "13686    91-100\n",
      "13687     85-90\n",
      "Name: rating_bin, Length: 10668, dtype: object\n"
     ]
    },
    {
     "data": {
      "text/plain": [
       "array([1, 1, 1, ..., 1, 1, 0])"
      ]
     },
     "execution_count": 73,
     "metadata": {},
     "output_type": "execute_result"
    }
   ],
   "source": [
    "le = LabelEncoder()\n",
    "le.fit(y)\n",
    "print(y)\n",
    "encoded_y = le.transform(y)\n",
    "encoded_y"
   ]
  },
  {
   "cell_type": "code",
   "execution_count": 74,
   "metadata": {},
   "outputs": [],
   "source": [
    "X_train, X_test, y_train, y_test = train_test_split(X, encoded_y, random_state=42)"
   ]
  },
  {
   "cell_type": "code",
   "execution_count": 75,
   "metadata": {},
   "outputs": [
    {
     "data": {
      "text/plain": [
       "array([0, 0, 0, ..., 0, 0, 1], dtype=int64)"
      ]
     },
     "execution_count": 75,
     "metadata": {},
     "output_type": "execute_result"
    }
   ],
   "source": [
    "le2 = LabelEncoder()\n",
    "le2.fit(y_train)\n",
    "encoded_y_train = le2.transform(y_train)\n",
    "encoded_y_test = le2.transform(y_test)\n",
    "encoded_y_test\n",
    "# len(encoded_y_train)"
   ]
  },
  {
   "cell_type": "code",
   "execution_count": 76,
   "metadata": {},
   "outputs": [],
   "source": [
    "X_train, x_val, y_train, y_val = train_test_split(X_train, encoded_y_train, random_state=42)"
   ]
  },
  {
   "cell_type": "code",
   "execution_count": 78,
   "metadata": {},
   "outputs": [
    {
     "name": "stdout",
     "output_type": "stream",
     "text": [
      "6000\n"
     ]
    },
    {
     "data": {
      "text/plain": [
       "6000"
      ]
     },
     "execution_count": 78,
     "metadata": {},
     "output_type": "execute_result"
    }
   ],
   "source": [
    "y_train_categorical = to_categorical(y_train)\n",
    "y_test_categorical = to_categorical(y_test)\n",
    "print(len(y_train_categorical))\n",
    "len(X_train)"
   ]
  },
  {
   "cell_type": "code",
   "execution_count": 79,
   "metadata": {},
   "outputs": [],
   "source": [
    "scaler_model = StandardScaler()"
   ]
  },
  {
   "cell_type": "code",
   "execution_count": 80,
   "metadata": {},
   "outputs": [],
   "source": [
    "X_scaler = scaler_model.fit(X_train)"
   ]
  },
  {
   "cell_type": "code",
   "execution_count": 81,
   "metadata": {},
   "outputs": [],
   "source": [
    "X_train_scaled = X_scaler.transform(X_train)\n",
    "X_test_scaled = X_scaler.transform(X_test)"
   ]
  },
  {
   "cell_type": "code",
   "execution_count": 82,
   "metadata": {},
   "outputs": [
    {
     "data": {
      "text/plain": [
       "5"
      ]
     },
     "execution_count": 82,
     "metadata": {},
     "output_type": "execute_result"
    }
   ],
   "source": [
    "input_dims = X_train.shape[1]\n",
    "input_dims"
   ]
  },
  {
   "cell_type": "code",
   "execution_count": 319,
   "metadata": {},
   "outputs": [
    {
     "name": "stdout",
     "output_type": "stream",
     "text": [
      "Model: \"sequential_180\"\n",
      "_________________________________________________________________\n",
      "Layer (type)                 Output Shape              Param #   \n",
      "=================================================================\n",
      "dense_432 (Dense)            (None, 8)                 48        \n",
      "_________________________________________________________________\n",
      "dropout_1 (Dropout)          (None, 8)                 0         \n",
      "_________________________________________________________________\n",
      "dense_433 (Dense)            (None, 8)                 72        \n",
      "_________________________________________________________________\n",
      "dense_434 (Dense)            (None, 2)                 18        \n",
      "=================================================================\n",
      "Total params: 138\n",
      "Trainable params: 138\n",
      "Non-trainable params: 0\n",
      "_________________________________________________________________\n"
     ]
    }
   ],
   "source": [
    "model = Sequential()\n",
    "model.add(Dense(8, activation = 'relu', input_dim=(input_dims)))\n",
    "model.add(Dropout(0.2))\n",
    "model.add(Dense(8, activation = 'relu'))\n",
    "model.add(Dense(2, activation='sigmoid'))\n",
    "model.summary()"
   ]
  },
  {
   "cell_type": "code",
   "execution_count": 320,
   "metadata": {},
   "outputs": [],
   "source": [
    "model.compile(optimizer='rmsprop', loss='categorical_crossentropy', metrics=['accuracy'])"
   ]
  },
  {
   "cell_type": "code",
   "execution_count": 321,
   "metadata": {},
   "outputs": [
    {
     "name": "stdout",
     "output_type": "stream",
     "text": [
      "Train on 4800 samples, validate on 1200 samples\n",
      "Epoch 1/100\n",
      "4800/4800 [==============================] - 0s 88us/step - loss: 0.6514 - accuracy: 0.6367 - val_loss: 0.5835 - val_accuracy: 0.7417\n",
      "Epoch 2/100\n",
      "4800/4800 [==============================] - 0s 23us/step - loss: 0.5415 - accuracy: 0.7262 - val_loss: 0.4821 - val_accuracy: 0.7417\n",
      "Epoch 3/100\n",
      "4800/4800 [==============================] - 0s 27us/step - loss: 0.4843 - accuracy: 0.7490 - val_loss: 0.4322 - val_accuracy: 0.7867\n",
      "Epoch 4/100\n",
      "4800/4800 [==============================] - 0s 28us/step - loss: 0.4597 - accuracy: 0.7779 - val_loss: 0.4130 - val_accuracy: 0.7842\n",
      "Epoch 5/100\n",
      "4800/4800 [==============================] - 0s 28us/step - loss: 0.4543 - accuracy: 0.7754 - val_loss: 0.4061 - val_accuracy: 0.7992\n",
      "Epoch 6/100\n",
      "4800/4800 [==============================] - 0s 28us/step - loss: 0.4506 - accuracy: 0.7804 - val_loss: 0.4050 - val_accuracy: 0.7992\n",
      "Epoch 7/100\n",
      "4800/4800 [==============================] - 0s 28us/step - loss: 0.4464 - accuracy: 0.7846 - val_loss: 0.4033 - val_accuracy: 0.7975\n",
      "Epoch 8/100\n",
      "4800/4800 [==============================] - 0s 28us/step - loss: 0.4446 - accuracy: 0.7806 - val_loss: 0.4023 - val_accuracy: 0.7975\n",
      "Epoch 9/100\n",
      "4800/4800 [==============================] - 0s 27us/step - loss: 0.4441 - accuracy: 0.7831 - val_loss: 0.4025 - val_accuracy: 0.7975\n",
      "Epoch 10/100\n",
      "4800/4800 [==============================] - 0s 26us/step - loss: 0.4432 - accuracy: 0.7794 - val_loss: 0.4026 - val_accuracy: 0.7992\n",
      "Epoch 11/100\n",
      "4800/4800 [==============================] - 0s 29us/step - loss: 0.4404 - accuracy: 0.7819 - val_loss: 0.4016 - val_accuracy: 0.8000\n",
      "Epoch 12/100\n",
      "4800/4800 [==============================] - 0s 29us/step - loss: 0.4389 - accuracy: 0.7788 - val_loss: 0.4004 - val_accuracy: 0.7967\n",
      "Epoch 13/100\n",
      "4800/4800 [==============================] - 0s 28us/step - loss: 0.4353 - accuracy: 0.7817 - val_loss: 0.4006 - val_accuracy: 0.7975\n",
      "Epoch 14/100\n",
      "4800/4800 [==============================] - 0s 28us/step - loss: 0.4335 - accuracy: 0.7833 - val_loss: 0.4011 - val_accuracy: 0.8025\n",
      "Epoch 15/100\n",
      "4800/4800 [==============================] - 0s 28us/step - loss: 0.4331 - accuracy: 0.7848 - val_loss: 0.4006 - val_accuracy: 0.7967\n",
      "Epoch 16/100\n",
      "4800/4800 [==============================] - 0s 31us/step - loss: 0.4379 - accuracy: 0.7862 - val_loss: 0.4019 - val_accuracy: 0.7967\n",
      "Epoch 17/100\n",
      "4800/4800 [==============================] - 0s 28us/step - loss: 0.4301 - accuracy: 0.7844 - val_loss: 0.4016 - val_accuracy: 0.8025\n",
      "Epoch 18/100\n",
      "4800/4800 [==============================] - 0s 28us/step - loss: 0.4342 - accuracy: 0.7871 - val_loss: 0.4017 - val_accuracy: 0.7958\n",
      "Epoch 19/100\n",
      "4800/4800 [==============================] - 0s 28us/step - loss: 0.4299 - accuracy: 0.7848 - val_loss: 0.4019 - val_accuracy: 0.8025\n",
      "Epoch 20/100\n",
      "4800/4800 [==============================] - 0s 29us/step - loss: 0.4327 - accuracy: 0.7865 - val_loss: 0.4012 - val_accuracy: 0.7933\n",
      "Epoch 21/100\n",
      "4800/4800 [==============================] - 0s 27us/step - loss: 0.4279 - accuracy: 0.7910 - val_loss: 0.4026 - val_accuracy: 0.8025\n",
      "Epoch 22/100\n",
      "4800/4800 [==============================] - 0s 30us/step - loss: 0.4327 - accuracy: 0.7877 - val_loss: 0.4020 - val_accuracy: 0.7950\n",
      "Epoch 23/100\n",
      "4800/4800 [==============================] - 0s 33us/step - loss: 0.4331 - accuracy: 0.7854 - val_loss: 0.4031 - val_accuracy: 0.7942\n",
      "Epoch 24/100\n",
      "4800/4800 [==============================] - 0s 32us/step - loss: 0.4337 - accuracy: 0.7879 - val_loss: 0.4038 - val_accuracy: 0.7933\n",
      "Epoch 25/100\n",
      "4800/4800 [==============================] - 0s 33us/step - loss: 0.4307 - accuracy: 0.7919 - val_loss: 0.4033 - val_accuracy: 0.7942\n",
      "Epoch 26/100\n",
      "4800/4800 [==============================] - 0s 33us/step - loss: 0.4341 - accuracy: 0.7854 - val_loss: 0.4038 - val_accuracy: 0.7950\n",
      "Epoch 27/100\n",
      "4800/4800 [==============================] - 0s 32us/step - loss: 0.4293 - accuracy: 0.7927 - val_loss: 0.4027 - val_accuracy: 0.7933\n",
      "Epoch 28/100\n",
      "4800/4800 [==============================] - 0s 26us/step - loss: 0.4322 - accuracy: 0.7848 - val_loss: 0.4031 - val_accuracy: 0.7933\n",
      "Epoch 29/100\n",
      "4800/4800 [==============================] - 0s 29us/step - loss: 0.4301 - accuracy: 0.7896 - val_loss: 0.4036 - val_accuracy: 0.7958\n",
      "Epoch 30/100\n",
      "4800/4800 [==============================] - 0s 35us/step - loss: 0.4327 - accuracy: 0.7873 - val_loss: 0.4028 - val_accuracy: 0.7933\n",
      "Epoch 31/100\n",
      "4800/4800 [==============================] - 0s 31us/step - loss: 0.4303 - accuracy: 0.7862 - val_loss: 0.4027 - val_accuracy: 0.7917\n",
      "Epoch 32/100\n",
      "4800/4800 [==============================] - 0s 24us/step - loss: 0.4286 - accuracy: 0.7954 - val_loss: 0.4026 - val_accuracy: 0.7950\n",
      "Epoch 33/100\n",
      "4800/4800 [==============================] - 0s 28us/step - loss: 0.4295 - accuracy: 0.7873 - val_loss: 0.4040 - val_accuracy: 0.7958\n",
      "Epoch 34/100\n",
      "4800/4800 [==============================] - 0s 42us/step - loss: 0.4301 - accuracy: 0.7908 - val_loss: 0.4038 - val_accuracy: 0.7942\n",
      "Epoch 35/100\n",
      "4800/4800 [==============================] - 0s 29us/step - loss: 0.4291 - accuracy: 0.7929 - val_loss: 0.4018 - val_accuracy: 0.7950\n",
      "Epoch 36/100\n",
      "4800/4800 [==============================] - 0s 37us/step - loss: 0.4295 - accuracy: 0.7935 - val_loss: 0.4032 - val_accuracy: 0.7983\n",
      "Epoch 37/100\n",
      "4800/4800 [==============================] - 0s 35us/step - loss: 0.4286 - accuracy: 0.7915 - val_loss: 0.4040 - val_accuracy: 0.7975\n",
      "Epoch 38/100\n",
      "4800/4800 [==============================] - 0s 33us/step - loss: 0.4304 - accuracy: 0.7921 - val_loss: 0.4040 - val_accuracy: 0.7950\n",
      "Epoch 39/100\n",
      "4800/4800 [==============================] - 0s 32us/step - loss: 0.4315 - accuracy: 0.7912 - val_loss: 0.4041 - val_accuracy: 0.7975\n",
      "Epoch 40/100\n",
      "4800/4800 [==============================] - 0s 26us/step - loss: 0.4300 - accuracy: 0.7904 - val_loss: 0.4048 - val_accuracy: 0.7992\n",
      "Epoch 41/100\n",
      "4800/4800 [==============================] - 0s 28us/step - loss: 0.4273 - accuracy: 0.7927 - val_loss: 0.4046 - val_accuracy: 0.7992\n",
      "Epoch 42/100\n",
      "4800/4800 [==============================] - 0s 25us/step - loss: 0.4328 - accuracy: 0.7915 - val_loss: 0.4054 - val_accuracy: 0.7958\n",
      "Epoch 43/100\n",
      "4800/4800 [==============================] - 0s 26us/step - loss: 0.4253 - accuracy: 0.7890 - val_loss: 0.4042 - val_accuracy: 0.7958\n",
      "Epoch 44/100\n",
      "4800/4800 [==============================] - 0s 27us/step - loss: 0.4296 - accuracy: 0.7931 - val_loss: 0.4040 - val_accuracy: 0.7958\n",
      "Epoch 45/100\n",
      "4800/4800 [==============================] - 0s 28us/step - loss: 0.4268 - accuracy: 0.7896 - val_loss: 0.4031 - val_accuracy: 0.7925\n",
      "Epoch 46/100\n",
      "4800/4800 [==============================] - 0s 31us/step - loss: 0.4263 - accuracy: 0.7915 - val_loss: 0.4036 - val_accuracy: 0.7917\n",
      "Epoch 47/100\n",
      "4800/4800 [==============================] - 0s 27us/step - loss: 0.4286 - accuracy: 0.7931 - val_loss: 0.4035 - val_accuracy: 0.7917\n",
      "Epoch 48/100\n",
      "4800/4800 [==============================] - 0s 25us/step - loss: 0.4253 - accuracy: 0.7919 - val_loss: 0.4037 - val_accuracy: 0.7975\n",
      "Epoch 49/100\n",
      "4800/4800 [==============================] - 0s 31us/step - loss: 0.4309 - accuracy: 0.7875 - val_loss: 0.4043 - val_accuracy: 0.7967\n",
      "Epoch 50/100\n",
      "4800/4800 [==============================] - 0s 28us/step - loss: 0.4291 - accuracy: 0.7906 - val_loss: 0.4033 - val_accuracy: 0.7958\n",
      "Epoch 51/100\n",
      "4800/4800 [==============================] - 0s 26us/step - loss: 0.4296 - accuracy: 0.7929 - val_loss: 0.4057 - val_accuracy: 0.7975\n",
      "Epoch 52/100\n",
      "4800/4800 [==============================] - 0s 28us/step - loss: 0.4274 - accuracy: 0.7929 - val_loss: 0.4050 - val_accuracy: 0.7967\n",
      "Epoch 53/100\n",
      "4800/4800 [==============================] - 0s 27us/step - loss: 0.4262 - accuracy: 0.7896 - val_loss: 0.4036 - val_accuracy: 0.7967\n",
      "Epoch 54/100\n",
      "4800/4800 [==============================] - 0s 30us/step - loss: 0.4280 - accuracy: 0.7923 - val_loss: 0.4028 - val_accuracy: 0.7967\n",
      "Epoch 55/100\n",
      "4800/4800 [==============================] - 0s 34us/step - loss: 0.4260 - accuracy: 0.7906 - val_loss: 0.4027 - val_accuracy: 0.7908\n",
      "Epoch 56/100\n"
     ]
    },
    {
     "name": "stdout",
     "output_type": "stream",
     "text": [
      "4800/4800 [==============================] - 0s 33us/step - loss: 0.4279 - accuracy: 0.7912 - val_loss: 0.4032 - val_accuracy: 0.7967\n",
      "Epoch 57/100\n",
      "4800/4800 [==============================] - 0s 33us/step - loss: 0.4297 - accuracy: 0.7910 - val_loss: 0.4043 - val_accuracy: 0.7950\n",
      "Epoch 58/100\n",
      "4800/4800 [==============================] - 0s 25us/step - loss: 0.4272 - accuracy: 0.7954 - val_loss: 0.4031 - val_accuracy: 0.7942\n",
      "Epoch 59/100\n",
      "4800/4800 [==============================] - 0s 27us/step - loss: 0.4252 - accuracy: 0.7942 - val_loss: 0.4043 - val_accuracy: 0.7950\n",
      "Epoch 60/100\n",
      "4800/4800 [==============================] - 0s 25us/step - loss: 0.4276 - accuracy: 0.7946 - val_loss: 0.4040 - val_accuracy: 0.7967\n",
      "Epoch 61/100\n",
      "4800/4800 [==============================] - 0s 25us/step - loss: 0.4279 - accuracy: 0.7923 - val_loss: 0.4048 - val_accuracy: 0.7967\n",
      "Epoch 62/100\n",
      "4800/4800 [==============================] - 0s 26us/step - loss: 0.4276 - accuracy: 0.7931 - val_loss: 0.4033 - val_accuracy: 0.7950\n",
      "Epoch 63/100\n",
      "4800/4800 [==============================] - 0s 29us/step - loss: 0.4272 - accuracy: 0.7919 - val_loss: 0.4035 - val_accuracy: 0.7983\n",
      "Epoch 64/100\n",
      "4800/4800 [==============================] - 0s 27us/step - loss: 0.4267 - accuracy: 0.7927 - val_loss: 0.4032 - val_accuracy: 0.7942\n",
      "Epoch 65/100\n",
      "4800/4800 [==============================] - 0s 28us/step - loss: 0.4257 - accuracy: 0.7954 - val_loss: 0.4038 - val_accuracy: 0.7967\n",
      "Epoch 66/100\n",
      "4800/4800 [==============================] - 0s 43us/step - loss: 0.4272 - accuracy: 0.7912 - val_loss: 0.4035 - val_accuracy: 0.7975\n",
      "Epoch 67/100\n",
      "4800/4800 [==============================] - 0s 24us/step - loss: 0.4258 - accuracy: 0.7948 - val_loss: 0.4041 - val_accuracy: 0.7975\n",
      "Epoch 68/100\n",
      "4800/4800 [==============================] - 0s 26us/step - loss: 0.4286 - accuracy: 0.7927 - val_loss: 0.4048 - val_accuracy: 0.7983\n",
      "Epoch 69/100\n",
      "4800/4800 [==============================] - 0s 24us/step - loss: 0.4275 - accuracy: 0.7927 - val_loss: 0.4048 - val_accuracy: 0.7958\n",
      "Epoch 70/100\n",
      "4800/4800 [==============================] - 0s 27us/step - loss: 0.4282 - accuracy: 0.7912 - val_loss: 0.4049 - val_accuracy: 0.7983\n",
      "Epoch 71/100\n",
      "4800/4800 [==============================] - 0s 24us/step - loss: 0.4285 - accuracy: 0.7869 - val_loss: 0.4045 - val_accuracy: 0.7983\n",
      "Epoch 72/100\n",
      "4800/4800 [==============================] - 0s 28us/step - loss: 0.4276 - accuracy: 0.7937 - val_loss: 0.4043 - val_accuracy: 0.7992\n",
      "Epoch 73/100\n",
      "4800/4800 [==============================] - 0s 28us/step - loss: 0.4285 - accuracy: 0.7933 - val_loss: 0.4053 - val_accuracy: 0.8008\n",
      "Epoch 74/100\n",
      "4800/4800 [==============================] - 0s 28us/step - loss: 0.4292 - accuracy: 0.7912 - val_loss: 0.4064 - val_accuracy: 0.7975\n",
      "Epoch 75/100\n",
      "4800/4800 [==============================] - 0s 30us/step - loss: 0.4253 - accuracy: 0.7931 - val_loss: 0.4063 - val_accuracy: 0.7992\n",
      "Epoch 76/100\n",
      "4800/4800 [==============================] - 0s 25us/step - loss: 0.4275 - accuracy: 0.7906 - val_loss: 0.4066 - val_accuracy: 0.7983\n",
      "Epoch 77/100\n",
      "4800/4800 [==============================] - 0s 24us/step - loss: 0.4242 - accuracy: 0.7944 - val_loss: 0.4056 - val_accuracy: 0.8008\n",
      "Epoch 78/100\n",
      "4800/4800 [==============================] - 0s 33us/step - loss: 0.4233 - accuracy: 0.7950 - val_loss: 0.4052 - val_accuracy: 0.7975\n",
      "Epoch 79/100\n",
      "4800/4800 [==============================] - 0s 30us/step - loss: 0.4280 - accuracy: 0.7883 - val_loss: 0.4059 - val_accuracy: 0.7975\n",
      "Epoch 80/100\n",
      "4800/4800 [==============================] - 0s 28us/step - loss: 0.4289 - accuracy: 0.7919 - val_loss: 0.4055 - val_accuracy: 0.7958\n",
      "Epoch 81/100\n",
      "4800/4800 [==============================] - 0s 24us/step - loss: 0.4257 - accuracy: 0.7931 - val_loss: 0.4058 - val_accuracy: 0.7992\n",
      "Epoch 82/100\n",
      "4800/4800 [==============================] - 0s 24us/step - loss: 0.4270 - accuracy: 0.7935 - val_loss: 0.4059 - val_accuracy: 0.8000\n",
      "Epoch 83/100\n",
      "4800/4800 [==============================] - 0s 29us/step - loss: 0.4286 - accuracy: 0.7925 - val_loss: 0.4050 - val_accuracy: 0.7975\n",
      "Epoch 84/100\n",
      "4800/4800 [==============================] - 0s 26us/step - loss: 0.4268 - accuracy: 0.7919 - val_loss: 0.4061 - val_accuracy: 0.8008\n",
      "Epoch 85/100\n",
      "4800/4800 [==============================] - 0s 27us/step - loss: 0.4266 - accuracy: 0.7942 - val_loss: 0.4066 - val_accuracy: 0.8025\n",
      "Epoch 86/100\n",
      "4800/4800 [==============================] - 0s 26us/step - loss: 0.4275 - accuracy: 0.7927 - val_loss: 0.4060 - val_accuracy: 0.8000\n",
      "Epoch 87/100\n",
      "4800/4800 [==============================] - 0s 27us/step - loss: 0.4262 - accuracy: 0.7898 - val_loss: 0.4045 - val_accuracy: 0.7975\n",
      "Epoch 88/100\n",
      "4800/4800 [==============================] - 0s 29us/step - loss: 0.4262 - accuracy: 0.7887 - val_loss: 0.4053 - val_accuracy: 0.8000\n",
      "Epoch 89/100\n",
      "4800/4800 [==============================] - 0s 23us/step - loss: 0.4249 - accuracy: 0.7935 - val_loss: 0.4053 - val_accuracy: 0.8000\n",
      "Epoch 90/100\n",
      "4800/4800 [==============================] - 0s 23us/step - loss: 0.4281 - accuracy: 0.7873 - val_loss: 0.4047 - val_accuracy: 0.8008\n",
      "Epoch 91/100\n",
      "4800/4800 [==============================] - 0s 24us/step - loss: 0.4265 - accuracy: 0.7887 - val_loss: 0.4053 - val_accuracy: 0.8000\n",
      "Epoch 92/100\n",
      "4800/4800 [==============================] - 0s 25us/step - loss: 0.4255 - accuracy: 0.7931 - val_loss: 0.4044 - val_accuracy: 0.8008\n",
      "Epoch 93/100\n",
      "4800/4800 [==============================] - 0s 25us/step - loss: 0.4271 - accuracy: 0.7915 - val_loss: 0.4044 - val_accuracy: 0.7992\n",
      "Epoch 94/100\n",
      "4800/4800 [==============================] - 0s 23us/step - loss: 0.4251 - accuracy: 0.7937 - val_loss: 0.4047 - val_accuracy: 0.8000\n",
      "Epoch 95/100\n",
      "4800/4800 [==============================] - 0s 26us/step - loss: 0.4265 - accuracy: 0.7919 - val_loss: 0.4045 - val_accuracy: 0.8033\n",
      "Epoch 96/100\n",
      "4800/4800 [==============================] - 0s 23us/step - loss: 0.4228 - accuracy: 0.7942 - val_loss: 0.4033 - val_accuracy: 0.8008\n",
      "Epoch 97/100\n",
      "4800/4800 [==============================] - 0s 25us/step - loss: 0.4261 - accuracy: 0.7892 - val_loss: 0.4038 - val_accuracy: 0.8000\n",
      "Epoch 98/100\n",
      "4800/4800 [==============================] - 0s 25us/step - loss: 0.4264 - accuracy: 0.7885 - val_loss: 0.4043 - val_accuracy: 0.8000\n",
      "Epoch 99/100\n",
      "4800/4800 [==============================] - 0s 25us/step - loss: 0.4278 - accuracy: 0.7904 - val_loss: 0.4046 - val_accuracy: 0.8008\n",
      "Epoch 100/100\n",
      "4800/4800 [==============================] - 0s 27us/step - loss: 0.4251 - accuracy: 0.7933 - val_loss: 0.4048 - val_accuracy: 0.8000\n"
     ]
    }
   ],
   "source": [
    "history = model.fit(X_train_scaled, y_train_categorical, epochs=100, batch_size=40,  verbose=1, validation_split=0.2)"
   ]
  },
  {
   "cell_type": "code",
   "execution_count": 314,
   "metadata": {},
   "outputs": [
    {
     "name": "stdout",
     "output_type": "stream",
     "text": [
      "Normal Neural Network - Loss: 0.4230881334356838, Accuracy: 0.7934008240699768\n"
     ]
    }
   ],
   "source": [
    "model_loss, model_accuracy = model.evaluate(\n",
    "    X_test_scaled, y_test_categorical, verbose=2)\n",
    "print(\n",
    "    f\"Normal Neural Network - Loss: {model_loss}, Accuracy: {model_accuracy}\")"
   ]
  },
  {
   "cell_type": "code",
   "execution_count": 315,
   "metadata": {},
   "outputs": [],
   "source": [
    "encoded_predictions = model.predict_classes(X_test_scaled[:5])\n",
    "prediction_labels = label_encoder.inverse_transform(encoded_predictions)"
   ]
  },
  {
   "cell_type": "code",
   "execution_count": 316,
   "metadata": {},
   "outputs": [
    {
     "name": "stdout",
     "output_type": "stream",
     "text": [
      "Predicted classes: ['85-90' '91-100' '85-90' '85-90' '85-90']\n",
      "Actual Labels: ['85-90' '85-90' '85-90' '85-90' '85-90']\n"
     ]
    }
   ],
   "source": [
    "print(f\"Predicted classes: {prediction_labels}\")\n",
    "print(f\"Actual Labels: {le.inverse_transform(list(y_test[:5]))}\")\n",
    "# print(f\"X Values: {list(X_test[:5])}\")"
   ]
  },
  {
   "cell_type": "code",
   "execution_count": 89,
   "metadata": {},
   "outputs": [],
   "source": [
    "# model.save('modelChardonnays.h5')"
   ]
  },
  {
   "cell_type": "code",
   "execution_count": 317,
   "metadata": {},
   "outputs": [],
   "source": [
    "def plot_history(history):\n",
    "    loss_list = [s for s in history.history.keys() if 'loss' in s and 'val' not in s]\n",
    "    val_loss_list = [s for s in history.history.keys() if 'loss' in s and 'val' in s]\n",
    "    acc_list = [s for s in history.history.keys() if 'acc' in s and 'val' not in s]\n",
    "    val_acc_list = [s for s in history.history.keys() if 'acc' in s and 'val' in s]\n",
    "    \n",
    "    if len(loss_list) == 0:\n",
    "        print('Loss is missing in history')\n",
    "        return \n",
    "    \n",
    "    ## As loss always exists\n",
    "    epochs = range(1,len(history.history[loss_list[0]]) + 1)\n",
    "    \n",
    "    ## Loss\n",
    "    plt.figure(1)\n",
    "    for l in loss_list:\n",
    "        plt.plot(epochs, history.history[l], 'b', label='Training loss (' + str(str(format(history.history[l][-1],'.5f'))+')'))\n",
    "    for l in val_loss_list:\n",
    "        plt.plot(epochs, history.history[l], 'g', label='Validation loss (' + str(str(format(history.history[l][-1],'.5f'))+')'))\n",
    "    \n",
    "    plt.title('Loss')\n",
    "    plt.xlabel('Epochs')\n",
    "    plt.ylabel('Loss')\n",
    "    plt.legend()\n",
    "    \n",
    "    ## Accuracy\n",
    "    plt.figure(2)\n",
    "    for l in acc_list:\n",
    "        plt.plot(epochs, history.history[l], 'b', label='Training accuracy (' + str(format(history.history[l][-1],'.5f'))+')')\n",
    "    for l in val_acc_list:    \n",
    "        plt.plot(epochs, history.history[l], 'g', label='Validation accuracy (' + str(format(history.history[l][-1],'.5f'))+')')\n",
    "\n",
    "    plt.title('Accuracy')\n",
    "    plt.xlabel('Epochs')\n",
    "    plt.ylabel('Accuracy')\n",
    "    plt.legend()\n",
    "    plt.show()\n"
   ]
  },
  {
   "cell_type": "code",
   "execution_count": 318,
   "metadata": {},
   "outputs": [
    {
     "data": {
      "image/png": "[encoded data removed]",
      "text/plain": [
       "<Figure size 432x288 with 1 Axes>"
      ]
     },
     "metadata": {
      "needs_background": "light"
     },
     "output_type": "display_data"
    },
    {
     "data": {
      "image/png": "[encoded data removed]",
      "text/plain": [
       "<Figure size 432x288 with 1 Axes>"
      ]
     },
     "metadata": {
      "needs_background": "light"
     },
     "output_type": "display_data"
    }
   ],
   "source": [
    "plot_history(history)"
   ]
  },
  {
   "cell_type": "code",
   "execution_count": 297,
   "metadata": {},
   "outputs": [],
   "source": [
    "def plot_confusion_matrix(cm, classes,\n",
    "                          normalize=True,\n",
    "                          cmap=plt.cm.Blues):\n",
    "    \"\"\"\n",
    "    This function prints and plots the confusion matrix.\n",
    "    Normalization can be applied by setting `normalize=True`.\n",
    "    \"\"\"\n",
    "    if normalize:\n",
    "        cm = cm.astype('float') / cm.sum(axis=1)[:, np.newaxis]\n",
    "        title='Normalized confusion matrix'\n",
    "    else:\n",
    "        title='Confusion matrix'\n",
    "\n",
    "    plt.imshow(cm, interpolation='nearest', cmap=cmap)\n",
    "    plt.title(title)\n",
    "    plt.colorbar()\n",
    "    tick_marks = np.arange(len(classes))\n",
    "    plt.xticks(tick_marks, classes, rotation=45)\n",
    "    plt.yticks(tick_marks, classes)\n",
    "\n",
    "    fmt = '.2f' if normalize else 'd'\n",
    "    thresh = cm.max() / 2.\n",
    "    for i, j in itertools.product(range(cm.shape[0]), range(cm.shape[1])):\n",
    "        plt.text(j, i, format(cm[i, j], fmt),\n",
    "                 horizontalalignment=\"center\",\n",
    "                 color=\"white\" if cm[i, j] > thresh else \"black\")\n",
    "\n",
    "    plt.tight_layout()\n",
    "    plt.ylabel('True label')\n",
    "    plt.xlabel('Predicted label')\n",
    "    plt.show()"
   ]
  },
  {
   "cell_type": "code",
   "execution_count": 298,
   "metadata": {},
   "outputs": [],
   "source": [
    "## multiclass or binary report\n",
    "## If binary (sigmoid output), set binary parameter to True\n",
    "def full_multiclass_report(model,\n",
    "                           x,\n",
    "                           y_true,\n",
    "                           classes,\n",
    "                           batch_size=32,\n",
    "                           binary=True):\n",
    "\n",
    "    # 1. Transform one-hot encoded y_true into their class number\n",
    "#     if not binary:\n",
    "#         y_true = np.argmax(y_true,axis=1)\n",
    "    \n",
    "    # 2. Predict classes and stores in y_pred\n",
    "    y_pred = model.predict_classes(x, batch_size=batch_size)\n",
    "    \n",
    "    # 3. Print accuracy score\n",
    "    print(\"Accuracy : \"+ str(accuracy_score(y_true,y_pred)))\n",
    "    \n",
    "    print(\"\")\n",
    "    \n",
    "    # 4. Print classification report\n",
    "    print(\"Classification Report\")\n",
    "    print(classification_report(y_true,y_pred,digits=5))    \n",
    "    \n",
    "    # 5. Plot confusion matrix\n",
    "    cnf_matrix = confusion_matrix(y_true,y_pred)\n",
    "    print(cnf_matrix)\n",
    "    plot_confusion_matrix(cnf_matrix,classes=classes)"
   ]
  },
  {
   "cell_type": "code",
   "execution_count": 299,
   "metadata": {},
   "outputs": [
    {
     "name": "stdout",
     "output_type": "stream",
     "text": [
      "Accuracy : 0.3328335832083958\n",
      "\n",
      "Classification Report\n",
      "              precision    recall  f1-score   support\n",
      "\n",
      "           0    1.00000   0.05920   0.11178      1419\n",
      "           1    0.30360   1.00000   0.46579       582\n",
      "\n",
      "    accuracy                        0.33283      2001\n",
      "   macro avg    0.65180   0.52960   0.28878      2001\n",
      "weighted avg    0.79745   0.33283   0.21474      2001\n",
      "\n",
      "[[  84 1335]\n",
      " [   0  582]]\n"
     ]
    },
    {
     "data": {
      "image/png": "[encoded data removed]",
      "text/plain": [
       "<Figure size 432x288 with 2 Axes>"
      ]
     },
     "metadata": {
      "needs_background": "light"
     },
     "output_type": "display_data"
    }
   ],
   "source": [
    "full_multiclass_report(model,\n",
    "                       x_val,\n",
    "                       y_val,\n",
    "                       le.inverse_transform(np.arange(2)))"
   ]
  },
  {
   "cell_type": "code",
   "execution_count": 287,
   "metadata": {},
   "outputs": [
    {
     "name": "stdout",
     "output_type": "stream",
     "text": [
      "[[ 0.          0.26657552 -0.40972933 -1.0773154   1.3605162 ]\n",
      " [ 0.          1.8215991  -0.40972933  0.25813058 -1.3828738 ]\n",
      " [ 0.          0.32211205 -0.40972933  1.0927843   1.0364938 ]\n",
      " ...\n",
      " [ 0.         -0.7330826  -0.40972933 -1.0773154  -0.25959596]\n",
      " [ 0.          0.15550236 -0.40972933  0.09119983 -0.02197952]\n",
      " [ 0.          0.15550236  1.9382898   1.4266459   1.2957116 ]]\n",
      "[0 0 0 ... 0 0 1]\n"
     ]
    }
   ],
   "source": [
    "\n",
    "print(X_test_scaled)\n",
    "print(y_test)\n"
   ]
  },
  {
   "cell_type": "code",
   "execution_count": 300,
   "metadata": {},
   "outputs": [
    {
     "name": "stdout",
     "output_type": "stream",
     "text": [
      "Accuracy : 0.787026621672291\n",
      "\n",
      "Classification Report\n",
      "              precision    recall  f1-score   support\n",
      "\n",
      "           0    0.82649   0.89109   0.85757      1919\n",
      "           1    0.65050   0.52005   0.57801       748\n",
      "\n",
      "    accuracy                        0.78703      2667\n",
      "   macro avg    0.73849   0.70557   0.71779      2667\n",
      "weighted avg    0.77713   0.78703   0.77916      2667\n",
      "\n",
      "[[1710  209]\n",
      " [ 359  389]]\n"
     ]
    },
    {
     "data": {
      "image/png": "[encoded data removed]",
      "text/plain": [
       "<Figure size 432x288 with 2 Axes>"
      ]
     },
     "metadata": {
      "needs_background": "light"
     },
     "output_type": "display_data"
    }
   ],
   "source": [
    "full_multiclass_report(model,\n",
    "                       X_test_scaled,\n",
    "                       y_test,\n",
    "                       le.inverse_transform(np.arange(2)))"
   ]
  },
  {
   "cell_type": "code",
   "execution_count": 309,
   "metadata": {},
   "outputs": [
    {
     "name": "stdout",
     "output_type": "stream",
     "text": [
      "Epoch 1/50\n",
      " - 1s - loss: 0.5236 - accuracy: 0.7278\n",
      "Epoch 2/50\n",
      " - 1s - loss: 0.4334 - accuracy: 0.7745\n",
      "Epoch 3/50\n",
      " - 1s - loss: 0.4218 - accuracy: 0.7860\n",
      "Epoch 4/50\n",
      " - 1s - loss: 0.4209 - accuracy: 0.7855\n",
      "Epoch 5/50\n",
      " - 1s - loss: 0.4194 - accuracy: 0.7883\n",
      "Epoch 6/50\n",
      " - 1s - loss: 0.4177 - accuracy: 0.7880\n",
      "Epoch 7/50\n",
      " - 1s - loss: 0.4169 - accuracy: 0.7872\n",
      "Epoch 8/50\n",
      " - 1s - loss: 0.4184 - accuracy: 0.7890\n",
      "Epoch 9/50\n",
      " - 1s - loss: 0.4186 - accuracy: 0.7895\n",
      "Epoch 10/50\n",
      " - 1s - loss: 0.4167 - accuracy: 0.7910\n",
      "Epoch 11/50\n",
      " - 1s - loss: 0.4175 - accuracy: 0.7893\n",
      "Epoch 12/50\n",
      " - 1s - loss: 0.4164 - accuracy: 0.7872\n",
      "Epoch 13/50\n",
      " - 1s - loss: 0.4170 - accuracy: 0.7908\n",
      "Epoch 14/50\n",
      " - 1s - loss: 0.4177 - accuracy: 0.7908\n",
      "Epoch 15/50\n",
      " - 1s - loss: 0.4167 - accuracy: 0.7915\n",
      "Epoch 16/50\n",
      " - 1s - loss: 0.4165 - accuracy: 0.7910\n",
      "Epoch 17/50\n",
      " - 1s - loss: 0.4158 - accuracy: 0.7908\n",
      "Epoch 18/50\n",
      " - 1s - loss: 0.4169 - accuracy: 0.7915\n",
      "Epoch 19/50\n",
      " - 1s - loss: 0.4153 - accuracy: 0.7910\n",
      "Epoch 20/50\n",
      " - 1s - loss: 0.4154 - accuracy: 0.7890\n",
      "Epoch 21/50\n",
      " - 1s - loss: 0.4163 - accuracy: 0.7915\n",
      "Epoch 22/50\n",
      " - 1s - loss: 0.4153 - accuracy: 0.7905\n",
      "Epoch 23/50\n",
      " - 1s - loss: 0.4144 - accuracy: 0.7928\n",
      "Epoch 24/50\n",
      " - 1s - loss: 0.4158 - accuracy: 0.7885\n",
      "Epoch 25/50\n",
      " - 1s - loss: 0.4148 - accuracy: 0.7895\n",
      "Epoch 26/50\n",
      " - 1s - loss: 0.4155 - accuracy: 0.7908\n",
      "Epoch 27/50\n"
     ]
    },
    {
     "ename": "KeyboardInterrupt",
     "evalue": "",
     "output_type": "error",
     "traceback": [
      "\u001b[1;31m---------------------------------------------------------------------------\u001b[0m",
      "\u001b[1;31mKeyboardInterrupt\u001b[0m                         Traceback (most recent call last)",
      "\u001b[1;32m<ipython-input-309-b953bf13df69>\u001b[0m in \u001b[0;36m<module>\u001b[1;34m\u001b[0m\n\u001b[0;32m     38\u001b[0m                     refit='precision_macro')\n\u001b[0;32m     39\u001b[0m \u001b[1;33m\u001b[0m\u001b[0m\n\u001b[1;32m---> 40\u001b[1;33m \u001b[0mgrid_results\u001b[0m \u001b[1;33m=\u001b[0m \u001b[0mgrid\u001b[0m\u001b[1;33m.\u001b[0m\u001b[0mfit\u001b[0m\u001b[1;33m(\u001b[0m\u001b[0mX_train_scaled\u001b[0m\u001b[1;33m,\u001b[0m\u001b[0my_train\u001b[0m\u001b[1;33m)\u001b[0m\u001b[1;33m\u001b[0m\u001b[1;33m\u001b[0m\u001b[0m\n\u001b[0m\u001b[0;32m     41\u001b[0m \u001b[1;33m\u001b[0m\u001b[0m\n\u001b[0;32m     42\u001b[0m \u001b[0mprint\u001b[0m\u001b[1;33m(\u001b[0m\u001b[1;34m'Parameters of the best model: '\u001b[0m\u001b[1;33m)\u001b[0m\u001b[1;33m\u001b[0m\u001b[1;33m\u001b[0m\u001b[0m\n",
      "\u001b[1;32m~\\Anaconda3\\lib\\site-packages\\sklearn\\model_selection\\_search.py\u001b[0m in \u001b[0;36mfit\u001b[1;34m(self, X, y, groups, **fit_params)\u001b[0m\n\u001b[0;32m    686\u001b[0m                 \u001b[1;32mreturn\u001b[0m \u001b[0mresults\u001b[0m\u001b[1;33m\u001b[0m\u001b[1;33m\u001b[0m\u001b[0m\n\u001b[0;32m    687\u001b[0m \u001b[1;33m\u001b[0m\u001b[0m\n\u001b[1;32m--> 688\u001b[1;33m             \u001b[0mself\u001b[0m\u001b[1;33m.\u001b[0m\u001b[0m_run_search\u001b[0m\u001b[1;33m(\u001b[0m\u001b[0mevaluate_candidates\u001b[0m\u001b[1;33m)\u001b[0m\u001b[1;33m\u001b[0m\u001b[1;33m\u001b[0m\u001b[0m\n\u001b[0m\u001b[0;32m    689\u001b[0m \u001b[1;33m\u001b[0m\u001b[0m\n\u001b[0;32m    690\u001b[0m         \u001b[1;31m# For multi-metric evaluation, store the best_index_, best_params_ and\u001b[0m\u001b[1;33m\u001b[0m\u001b[1;33m\u001b[0m\u001b[1;33m\u001b[0m\u001b[0m\n",
      "\u001b[1;32m~\\Anaconda3\\lib\\site-packages\\sklearn\\model_selection\\_search.py\u001b[0m in \u001b[0;36m_run_search\u001b[1;34m(self, evaluate_candidates)\u001b[0m\n\u001b[0;32m   1147\u001b[0m     \u001b[1;32mdef\u001b[0m \u001b[0m_run_search\u001b[0m\u001b[1;33m(\u001b[0m\u001b[0mself\u001b[0m\u001b[1;33m,\u001b[0m \u001b[0mevaluate_candidates\u001b[0m\u001b[1;33m)\u001b[0m\u001b[1;33m:\u001b[0m\u001b[1;33m\u001b[0m\u001b[1;33m\u001b[0m\u001b[0m\n\u001b[0;32m   1148\u001b[0m         \u001b[1;34m\"\"\"Search all candidates in param_grid\"\"\"\u001b[0m\u001b[1;33m\u001b[0m\u001b[1;33m\u001b[0m\u001b[0m\n\u001b[1;32m-> 1149\u001b[1;33m         \u001b[0mevaluate_candidates\u001b[0m\u001b[1;33m(\u001b[0m\u001b[0mParameterGrid\u001b[0m\u001b[1;33m(\u001b[0m\u001b[0mself\u001b[0m\u001b[1;33m.\u001b[0m\u001b[0mparam_grid\u001b[0m\u001b[1;33m)\u001b[0m\u001b[1;33m)\u001b[0m\u001b[1;33m\u001b[0m\u001b[1;33m\u001b[0m\u001b[0m\n\u001b[0m\u001b[0;32m   1150\u001b[0m \u001b[1;33m\u001b[0m\u001b[0m\n\u001b[0;32m   1151\u001b[0m \u001b[1;33m\u001b[0m\u001b[0m\n",
      "\u001b[1;32m~\\Anaconda3\\lib\\site-packages\\sklearn\\model_selection\\_search.py\u001b[0m in \u001b[0;36mevaluate_candidates\u001b[1;34m(candidate_params)\u001b[0m\n\u001b[0;32m    665\u001b[0m                                \u001b[1;32mfor\u001b[0m \u001b[0mparameters\u001b[0m\u001b[1;33m,\u001b[0m \u001b[1;33m(\u001b[0m\u001b[0mtrain\u001b[0m\u001b[1;33m,\u001b[0m \u001b[0mtest\u001b[0m\u001b[1;33m)\u001b[0m\u001b[1;33m\u001b[0m\u001b[1;33m\u001b[0m\u001b[0m\n\u001b[0;32m    666\u001b[0m                                in product(candidate_params,\n\u001b[1;32m--> 667\u001b[1;33m                                           cv.split(X, y, groups)))\n\u001b[0m\u001b[0;32m    668\u001b[0m \u001b[1;33m\u001b[0m\u001b[0m\n\u001b[0;32m    669\u001b[0m                 \u001b[1;32mif\u001b[0m \u001b[0mlen\u001b[0m\u001b[1;33m(\u001b[0m\u001b[0mout\u001b[0m\u001b[1;33m)\u001b[0m \u001b[1;33m<\u001b[0m \u001b[1;36m1\u001b[0m\u001b[1;33m:\u001b[0m\u001b[1;33m\u001b[0m\u001b[1;33m\u001b[0m\u001b[0m\n",
      "\u001b[1;32m~\\Anaconda3\\lib\\site-packages\\joblib\\parallel.py\u001b[0m in \u001b[0;36m__call__\u001b[1;34m(self, iterable)\u001b[0m\n\u001b[0;32m    919\u001b[0m             \u001b[1;31m# remaining jobs.\u001b[0m\u001b[1;33m\u001b[0m\u001b[1;33m\u001b[0m\u001b[1;33m\u001b[0m\u001b[0m\n\u001b[0;32m    920\u001b[0m             \u001b[0mself\u001b[0m\u001b[1;33m.\u001b[0m\u001b[0m_iterating\u001b[0m \u001b[1;33m=\u001b[0m \u001b[1;32mFalse\u001b[0m\u001b[1;33m\u001b[0m\u001b[1;33m\u001b[0m\u001b[0m\n\u001b[1;32m--> 921\u001b[1;33m             \u001b[1;32mif\u001b[0m \u001b[0mself\u001b[0m\u001b[1;33m.\u001b[0m\u001b[0mdispatch_one_batch\u001b[0m\u001b[1;33m(\u001b[0m\u001b[0miterator\u001b[0m\u001b[1;33m)\u001b[0m\u001b[1;33m:\u001b[0m\u001b[1;33m\u001b[0m\u001b[1;33m\u001b[0m\u001b[0m\n\u001b[0m\u001b[0;32m    922\u001b[0m                 \u001b[0mself\u001b[0m\u001b[1;33m.\u001b[0m\u001b[0m_iterating\u001b[0m \u001b[1;33m=\u001b[0m \u001b[0mself\u001b[0m\u001b[1;33m.\u001b[0m\u001b[0m_original_iterator\u001b[0m \u001b[1;32mis\u001b[0m \u001b[1;32mnot\u001b[0m \u001b[1;32mNone\u001b[0m\u001b[1;33m\u001b[0m\u001b[1;33m\u001b[0m\u001b[0m\n\u001b[0;32m    923\u001b[0m \u001b[1;33m\u001b[0m\u001b[0m\n",
      "\u001b[1;32m~\\Anaconda3\\lib\\site-packages\\joblib\\parallel.py\u001b[0m in \u001b[0;36mdispatch_one_batch\u001b[1;34m(self, iterator)\u001b[0m\n\u001b[0;32m    757\u001b[0m                 \u001b[1;32mreturn\u001b[0m \u001b[1;32mFalse\u001b[0m\u001b[1;33m\u001b[0m\u001b[1;33m\u001b[0m\u001b[0m\n\u001b[0;32m    758\u001b[0m             \u001b[1;32melse\u001b[0m\u001b[1;33m:\u001b[0m\u001b[1;33m\u001b[0m\u001b[1;33m\u001b[0m\u001b[0m\n\u001b[1;32m--> 759\u001b[1;33m                 \u001b[0mself\u001b[0m\u001b[1;33m.\u001b[0m\u001b[0m_dispatch\u001b[0m\u001b[1;33m(\u001b[0m\u001b[0mtasks\u001b[0m\u001b[1;33m)\u001b[0m\u001b[1;33m\u001b[0m\u001b[1;33m\u001b[0m\u001b[0m\n\u001b[0m\u001b[0;32m    760\u001b[0m                 \u001b[1;32mreturn\u001b[0m \u001b[1;32mTrue\u001b[0m\u001b[1;33m\u001b[0m\u001b[1;33m\u001b[0m\u001b[0m\n\u001b[0;32m    761\u001b[0m \u001b[1;33m\u001b[0m\u001b[0m\n",
      "\u001b[1;32m~\\Anaconda3\\lib\\site-packages\\joblib\\parallel.py\u001b[0m in \u001b[0;36m_dispatch\u001b[1;34m(self, batch)\u001b[0m\n\u001b[0;32m    714\u001b[0m         \u001b[1;32mwith\u001b[0m \u001b[0mself\u001b[0m\u001b[1;33m.\u001b[0m\u001b[0m_lock\u001b[0m\u001b[1;33m:\u001b[0m\u001b[1;33m\u001b[0m\u001b[1;33m\u001b[0m\u001b[0m\n\u001b[0;32m    715\u001b[0m             \u001b[0mjob_idx\u001b[0m \u001b[1;33m=\u001b[0m \u001b[0mlen\u001b[0m\u001b[1;33m(\u001b[0m\u001b[0mself\u001b[0m\u001b[1;33m.\u001b[0m\u001b[0m_jobs\u001b[0m\u001b[1;33m)\u001b[0m\u001b[1;33m\u001b[0m\u001b[1;33m\u001b[0m\u001b[0m\n\u001b[1;32m--> 716\u001b[1;33m             \u001b[0mjob\u001b[0m \u001b[1;33m=\u001b[0m \u001b[0mself\u001b[0m\u001b[1;33m.\u001b[0m\u001b[0m_backend\u001b[0m\u001b[1;33m.\u001b[0m\u001b[0mapply_async\u001b[0m\u001b[1;33m(\u001b[0m\u001b[0mbatch\u001b[0m\u001b[1;33m,\u001b[0m \u001b[0mcallback\u001b[0m\u001b[1;33m=\u001b[0m\u001b[0mcb\u001b[0m\u001b[1;33m)\u001b[0m\u001b[1;33m\u001b[0m\u001b[1;33m\u001b[0m\u001b[0m\n\u001b[0m\u001b[0;32m    717\u001b[0m             \u001b[1;31m# A job can complete so quickly than its callback is\u001b[0m\u001b[1;33m\u001b[0m\u001b[1;33m\u001b[0m\u001b[1;33m\u001b[0m\u001b[0m\n\u001b[0;32m    718\u001b[0m             \u001b[1;31m# called before we get here, causing self._jobs to\u001b[0m\u001b[1;33m\u001b[0m\u001b[1;33m\u001b[0m\u001b[1;33m\u001b[0m\u001b[0m\n",
      "\u001b[1;32m~\\Anaconda3\\lib\\site-packages\\joblib\\_parallel_backends.py\u001b[0m in \u001b[0;36mapply_async\u001b[1;34m(self, func, callback)\u001b[0m\n\u001b[0;32m    180\u001b[0m     \u001b[1;32mdef\u001b[0m \u001b[0mapply_async\u001b[0m\u001b[1;33m(\u001b[0m\u001b[0mself\u001b[0m\u001b[1;33m,\u001b[0m \u001b[0mfunc\u001b[0m\u001b[1;33m,\u001b[0m \u001b[0mcallback\u001b[0m\u001b[1;33m=\u001b[0m\u001b[1;32mNone\u001b[0m\u001b[1;33m)\u001b[0m\u001b[1;33m:\u001b[0m\u001b[1;33m\u001b[0m\u001b[1;33m\u001b[0m\u001b[0m\n\u001b[0;32m    181\u001b[0m         \u001b[1;34m\"\"\"Schedule a func to be run\"\"\"\u001b[0m\u001b[1;33m\u001b[0m\u001b[1;33m\u001b[0m\u001b[0m\n\u001b[1;32m--> 182\u001b[1;33m         \u001b[0mresult\u001b[0m \u001b[1;33m=\u001b[0m \u001b[0mImmediateResult\u001b[0m\u001b[1;33m(\u001b[0m\u001b[0mfunc\u001b[0m\u001b[1;33m)\u001b[0m\u001b[1;33m\u001b[0m\u001b[1;33m\u001b[0m\u001b[0m\n\u001b[0m\u001b[0;32m    183\u001b[0m         \u001b[1;32mif\u001b[0m \u001b[0mcallback\u001b[0m\u001b[1;33m:\u001b[0m\u001b[1;33m\u001b[0m\u001b[1;33m\u001b[0m\u001b[0m\n\u001b[0;32m    184\u001b[0m             \u001b[0mcallback\u001b[0m\u001b[1;33m(\u001b[0m\u001b[0mresult\u001b[0m\u001b[1;33m)\u001b[0m\u001b[1;33m\u001b[0m\u001b[1;33m\u001b[0m\u001b[0m\n",
      "\u001b[1;32m~\\Anaconda3\\lib\\site-packages\\joblib\\_parallel_backends.py\u001b[0m in \u001b[0;36m__init__\u001b[1;34m(self, batch)\u001b[0m\n\u001b[0;32m    547\u001b[0m         \u001b[1;31m# Don't delay the application, to avoid keeping the input\u001b[0m\u001b[1;33m\u001b[0m\u001b[1;33m\u001b[0m\u001b[1;33m\u001b[0m\u001b[0m\n\u001b[0;32m    548\u001b[0m         \u001b[1;31m# arguments in memory\u001b[0m\u001b[1;33m\u001b[0m\u001b[1;33m\u001b[0m\u001b[1;33m\u001b[0m\u001b[0m\n\u001b[1;32m--> 549\u001b[1;33m         \u001b[0mself\u001b[0m\u001b[1;33m.\u001b[0m\u001b[0mresults\u001b[0m \u001b[1;33m=\u001b[0m \u001b[0mbatch\u001b[0m\u001b[1;33m(\u001b[0m\u001b[1;33m)\u001b[0m\u001b[1;33m\u001b[0m\u001b[1;33m\u001b[0m\u001b[0m\n\u001b[0m\u001b[0;32m    550\u001b[0m \u001b[1;33m\u001b[0m\u001b[0m\n\u001b[0;32m    551\u001b[0m     \u001b[1;32mdef\u001b[0m \u001b[0mget\u001b[0m\u001b[1;33m(\u001b[0m\u001b[0mself\u001b[0m\u001b[1;33m)\u001b[0m\u001b[1;33m:\u001b[0m\u001b[1;33m\u001b[0m\u001b[1;33m\u001b[0m\u001b[0m\n",
      "\u001b[1;32m~\\Anaconda3\\lib\\site-packages\\joblib\\parallel.py\u001b[0m in \u001b[0;36m__call__\u001b[1;34m(self)\u001b[0m\n\u001b[0;32m    223\u001b[0m         \u001b[1;32mwith\u001b[0m \u001b[0mparallel_backend\u001b[0m\u001b[1;33m(\u001b[0m\u001b[0mself\u001b[0m\u001b[1;33m.\u001b[0m\u001b[0m_backend\u001b[0m\u001b[1;33m,\u001b[0m \u001b[0mn_jobs\u001b[0m\u001b[1;33m=\u001b[0m\u001b[0mself\u001b[0m\u001b[1;33m.\u001b[0m\u001b[0m_n_jobs\u001b[0m\u001b[1;33m)\u001b[0m\u001b[1;33m:\u001b[0m\u001b[1;33m\u001b[0m\u001b[1;33m\u001b[0m\u001b[0m\n\u001b[0;32m    224\u001b[0m             return [func(*args, **kwargs)\n\u001b[1;32m--> 225\u001b[1;33m                     for func, args, kwargs in self.items]\n\u001b[0m\u001b[0;32m    226\u001b[0m \u001b[1;33m\u001b[0m\u001b[0m\n\u001b[0;32m    227\u001b[0m     \u001b[1;32mdef\u001b[0m \u001b[0m__len__\u001b[0m\u001b[1;33m(\u001b[0m\u001b[0mself\u001b[0m\u001b[1;33m)\u001b[0m\u001b[1;33m:\u001b[0m\u001b[1;33m\u001b[0m\u001b[1;33m\u001b[0m\u001b[0m\n",
      "\u001b[1;32m~\\Anaconda3\\lib\\site-packages\\joblib\\parallel.py\u001b[0m in \u001b[0;36m<listcomp>\u001b[1;34m(.0)\u001b[0m\n\u001b[0;32m    223\u001b[0m         \u001b[1;32mwith\u001b[0m \u001b[0mparallel_backend\u001b[0m\u001b[1;33m(\u001b[0m\u001b[0mself\u001b[0m\u001b[1;33m.\u001b[0m\u001b[0m_backend\u001b[0m\u001b[1;33m,\u001b[0m \u001b[0mn_jobs\u001b[0m\u001b[1;33m=\u001b[0m\u001b[0mself\u001b[0m\u001b[1;33m.\u001b[0m\u001b[0m_n_jobs\u001b[0m\u001b[1;33m)\u001b[0m\u001b[1;33m:\u001b[0m\u001b[1;33m\u001b[0m\u001b[1;33m\u001b[0m\u001b[0m\n\u001b[0;32m    224\u001b[0m             return [func(*args, **kwargs)\n\u001b[1;32m--> 225\u001b[1;33m                     for func, args, kwargs in self.items]\n\u001b[0m\u001b[0;32m    226\u001b[0m \u001b[1;33m\u001b[0m\u001b[0m\n\u001b[0;32m    227\u001b[0m     \u001b[1;32mdef\u001b[0m \u001b[0m__len__\u001b[0m\u001b[1;33m(\u001b[0m\u001b[0mself\u001b[0m\u001b[1;33m)\u001b[0m\u001b[1;33m:\u001b[0m\u001b[1;33m\u001b[0m\u001b[1;33m\u001b[0m\u001b[0m\n",
      "\u001b[1;32m~\\Anaconda3\\lib\\site-packages\\sklearn\\model_selection\\_validation.py\u001b[0m in \u001b[0;36m_fit_and_score\u001b[1;34m(estimator, X, y, scorer, train, test, verbose, parameters, fit_params, return_train_score, return_parameters, return_n_test_samples, return_times, return_estimator, error_score)\u001b[0m\n\u001b[0;32m    514\u001b[0m             \u001b[0mestimator\u001b[0m\u001b[1;33m.\u001b[0m\u001b[0mfit\u001b[0m\u001b[1;33m(\u001b[0m\u001b[0mX_train\u001b[0m\u001b[1;33m,\u001b[0m \u001b[1;33m**\u001b[0m\u001b[0mfit_params\u001b[0m\u001b[1;33m)\u001b[0m\u001b[1;33m\u001b[0m\u001b[1;33m\u001b[0m\u001b[0m\n\u001b[0;32m    515\u001b[0m         \u001b[1;32melse\u001b[0m\u001b[1;33m:\u001b[0m\u001b[1;33m\u001b[0m\u001b[1;33m\u001b[0m\u001b[0m\n\u001b[1;32m--> 516\u001b[1;33m             \u001b[0mestimator\u001b[0m\u001b[1;33m.\u001b[0m\u001b[0mfit\u001b[0m\u001b[1;33m(\u001b[0m\u001b[0mX_train\u001b[0m\u001b[1;33m,\u001b[0m \u001b[0my_train\u001b[0m\u001b[1;33m,\u001b[0m \u001b[1;33m**\u001b[0m\u001b[0mfit_params\u001b[0m\u001b[1;33m)\u001b[0m\u001b[1;33m\u001b[0m\u001b[1;33m\u001b[0m\u001b[0m\n\u001b[0m\u001b[0;32m    517\u001b[0m \u001b[1;33m\u001b[0m\u001b[0m\n\u001b[0;32m    518\u001b[0m     \u001b[1;32mexcept\u001b[0m \u001b[0mException\u001b[0m \u001b[1;32mas\u001b[0m \u001b[0me\u001b[0m\u001b[1;33m:\u001b[0m\u001b[1;33m\u001b[0m\u001b[1;33m\u001b[0m\u001b[0m\n",
      "\u001b[1;32m~\\Anaconda3\\lib\\site-packages\\keras\\wrappers\\scikit_learn.py\u001b[0m in \u001b[0;36mfit\u001b[1;34m(self, x, y, sample_weight, **kwargs)\u001b[0m\n\u001b[0;32m    207\u001b[0m         \u001b[1;32mif\u001b[0m \u001b[0msample_weight\u001b[0m \u001b[1;32mis\u001b[0m \u001b[1;32mnot\u001b[0m \u001b[1;32mNone\u001b[0m\u001b[1;33m:\u001b[0m\u001b[1;33m\u001b[0m\u001b[1;33m\u001b[0m\u001b[0m\n\u001b[0;32m    208\u001b[0m             \u001b[0mkwargs\u001b[0m\u001b[1;33m[\u001b[0m\u001b[1;34m'sample_weight'\u001b[0m\u001b[1;33m]\u001b[0m \u001b[1;33m=\u001b[0m \u001b[0msample_weight\u001b[0m\u001b[1;33m\u001b[0m\u001b[1;33m\u001b[0m\u001b[0m\n\u001b[1;32m--> 209\u001b[1;33m         \u001b[1;32mreturn\u001b[0m \u001b[0msuper\u001b[0m\u001b[1;33m(\u001b[0m\u001b[0mKerasClassifier\u001b[0m\u001b[1;33m,\u001b[0m \u001b[0mself\u001b[0m\u001b[1;33m)\u001b[0m\u001b[1;33m.\u001b[0m\u001b[0mfit\u001b[0m\u001b[1;33m(\u001b[0m\u001b[0mx\u001b[0m\u001b[1;33m,\u001b[0m \u001b[0my\u001b[0m\u001b[1;33m,\u001b[0m \u001b[1;33m**\u001b[0m\u001b[0mkwargs\u001b[0m\u001b[1;33m)\u001b[0m\u001b[1;33m\u001b[0m\u001b[1;33m\u001b[0m\u001b[0m\n\u001b[0m\u001b[0;32m    210\u001b[0m \u001b[1;33m\u001b[0m\u001b[0m\n\u001b[0;32m    211\u001b[0m     \u001b[1;32mdef\u001b[0m \u001b[0mpredict\u001b[0m\u001b[1;33m(\u001b[0m\u001b[0mself\u001b[0m\u001b[1;33m,\u001b[0m \u001b[0mx\u001b[0m\u001b[1;33m,\u001b[0m \u001b[1;33m**\u001b[0m\u001b[0mkwargs\u001b[0m\u001b[1;33m)\u001b[0m\u001b[1;33m:\u001b[0m\u001b[1;33m\u001b[0m\u001b[1;33m\u001b[0m\u001b[0m\n",
      "\u001b[1;32m~\\Anaconda3\\lib\\site-packages\\keras\\wrappers\\scikit_learn.py\u001b[0m in \u001b[0;36mfit\u001b[1;34m(self, x, y, **kwargs)\u001b[0m\n\u001b[0;32m    149\u001b[0m         \u001b[0mfit_args\u001b[0m\u001b[1;33m.\u001b[0m\u001b[0mupdate\u001b[0m\u001b[1;33m(\u001b[0m\u001b[0mkwargs\u001b[0m\u001b[1;33m)\u001b[0m\u001b[1;33m\u001b[0m\u001b[1;33m\u001b[0m\u001b[0m\n\u001b[0;32m    150\u001b[0m \u001b[1;33m\u001b[0m\u001b[0m\n\u001b[1;32m--> 151\u001b[1;33m         \u001b[0mhistory\u001b[0m \u001b[1;33m=\u001b[0m \u001b[0mself\u001b[0m\u001b[1;33m.\u001b[0m\u001b[0mmodel\u001b[0m\u001b[1;33m.\u001b[0m\u001b[0mfit\u001b[0m\u001b[1;33m(\u001b[0m\u001b[0mx\u001b[0m\u001b[1;33m,\u001b[0m \u001b[0my\u001b[0m\u001b[1;33m,\u001b[0m \u001b[1;33m**\u001b[0m\u001b[0mfit_args\u001b[0m\u001b[1;33m)\u001b[0m\u001b[1;33m\u001b[0m\u001b[1;33m\u001b[0m\u001b[0m\n\u001b[0m\u001b[0;32m    152\u001b[0m \u001b[1;33m\u001b[0m\u001b[0m\n\u001b[0;32m    153\u001b[0m         \u001b[1;32mreturn\u001b[0m \u001b[0mhistory\u001b[0m\u001b[1;33m\u001b[0m\u001b[1;33m\u001b[0m\u001b[0m\n",
      "\u001b[1;32m~\\Anaconda3\\lib\\site-packages\\keras\\engine\\training.py\u001b[0m in \u001b[0;36mfit\u001b[1;34m(self, x, y, batch_size, epochs, verbose, callbacks, validation_split, validation_data, shuffle, class_weight, sample_weight, initial_epoch, steps_per_epoch, validation_steps, validation_freq, max_queue_size, workers, use_multiprocessing, **kwargs)\u001b[0m\n\u001b[0;32m   1237\u001b[0m                                         \u001b[0msteps_per_epoch\u001b[0m\u001b[1;33m=\u001b[0m\u001b[0msteps_per_epoch\u001b[0m\u001b[1;33m,\u001b[0m\u001b[1;33m\u001b[0m\u001b[1;33m\u001b[0m\u001b[0m\n\u001b[0;32m   1238\u001b[0m                                         \u001b[0mvalidation_steps\u001b[0m\u001b[1;33m=\u001b[0m\u001b[0mvalidation_steps\u001b[0m\u001b[1;33m,\u001b[0m\u001b[1;33m\u001b[0m\u001b[1;33m\u001b[0m\u001b[0m\n\u001b[1;32m-> 1239\u001b[1;33m                                         validation_freq=validation_freq)\n\u001b[0m\u001b[0;32m   1240\u001b[0m \u001b[1;33m\u001b[0m\u001b[0m\n\u001b[0;32m   1241\u001b[0m     def evaluate(self,\n",
      "\u001b[1;32m~\\Anaconda3\\lib\\site-packages\\keras\\engine\\training_arrays.py\u001b[0m in \u001b[0;36mfit_loop\u001b[1;34m(model, fit_function, fit_inputs, out_labels, batch_size, epochs, verbose, callbacks, val_function, val_inputs, shuffle, initial_epoch, steps_per_epoch, validation_steps, validation_freq)\u001b[0m\n\u001b[0;32m    194\u001b[0m                     \u001b[0mins_batch\u001b[0m\u001b[1;33m[\u001b[0m\u001b[0mi\u001b[0m\u001b[1;33m]\u001b[0m \u001b[1;33m=\u001b[0m \u001b[0mins_batch\u001b[0m\u001b[1;33m[\u001b[0m\u001b[0mi\u001b[0m\u001b[1;33m]\u001b[0m\u001b[1;33m.\u001b[0m\u001b[0mtoarray\u001b[0m\u001b[1;33m(\u001b[0m\u001b[1;33m)\u001b[0m\u001b[1;33m\u001b[0m\u001b[1;33m\u001b[0m\u001b[0m\n\u001b[0;32m    195\u001b[0m \u001b[1;33m\u001b[0m\u001b[0m\n\u001b[1;32m--> 196\u001b[1;33m                 \u001b[0mouts\u001b[0m \u001b[1;33m=\u001b[0m \u001b[0mfit_function\u001b[0m\u001b[1;33m(\u001b[0m\u001b[0mins_batch\u001b[0m\u001b[1;33m)\u001b[0m\u001b[1;33m\u001b[0m\u001b[1;33m\u001b[0m\u001b[0m\n\u001b[0m\u001b[0;32m    197\u001b[0m                 \u001b[0mouts\u001b[0m \u001b[1;33m=\u001b[0m \u001b[0mto_list\u001b[0m\u001b[1;33m(\u001b[0m\u001b[0mouts\u001b[0m\u001b[1;33m)\u001b[0m\u001b[1;33m\u001b[0m\u001b[1;33m\u001b[0m\u001b[0m\n\u001b[0;32m    198\u001b[0m                 \u001b[1;32mfor\u001b[0m \u001b[0ml\u001b[0m\u001b[1;33m,\u001b[0m \u001b[0mo\u001b[0m \u001b[1;32min\u001b[0m \u001b[0mzip\u001b[0m\u001b[1;33m(\u001b[0m\u001b[0mout_labels\u001b[0m\u001b[1;33m,\u001b[0m \u001b[0mouts\u001b[0m\u001b[1;33m)\u001b[0m\u001b[1;33m:\u001b[0m\u001b[1;33m\u001b[0m\u001b[1;33m\u001b[0m\u001b[0m\n",
      "\u001b[1;32m~\\Anaconda3\\lib\\site-packages\\tensorflow_core\\python\\keras\\backend.py\u001b[0m in \u001b[0;36m__call__\u001b[1;34m(self, inputs)\u001b[0m\n\u001b[0;32m   3725\u001b[0m         \u001b[0mvalue\u001b[0m \u001b[1;33m=\u001b[0m \u001b[0mmath_ops\u001b[0m\u001b[1;33m.\u001b[0m\u001b[0mcast\u001b[0m\u001b[1;33m(\u001b[0m\u001b[0mvalue\u001b[0m\u001b[1;33m,\u001b[0m \u001b[0mtensor\u001b[0m\u001b[1;33m.\u001b[0m\u001b[0mdtype\u001b[0m\u001b[1;33m)\u001b[0m\u001b[1;33m\u001b[0m\u001b[1;33m\u001b[0m\u001b[0m\n\u001b[0;32m   3726\u001b[0m       \u001b[0mconverted_inputs\u001b[0m\u001b[1;33m.\u001b[0m\u001b[0mappend\u001b[0m\u001b[1;33m(\u001b[0m\u001b[0mvalue\u001b[0m\u001b[1;33m)\u001b[0m\u001b[1;33m\u001b[0m\u001b[1;33m\u001b[0m\u001b[0m\n\u001b[1;32m-> 3727\u001b[1;33m     \u001b[0moutputs\u001b[0m \u001b[1;33m=\u001b[0m \u001b[0mself\u001b[0m\u001b[1;33m.\u001b[0m\u001b[0m_graph_fn\u001b[0m\u001b[1;33m(\u001b[0m\u001b[1;33m*\u001b[0m\u001b[0mconverted_inputs\u001b[0m\u001b[1;33m)\u001b[0m\u001b[1;33m\u001b[0m\u001b[1;33m\u001b[0m\u001b[0m\n\u001b[0m\u001b[0;32m   3728\u001b[0m \u001b[1;33m\u001b[0m\u001b[0m\n\u001b[0;32m   3729\u001b[0m     \u001b[1;31m# EagerTensor.numpy() will often make a copy to ensure memory safety.\u001b[0m\u001b[1;33m\u001b[0m\u001b[1;33m\u001b[0m\u001b[1;33m\u001b[0m\u001b[0m\n",
      "\u001b[1;32m~\\Anaconda3\\lib\\site-packages\\tensorflow_core\\python\\eager\\function.py\u001b[0m in \u001b[0;36m__call__\u001b[1;34m(self, *args, **kwargs)\u001b[0m\n\u001b[0;32m   1549\u001b[0m       \u001b[0mTypeError\u001b[0m\u001b[1;33m:\u001b[0m \u001b[0mFor\u001b[0m \u001b[0minvalid\u001b[0m \u001b[0mpositional\u001b[0m\u001b[1;33m/\u001b[0m\u001b[0mkeyword\u001b[0m \u001b[0margument\u001b[0m \u001b[0mcombinations\u001b[0m\u001b[1;33m.\u001b[0m\u001b[1;33m\u001b[0m\u001b[1;33m\u001b[0m\u001b[0m\n\u001b[0;32m   1550\u001b[0m     \"\"\"\n\u001b[1;32m-> 1551\u001b[1;33m     \u001b[1;32mreturn\u001b[0m \u001b[0mself\u001b[0m\u001b[1;33m.\u001b[0m\u001b[0m_call_impl\u001b[0m\u001b[1;33m(\u001b[0m\u001b[0margs\u001b[0m\u001b[1;33m,\u001b[0m \u001b[0mkwargs\u001b[0m\u001b[1;33m)\u001b[0m\u001b[1;33m\u001b[0m\u001b[1;33m\u001b[0m\u001b[0m\n\u001b[0m\u001b[0;32m   1552\u001b[0m \u001b[1;33m\u001b[0m\u001b[0m\n\u001b[0;32m   1553\u001b[0m   \u001b[1;32mdef\u001b[0m \u001b[0m_call_impl\u001b[0m\u001b[1;33m(\u001b[0m\u001b[0mself\u001b[0m\u001b[1;33m,\u001b[0m \u001b[0margs\u001b[0m\u001b[1;33m,\u001b[0m \u001b[0mkwargs\u001b[0m\u001b[1;33m,\u001b[0m \u001b[0mcancellation_manager\u001b[0m\u001b[1;33m=\u001b[0m\u001b[1;32mNone\u001b[0m\u001b[1;33m)\u001b[0m\u001b[1;33m:\u001b[0m\u001b[1;33m\u001b[0m\u001b[1;33m\u001b[0m\u001b[0m\n",
      "\u001b[1;32m~\\Anaconda3\\lib\\site-packages\\tensorflow_core\\python\\eager\\function.py\u001b[0m in \u001b[0;36m_call_impl\u001b[1;34m(self, args, kwargs, cancellation_manager)\u001b[0m\n\u001b[0;32m   1589\u001b[0m       raise TypeError(\"Keyword arguments {} unknown. Expected {}.\".format(\n\u001b[0;32m   1590\u001b[0m           list(kwargs.keys()), list(self._arg_keywords)))\n\u001b[1;32m-> 1591\u001b[1;33m     \u001b[1;32mreturn\u001b[0m \u001b[0mself\u001b[0m\u001b[1;33m.\u001b[0m\u001b[0m_call_flat\u001b[0m\u001b[1;33m(\u001b[0m\u001b[0margs\u001b[0m\u001b[1;33m,\u001b[0m \u001b[0mself\u001b[0m\u001b[1;33m.\u001b[0m\u001b[0mcaptured_inputs\u001b[0m\u001b[1;33m,\u001b[0m \u001b[0mcancellation_manager\u001b[0m\u001b[1;33m)\u001b[0m\u001b[1;33m\u001b[0m\u001b[1;33m\u001b[0m\u001b[0m\n\u001b[0m\u001b[0;32m   1592\u001b[0m \u001b[1;33m\u001b[0m\u001b[0m\n\u001b[0;32m   1593\u001b[0m   \u001b[1;32mdef\u001b[0m \u001b[0m_filtered_call\u001b[0m\u001b[1;33m(\u001b[0m\u001b[0mself\u001b[0m\u001b[1;33m,\u001b[0m \u001b[0margs\u001b[0m\u001b[1;33m,\u001b[0m \u001b[0mkwargs\u001b[0m\u001b[1;33m)\u001b[0m\u001b[1;33m:\u001b[0m\u001b[1;33m\u001b[0m\u001b[1;33m\u001b[0m\u001b[0m\n",
      "\u001b[1;32m~\\Anaconda3\\lib\\site-packages\\tensorflow_core\\python\\eager\\function.py\u001b[0m in \u001b[0;36m_call_flat\u001b[1;34m(self, args, captured_inputs, cancellation_manager)\u001b[0m\n\u001b[0;32m   1690\u001b[0m       \u001b[1;31m# No tape is watching; skip to running the function.\u001b[0m\u001b[1;33m\u001b[0m\u001b[1;33m\u001b[0m\u001b[1;33m\u001b[0m\u001b[0m\n\u001b[0;32m   1691\u001b[0m       return self._build_call_outputs(self._inference_function.call(\n\u001b[1;32m-> 1692\u001b[1;33m           ctx, args, cancellation_manager=cancellation_manager))\n\u001b[0m\u001b[0;32m   1693\u001b[0m     forward_backward = self._select_forward_and_backward_functions(\n\u001b[0;32m   1694\u001b[0m         \u001b[0margs\u001b[0m\u001b[1;33m,\u001b[0m\u001b[1;33m\u001b[0m\u001b[1;33m\u001b[0m\u001b[0m\n",
      "\u001b[1;32m~\\Anaconda3\\lib\\site-packages\\tensorflow_core\\python\\eager\\function.py\u001b[0m in \u001b[0;36mcall\u001b[1;34m(self, ctx, args, cancellation_manager)\u001b[0m\n\u001b[0;32m    543\u001b[0m               \u001b[0minputs\u001b[0m\u001b[1;33m=\u001b[0m\u001b[0margs\u001b[0m\u001b[1;33m,\u001b[0m\u001b[1;33m\u001b[0m\u001b[1;33m\u001b[0m\u001b[0m\n\u001b[0;32m    544\u001b[0m               \u001b[0mattrs\u001b[0m\u001b[1;33m=\u001b[0m\u001b[1;33m(\u001b[0m\u001b[1;34m\"executor_type\"\u001b[0m\u001b[1;33m,\u001b[0m \u001b[0mexecutor_type\u001b[0m\u001b[1;33m,\u001b[0m \u001b[1;34m\"config_proto\"\u001b[0m\u001b[1;33m,\u001b[0m \u001b[0mconfig\u001b[0m\u001b[1;33m)\u001b[0m\u001b[1;33m,\u001b[0m\u001b[1;33m\u001b[0m\u001b[1;33m\u001b[0m\u001b[0m\n\u001b[1;32m--> 545\u001b[1;33m               ctx=ctx)\n\u001b[0m\u001b[0;32m    546\u001b[0m         \u001b[1;32melse\u001b[0m\u001b[1;33m:\u001b[0m\u001b[1;33m\u001b[0m\u001b[1;33m\u001b[0m\u001b[0m\n\u001b[0;32m    547\u001b[0m           outputs = execute.execute_with_cancellation(\n",
      "\u001b[1;32m~\\Anaconda3\\lib\\site-packages\\tensorflow_core\\python\\eager\\execute.py\u001b[0m in \u001b[0;36mquick_execute\u001b[1;34m(op_name, num_outputs, inputs, attrs, ctx, name)\u001b[0m\n\u001b[0;32m     59\u001b[0m     tensors = pywrap_tensorflow.TFE_Py_Execute(ctx._handle, device_name,\n\u001b[0;32m     60\u001b[0m                                                \u001b[0mop_name\u001b[0m\u001b[1;33m,\u001b[0m \u001b[0minputs\u001b[0m\u001b[1;33m,\u001b[0m \u001b[0mattrs\u001b[0m\u001b[1;33m,\u001b[0m\u001b[1;33m\u001b[0m\u001b[1;33m\u001b[0m\u001b[0m\n\u001b[1;32m---> 61\u001b[1;33m                                                num_outputs)\n\u001b[0m\u001b[0;32m     62\u001b[0m   \u001b[1;32mexcept\u001b[0m \u001b[0mcore\u001b[0m\u001b[1;33m.\u001b[0m\u001b[0m_NotOkStatusException\u001b[0m \u001b[1;32mas\u001b[0m \u001b[0me\u001b[0m\u001b[1;33m:\u001b[0m\u001b[1;33m\u001b[0m\u001b[1;33m\u001b[0m\u001b[0m\n\u001b[0;32m     63\u001b[0m     \u001b[1;32mif\u001b[0m \u001b[0mname\u001b[0m \u001b[1;32mis\u001b[0m \u001b[1;32mnot\u001b[0m \u001b[1;32mNone\u001b[0m\u001b[1;33m:\u001b[0m\u001b[1;33m\u001b[0m\u001b[1;33m\u001b[0m\u001b[0m\n",
      "\u001b[1;31mKeyboardInterrupt\u001b[0m: "
     ]
    }
   ],
   "source": [
    "# GridSearch\n",
    "def create_model(dense_layers=[8],\n",
    "                 activation='relu',\n",
    "                 optimizer='rmsprop'):\n",
    "    model = Sequential()\n",
    "\n",
    "    for index, lsize in enumerate(dense_layers):\n",
    "        # Input Layer - includes the input_shape\n",
    "        if index == 0:\n",
    "            model.add(Dense(lsize,\n",
    "                            activation=activation,\n",
    "                            input_shape=(5,)))\n",
    "        else:\n",
    "            model.add(Dense(lsize,\n",
    "                            activation=activation))\n",
    "            \n",
    "    model.add(Dense(2,activation='sigmoid'))\n",
    "    model.compile(optimizer = optimizer,\n",
    "                  loss='categorical_crossentropy',\n",
    "                  metrics=['accuracy'])\n",
    "    return model\n",
    "\n",
    "model = KerasClassifier(build_fn=create_model,\n",
    "                        epochs=100, \n",
    "                        batch_size=50,\n",
    "                        verbose=2)\n",
    "\n",
    "param_grid = {'dense_layers': [[8,8],[10,8],[8,6]],\n",
    "              'activation':['relu','tanh'],\n",
    "              'optimizer':('rmsprop','adam'),\n",
    "              'epochs':[50,100],\n",
    "              'batch_size':[5,50]}\n",
    "\n",
    "grid = GridSearchCV(model,\n",
    "                    param_grid=param_grid,\n",
    "                    return_train_score=True,\n",
    "                    scoring=['precision_macro','recall_macro','f1_macro'],\n",
    "                    refit='precision_macro')\n",
    "\n",
    "grid_results = grid.fit(X_train_scaled,y_train)\n",
    "\n",
    "print('Parameters of the best model: ')\n",
    "print(grid_results.best_params_)"
   ]
  },
  {
   "cell_type": "code",
   "execution_count": null,
   "metadata": {},
   "outputs": [],
   "source": []
  },
  {
   "cell_type": "code",
   "execution_count": 199,
   "metadata": {},
   "outputs": [
    {
     "data": {
      "text/plain": [
       "array(['85-90', '91-100'], dtype=object)"
      ]
     },
     "execution_count": 199,
     "metadata": {},
     "output_type": "execute_result"
    }
   ],
   "source": [
    "le.inverse_transform(np.arange(2))"
   ]
  }
 ],
 "metadata": {
  "kernelspec": {
   "display_name": "Python 3",
   "language": "python",
   "name": "python3"
  },
  "language_info": {
   "codemirror_mode": {
    "name": "ipython",
    "version": 3
   },
   "file_extension": ".py",
   "mimetype": "text/x-python",
   "name": "python",
   "nbconvert_exporter": "python",
   "pygments_lexer": "ipython3",
   "version": "3.7.4"
  }
 },
 "nbformat": 4,
 "nbformat_minor": 2
}
