{
 "cells": [
  {
   "cell_type": "code",
   "execution_count": 31,
   "metadata": {},
   "outputs": [],
   "source": [
    "import pandas as pd\n",
    "import numpy as np\n",
    "import csv\n",
    "import glob\n",
    "from chardet.universaldetector import UniversalDetector\n"
   ]
  },
  {
   "cell_type": "code",
   "execution_count": 8,
   "metadata": {},
   "outputs": [
    {
     "name": "stdout",
     "output_type": "stream",
     "text": [
      "<_io.TextIOWrapper name='Resources/100_point_wine.xlsx' mode='r' encoding='cp1252'>\n"
     ]
    }
   ],
   "source": [
    "with open(\"Resources/100_point_wine.xlsx\") as f:\n",
    "    print(f)\n",
    "    "
   ]
  },
  {
   "cell_type": "code",
   "execution_count": 9,
   "metadata": {},
   "outputs": [
    {
     "name": "stdout",
     "output_type": "stream",
     "text": [
      "<_io.TextIOWrapper name='Resources/winemag-1-800.csv' mode='r' encoding='cp1252'>\n"
     ]
    }
   ],
   "source": [
    "with open(\"Resources/winemag-1-800.csv\") as f:\n",
    "    print(f)"
   ]
  },
  {
   "cell_type": "code",
   "execution_count": 10,
   "metadata": {},
   "outputs": [
    {
     "name": "stdout",
     "output_type": "stream",
     "text": [
      "<_io.TextIOWrapper name='Resources/winemag-801-1600.csv' mode='r' encoding='cp1252'>\n"
     ]
    }
   ],
   "source": [
    "with open(\"Resources/winemag-801-1600.csv\") as f:\n",
    "    print(f)"
   ]
  },
  {
   "cell_type": "code",
   "execution_count": 11,
   "metadata": {},
   "outputs": [
    {
     "name": "stdout",
     "output_type": "stream",
     "text": [
      "<_io.TextIOWrapper name='Resources/winemag-1601-2400.csv' mode='r' encoding='cp1252'>\n"
     ]
    }
   ],
   "source": [
    "with open(\"Resources/winemag-1601-2400.csv\") as f:\n",
    "    print(f)"
   ]
  },
  {
   "cell_type": "code",
   "execution_count": 12,
   "metadata": {},
   "outputs": [
    {
     "name": "stdout",
     "output_type": "stream",
     "text": [
      "<_io.TextIOWrapper name='Resources/winemag-2401-3200.csv' mode='r' encoding='cp1252'>\n"
     ]
    }
   ],
   "source": [
    "with open(\"Resources/winemag-2401-3200.csv\") as f:\n",
    "    print(f)"
   ]
  },
  {
   "cell_type": "code",
   "execution_count": 13,
   "metadata": {},
   "outputs": [
    {
     "name": "stdout",
     "output_type": "stream",
     "text": [
      "<_io.TextIOWrapper name='Resources/winemag-3201-4000.csv' mode='r' encoding='cp1252'>\n"
     ]
    }
   ],
   "source": [
    "with open(\"Resources/winemag-3201-4000.csv\") as f:\n",
    "    print(f)"
   ]
  },
  {
   "cell_type": "code",
   "execution_count": 14,
   "metadata": {},
   "outputs": [
    {
     "name": "stdout",
     "output_type": "stream",
     "text": [
      "<_io.TextIOWrapper name='Resources/winemag-4001-4800.csv' mode='r' encoding='cp1252'>\n"
     ]
    }
   ],
   "source": [
    "with open(\"Resources/winemag-4001-4800.csv\") as f:\n",
    "    print(f)"
   ]
  },
  {
   "cell_type": "code",
   "execution_count": 16,
   "metadata": {},
   "outputs": [
    {
     "name": "stdout",
     "output_type": "stream",
     "text": [
      "<_io.TextIOWrapper name='Resources/winemag-4801-5600.csv' mode='r' encoding='cp1252'>\n"
     ]
    }
   ],
   "source": [
    "with open(\"Resources/winemag-4801-5600.csv\") as f:\n",
    "    print(f)"
   ]
  },
  {
   "cell_type": "code",
   "execution_count": 17,
   "metadata": {},
   "outputs": [
    {
     "name": "stdout",
     "output_type": "stream",
     "text": [
      "<_io.TextIOWrapper name='Resources/winemag-5601-6400.csv' mode='r' encoding='cp1252'>\n"
     ]
    }
   ],
   "source": [
    "with open(\"Resources/winemag-5601-6400.csv\") as f:\n",
    "    print(f)"
   ]
  },
  {
   "cell_type": "code",
   "execution_count": 18,
   "metadata": {},
   "outputs": [
    {
     "name": "stdout",
     "output_type": "stream",
     "text": [
      "<_io.TextIOWrapper name='Resources/winemag-6401-7200.csv' mode='r' encoding='cp1252'>\n"
     ]
    }
   ],
   "source": [
    "with open(\"Resources/winemag-6401-7200.csv\") as f:\n",
    "    print(f)"
   ]
  },
  {
   "cell_type": "code",
   "execution_count": 19,
   "metadata": {},
   "outputs": [
    {
     "name": "stdout",
     "output_type": "stream",
     "text": [
      "<_io.TextIOWrapper name='Resources/winemag-7201-8000.csv' mode='r' encoding='cp1252'>\n"
     ]
    }
   ],
   "source": [
    "with open(\"Resources/winemag-7201-8000.csv\") as f:\n",
    "    print(f)"
   ]
  },
  {
   "cell_type": "code",
   "execution_count": 20,
   "metadata": {},
   "outputs": [
    {
     "name": "stdout",
     "output_type": "stream",
     "text": [
      "<_io.TextIOWrapper name='Resources/winemag-8001-8800.csv' mode='r' encoding='cp1252'>\n"
     ]
    }
   ],
   "source": [
    "with open(\"Resources/winemag-8001-8800.csv\") as f:\n",
    "    print(f)"
   ]
  },
  {
   "cell_type": "code",
   "execution_count": 21,
   "metadata": {},
   "outputs": [
    {
     "name": "stdout",
     "output_type": "stream",
     "text": [
      "<_io.TextIOWrapper name='Resources/winemag-8801-9600.csv' mode='r' encoding='cp1252'>\n"
     ]
    }
   ],
   "source": [
    "with open(\"Resources/winemag-8801-9600.csv\") as f:\n",
    "    print(f)"
   ]
  },
  {
   "cell_type": "code",
   "execution_count": 22,
   "metadata": {},
   "outputs": [
    {
     "name": "stdout",
     "output_type": "stream",
     "text": [
      "<_io.TextIOWrapper name='Resources/winemag-9601-10400.csv' mode='r' encoding='cp1252'>\n"
     ]
    }
   ],
   "source": [
    "with open(\"Resources/winemag-9601-10400.csv\") as f:\n",
    "    print(f)"
   ]
  },
  {
   "cell_type": "code",
   "execution_count": 23,
   "metadata": {},
   "outputs": [
    {
     "name": "stdout",
     "output_type": "stream",
     "text": [
      "<_io.TextIOWrapper name='Resources/winemag-10401-11200.csv' mode='r' encoding='cp1252'>\n"
     ]
    }
   ],
   "source": [
    "with open(\"Resources/winemag-10401-11200.csv\") as f:\n",
    "    print(f)"
   ]
  },
  {
   "cell_type": "code",
   "execution_count": 24,
   "metadata": {},
   "outputs": [
    {
     "name": "stdout",
     "output_type": "stream",
     "text": [
      "<_io.TextIOWrapper name='Resources/winemag-11201-12000.csv' mode='r' encoding='cp1252'>\n"
     ]
    }
   ],
   "source": [
    "with open(\"Resources/winemag-11201-12000.csv\") as f:\n",
    "    print(f)"
   ]
  },
  {
   "cell_type": "code",
   "execution_count": 26,
   "metadata": {},
   "outputs": [
    {
     "name": "stdout",
     "output_type": "stream",
     "text": [
      "<_io.TextIOWrapper name='Resources/winemag-12001-12800.csv' mode='r' encoding='cp1252'>\n"
     ]
    }
   ],
   "source": [
    "with open(\"Resources/winemag-12001-12800.csv\") as f:\n",
    "    print(f)"
   ]
  },
  {
   "cell_type": "code",
   "execution_count": 40,
   "metadata": {},
   "outputs": [
    {
     "name": "stdout",
     "output_type": "stream",
     "text": [
      "Resources\\winemag-1-800.csv                                 \n",
      "{'encoding': 'utf-8', 'confidence': 0.99, 'language': ''}\n",
      "Resources\\winemag-10401-11200.csv                           \n",
      "{'encoding': 'utf-8', 'confidence': 0.99, 'language': ''}\n",
      "Resources\\winemag-11201-12000.csv                           \n",
      "{'encoding': 'utf-8', 'confidence': 0.99, 'language': ''}\n",
      "Resources\\winemag-12001-12800.csv                           \n",
      "{'encoding': 'utf-8', 'confidence': 0.99, 'language': ''}\n",
      "Resources\\winemag-1601-2400.csv                             \n",
      "{'encoding': 'utf-8', 'confidence': 0.99, 'language': ''}\n",
      "Resources\\winemag-2401-3200.csv                             \n",
      "{'encoding': 'utf-8', 'confidence': 0.99, 'language': ''}\n",
      "Resources\\winemag-3201-4000.csv                             \n",
      "{'encoding': 'utf-8', 'confidence': 0.99, 'language': ''}\n",
      "Resources\\winemag-4001-4800.csv                             \n",
      "{'encoding': 'utf-8', 'confidence': 0.99, 'language': ''}\n",
      "Resources\\winemag-4801-5600.csv                             \n",
      "{'encoding': 'utf-8', 'confidence': 0.99, 'language': ''}\n",
      "Resources\\winemag-5601-6400.csv                             \n",
      "{'encoding': 'utf-8', 'confidence': 0.99, 'language': ''}\n",
      "Resources\\winemag-6401-7200.csv                             \n",
      "{'encoding': 'utf-8', 'confidence': 0.99, 'language': ''}\n",
      "Resources\\winemag-7201-8000.csv                             \n",
      "{'encoding': 'utf-8', 'confidence': 0.99, 'language': ''}\n",
      "Resources\\winemag-8001-8800.csv                             \n",
      "{'encoding': 'utf-8', 'confidence': 0.99, 'language': ''}\n",
      "Resources\\winemag-801-1600.csv                              \n",
      "{'encoding': 'utf-8', 'confidence': 0.99, 'language': ''}\n",
      "Resources\\winemag-8801-9600.csv                             \n",
      "{'encoding': 'utf-8', 'confidence': 0.99, 'language': ''}\n",
      "Resources\\winemag-9601-10400.csv                            \n",
      "{'encoding': 'utf-8', 'confidence': 0.99, 'language': ''}\n"
     ]
    }
   ],
   "source": [
    "detector = UniversalDetector()\n",
    "for filename in glob.glob('Resources/*.csv'):\n",
    "    print (filename.ljust(60)),\n",
    "    detector.reset()\n",
    "    for line in open(filename, 'rb'):\n",
    "        detector.feed(line)\n",
    "        if detector.done: break\n",
    "    detector.close()\n",
    "    print (detector.result)"
   ]
  },
  {
   "cell_type": "code",
   "execution_count": 36,
   "metadata": {},
   "outputs": [
    {
     "data": {
      "text/plain": [
       "{'encoding': None, 'confidence': 0.0, 'language': None}"
      ]
     },
     "execution_count": 36,
     "metadata": {},
     "output_type": "execute_result"
    }
   ],
   "source": [
    "detector.result"
   ]
  },
  {
   "cell_type": "code",
   "execution_count": null,
   "metadata": {},
   "outputs": [],
   "source": []
  }
 ],
 "metadata": {
  "kernelspec": {
   "display_name": "Python 3",
   "language": "python",
   "name": "python3"
  },
  "language_info": {
   "codemirror_mode": {
    "name": "ipython",
    "version": 3
   },
   "file_extension": ".py",
   "mimetype": "text/x-python",
   "name": "python",
   "nbconvert_exporter": "python",
   "pygments_lexer": "ipython3",
   "version": "3.7.4"
  }
 },
 "nbformat": 4,
 "nbformat_minor": 4
}
