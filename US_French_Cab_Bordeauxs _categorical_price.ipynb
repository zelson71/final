{
 "cells": [
  {
   "cell_type": "code",
   "execution_count": 2,
   "metadata": {},
   "outputs": [
    {
     "name": "stderr",
     "output_type": "stream",
     "text": [
      "Using TensorFlow backend.\n"
     ]
    }
   ],
   "source": [
    "import pandas as pd\n",
    "import tensorflow as tf\n",
    "import matplotlib.pyplot as plt\n",
    "import itertools\n",
    "import numpy as np\n",
    "from keras.models import Sequential\n",
    "from keras.layers import Dense, Dropout\n",
    "from sklearn.preprocessing import MinMaxScaler, LabelEncoder, StandardScaler\n",
    "from keras.utils import to_categorical\n",
    "from sklearn.model_selection import train_test_split, KFold, GridSearchCV\n",
    "from sklearn.metrics import confusion_matrix, classification_report, accuracy_score\n",
    "from keras.wrappers.scikit_learn import KerasClassifier\n",
    "%matplotlib inline"
   ]
  },
  {
   "cell_type": "code",
   "execution_count": 3,
   "metadata": {},
   "outputs": [
    {
     "data": {
      "text/html": [
       "<div>\n",
       "<style scoped>\n",
       "    .dataframe tbody tr th:only-of-type {\n",
       "        vertical-align: middle;\n",
       "    }\n",
       "\n",
       "    .dataframe tbody tr th {\n",
       "        vertical-align: top;\n",
       "    }\n",
       "\n",
       "    .dataframe thead th {\n",
       "        text-align: right;\n",
       "    }\n",
       "</style>\n",
       "<table border=\"1\" class=\"dataframe\">\n",
       "  <thead>\n",
       "    <tr style=\"text-align: right;\">\n",
       "      <th></th>\n",
       "      <th>ID</th>\n",
       "      <th>alcohol</th>\n",
       "      <th>category</th>\n",
       "      <th>country</th>\n",
       "      <th>description</th>\n",
       "      <th>designation</th>\n",
       "      <th>price</th>\n",
       "      <th>price_bin</th>\n",
       "      <th>rating</th>\n",
       "      <th>rating_bin</th>\n",
       "      <th>region</th>\n",
       "      <th>subregion</th>\n",
       "      <th>subsubregion</th>\n",
       "      <th>title</th>\n",
       "      <th>url</th>\n",
       "      <th>varietal</th>\n",
       "      <th>vintage</th>\n",
       "      <th>winery</th>\n",
       "    </tr>\n",
       "  </thead>\n",
       "  <tbody>\n",
       "    <tr>\n",
       "      <td>0</td>\n",
       "      <td>1</td>\n",
       "      <td>13.2</td>\n",
       "      <td>Red</td>\n",
       "      <td>US</td>\n",
       "      <td>This is among winemaker Cathy Corison's finest...</td>\n",
       "      <td>Kronos Vineyard</td>\n",
       "      <td>185.0</td>\n",
       "      <td>$100+</td>\n",
       "      <td>95</td>\n",
       "      <td>91-100</td>\n",
       "      <td>California</td>\n",
       "      <td>Napa</td>\n",
       "      <td>St. Helena</td>\n",
       "      <td>Corison 2015 Kronos Vineyard Cabernet Sauvigno...</td>\n",
       "      <td>https://www.winemag.com/buying-guide/corison-2...</td>\n",
       "      <td>Cabernet Sauvignon</td>\n",
       "      <td>2015</td>\n",
       "      <td>Corison</td>\n",
       "    </tr>\n",
       "    <tr>\n",
       "      <td>1</td>\n",
       "      <td>52</td>\n",
       "      <td>14.2</td>\n",
       "      <td>Red</td>\n",
       "      <td>US</td>\n",
       "      <td>This bottling by industry veterans John and He...</td>\n",
       "      <td>NaN</td>\n",
       "      <td>35.0</td>\n",
       "      <td>$25-$50</td>\n",
       "      <td>94</td>\n",
       "      <td>91-100</td>\n",
       "      <td>California</td>\n",
       "      <td>Central Coast</td>\n",
       "      <td>Paso Robles</td>\n",
       "      <td>Falcone 2016 Cabernet Sauvignon (Paso Robles)</td>\n",
       "      <td>https://www.winemag.com/buying-guide/falcone-2...</td>\n",
       "      <td>Cabernet Sauvignon</td>\n",
       "      <td>2016</td>\n",
       "      <td>Falcone</td>\n",
       "    </tr>\n",
       "    <tr>\n",
       "      <td>2</td>\n",
       "      <td>128</td>\n",
       "      <td>14.5</td>\n",
       "      <td>Red</td>\n",
       "      <td>US</td>\n",
       "      <td>Inky in the glass, this rich and structured bo...</td>\n",
       "      <td>Reserve</td>\n",
       "      <td>56.0</td>\n",
       "      <td>$51-$100</td>\n",
       "      <td>94</td>\n",
       "      <td>91-100</td>\n",
       "      <td>California</td>\n",
       "      <td>Central Coast</td>\n",
       "      <td>Paso Robles</td>\n",
       "      <td>Daou 2016 Reserve Cabernet Sauvignon (Paso Rob...</td>\n",
       "      <td>https://www.winemag.com/buying-guide/daou-2016...</td>\n",
       "      <td>Cabernet Sauvignon</td>\n",
       "      <td>2016</td>\n",
       "      <td>Daou</td>\n",
       "    </tr>\n",
       "    <tr>\n",
       "      <td>3</td>\n",
       "      <td>136</td>\n",
       "      <td>14.5</td>\n",
       "      <td>Red</td>\n",
       "      <td>US</td>\n",
       "      <td>This wine is pretty, floral and compact in red...</td>\n",
       "      <td>NaN</td>\n",
       "      <td>102.0</td>\n",
       "      <td>$100+</td>\n",
       "      <td>95</td>\n",
       "      <td>91-100</td>\n",
       "      <td>California</td>\n",
       "      <td>Napa</td>\n",
       "      <td>Napa Valley</td>\n",
       "      <td>Alpha Omega 2015 Cabernet Sauvignon (Napa Valley)</td>\n",
       "      <td>https://www.winemag.com/buying-guide/alpha-ome...</td>\n",
       "      <td>Cabernet Sauvignon</td>\n",
       "      <td>2015</td>\n",
       "      <td>Alpha Omega</td>\n",
       "    </tr>\n",
       "    <tr>\n",
       "      <td>4</td>\n",
       "      <td>161</td>\n",
       "      <td>14.7</td>\n",
       "      <td>Red</td>\n",
       "      <td>US</td>\n",
       "      <td>The producer's new Nomad collection includes b...</td>\n",
       "      <td>Nomad Beckstoffer Missouri Hopper Vineyard</td>\n",
       "      <td>175.0</td>\n",
       "      <td>$100+</td>\n",
       "      <td>95</td>\n",
       "      <td>91-100</td>\n",
       "      <td>California</td>\n",
       "      <td>Napa</td>\n",
       "      <td>Napa Valley</td>\n",
       "      <td>Stewart 2016 Nomad Beckstoffer Missouri Hopper...</td>\n",
       "      <td>https://www.winemag.com/buying-guide/stewart-2...</td>\n",
       "      <td>Cabernet Sauvignon</td>\n",
       "      <td>2016</td>\n",
       "      <td>Stewart</td>\n",
       "    </tr>\n",
       "  </tbody>\n",
       "</table>\n",
       "</div>"
      ],
      "text/plain": [
       "    ID  alcohol category country  \\\n",
       "0    1     13.2      Red      US   \n",
       "1   52     14.2      Red      US   \n",
       "2  128     14.5      Red      US   \n",
       "3  136     14.5      Red      US   \n",
       "4  161     14.7      Red      US   \n",
       "\n",
       "                                         description  \\\n",
       "0  This is among winemaker Cathy Corison's finest...   \n",
       "1  This bottling by industry veterans John and He...   \n",
       "2  Inky in the glass, this rich and structured bo...   \n",
       "3  This wine is pretty, floral and compact in red...   \n",
       "4  The producer's new Nomad collection includes b...   \n",
       "\n",
       "                                  designation  price price_bin  rating  \\\n",
       "0                             Kronos Vineyard  185.0     $100+      95   \n",
       "1                                         NaN   35.0   $25-$50      94   \n",
       "2                                     Reserve   56.0  $51-$100      94   \n",
       "3                                         NaN  102.0     $100+      95   \n",
       "4  Nomad Beckstoffer Missouri Hopper Vineyard  175.0     $100+      95   \n",
       "\n",
       "  rating_bin      region      subregion subsubregion  \\\n",
       "0     91-100  California           Napa   St. Helena   \n",
       "1     91-100  California  Central Coast  Paso Robles   \n",
       "2     91-100  California  Central Coast  Paso Robles   \n",
       "3     91-100  California           Napa  Napa Valley   \n",
       "4     91-100  California           Napa  Napa Valley   \n",
       "\n",
       "                                               title  \\\n",
       "0  Corison 2015 Kronos Vineyard Cabernet Sauvigno...   \n",
       "1      Falcone 2016 Cabernet Sauvignon (Paso Robles)   \n",
       "2  Daou 2016 Reserve Cabernet Sauvignon (Paso Rob...   \n",
       "3  Alpha Omega 2015 Cabernet Sauvignon (Napa Valley)   \n",
       "4  Stewart 2016 Nomad Beckstoffer Missouri Hopper...   \n",
       "\n",
       "                                                 url            varietal  \\\n",
       "0  https://www.winemag.com/buying-guide/corison-2...  Cabernet Sauvignon   \n",
       "1  https://www.winemag.com/buying-guide/falcone-2...  Cabernet Sauvignon   \n",
       "2  https://www.winemag.com/buying-guide/daou-2016...  Cabernet Sauvignon   \n",
       "3  https://www.winemag.com/buying-guide/alpha-ome...  Cabernet Sauvignon   \n",
       "4  https://www.winemag.com/buying-guide/stewart-2...  Cabernet Sauvignon   \n",
       "\n",
       "   vintage       winery  \n",
       "0     2015      Corison  \n",
       "1     2016      Falcone  \n",
       "2     2016         Daou  \n",
       "3     2015  Alpha Omega  \n",
       "4     2016      Stewart  "
      ]
     },
     "execution_count": 3,
     "metadata": {},
     "output_type": "execute_result"
    }
   ],
   "source": [
    "df = pd.read_csv('Resources/US_French_Cab_Bordeauxs.csv')\n",
    "df.head()"
   ]
  },
  {
   "cell_type": "code",
   "execution_count": 4,
   "metadata": {},
   "outputs": [
    {
     "data": {
      "text/html": [
       "<div>\n",
       "<style scoped>\n",
       "    .dataframe tbody tr th:only-of-type {\n",
       "        vertical-align: middle;\n",
       "    }\n",
       "\n",
       "    .dataframe tbody tr th {\n",
       "        vertical-align: top;\n",
       "    }\n",
       "\n",
       "    .dataframe thead th {\n",
       "        text-align: right;\n",
       "    }\n",
       "</style>\n",
       "<table border=\"1\" class=\"dataframe\">\n",
       "  <thead>\n",
       "    <tr style=\"text-align: right;\">\n",
       "      <th></th>\n",
       "      <th>country</th>\n",
       "      <th>price_bin</th>\n",
       "      <th>rating</th>\n",
       "      <th>region</th>\n",
       "      <th>subregion</th>\n",
       "      <th>subsubregion</th>\n",
       "    </tr>\n",
       "  </thead>\n",
       "  <tbody>\n",
       "    <tr>\n",
       "      <td>0</td>\n",
       "      <td>US</td>\n",
       "      <td>$100+</td>\n",
       "      <td>95</td>\n",
       "      <td>California</td>\n",
       "      <td>Napa</td>\n",
       "      <td>St. Helena</td>\n",
       "    </tr>\n",
       "    <tr>\n",
       "      <td>1</td>\n",
       "      <td>US</td>\n",
       "      <td>$25-$50</td>\n",
       "      <td>94</td>\n",
       "      <td>California</td>\n",
       "      <td>Central Coast</td>\n",
       "      <td>Paso Robles</td>\n",
       "    </tr>\n",
       "    <tr>\n",
       "      <td>2</td>\n",
       "      <td>US</td>\n",
       "      <td>$51-$100</td>\n",
       "      <td>94</td>\n",
       "      <td>California</td>\n",
       "      <td>Central Coast</td>\n",
       "      <td>Paso Robles</td>\n",
       "    </tr>\n",
       "    <tr>\n",
       "      <td>3</td>\n",
       "      <td>US</td>\n",
       "      <td>$100+</td>\n",
       "      <td>95</td>\n",
       "      <td>California</td>\n",
       "      <td>Napa</td>\n",
       "      <td>Napa Valley</td>\n",
       "    </tr>\n",
       "    <tr>\n",
       "      <td>4</td>\n",
       "      <td>US</td>\n",
       "      <td>$100+</td>\n",
       "      <td>95</td>\n",
       "      <td>California</td>\n",
       "      <td>Napa</td>\n",
       "      <td>Napa Valley</td>\n",
       "    </tr>\n",
       "  </tbody>\n",
       "</table>\n",
       "</div>"
      ],
      "text/plain": [
       "  country price_bin  rating      region      subregion subsubregion\n",
       "0      US     $100+      95  California           Napa   St. Helena\n",
       "1      US   $25-$50      94  California  Central Coast  Paso Robles\n",
       "2      US  $51-$100      94  California  Central Coast  Paso Robles\n",
       "3      US     $100+      95  California           Napa  Napa Valley\n",
       "4      US     $100+      95  California           Napa  Napa Valley"
      ]
     },
     "execution_count": 4,
     "metadata": {},
     "output_type": "execute_result"
    }
   ],
   "source": [
    "df = df.drop(['ID', 'alcohol', 'rating_bin', 'price','category', 'description', 'designation', 'title', 'url', 'varietal', 'vintage','winery'], axis=1)\n",
    "df.head()\n"
   ]
  },
  {
   "cell_type": "code",
   "execution_count": 5,
   "metadata": {},
   "outputs": [],
   "source": [
    "df = df.dropna(subset=['subsubregion'])"
   ]
  },
  {
   "cell_type": "code",
   "execution_count": 6,
   "metadata": {},
   "outputs": [],
   "source": [
    "X_df = pd.DataFrame(df)\n",
    "X_df['subregion'] = X_df['subregion'].astype(str)"
   ]
  },
  {
   "cell_type": "code",
   "execution_count": 7,
   "metadata": {},
   "outputs": [],
   "source": [
    "X = X_df.drop(\"price_bin\", axis=1)\n",
    "y = df[\"price_bin\"]"
   ]
  },
  {
   "cell_type": "code",
   "execution_count": 8,
   "metadata": {},
   "outputs": [
    {
     "data": {
      "text/html": [
       "<div>\n",
       "<style scoped>\n",
       "    .dataframe tbody tr th:only-of-type {\n",
       "        vertical-align: middle;\n",
       "    }\n",
       "\n",
       "    .dataframe tbody tr th {\n",
       "        vertical-align: top;\n",
       "    }\n",
       "\n",
       "    .dataframe thead th {\n",
       "        text-align: right;\n",
       "    }\n",
       "</style>\n",
       "<table border=\"1\" class=\"dataframe\">\n",
       "  <thead>\n",
       "    <tr style=\"text-align: right;\">\n",
       "      <th></th>\n",
       "      <th>country</th>\n",
       "      <th>rating</th>\n",
       "      <th>region</th>\n",
       "      <th>subregion</th>\n",
       "      <th>subsubregion</th>\n",
       "    </tr>\n",
       "  </thead>\n",
       "  <tbody>\n",
       "    <tr>\n",
       "      <td>0</td>\n",
       "      <td>0</td>\n",
       "      <td>15</td>\n",
       "      <td>0</td>\n",
       "      <td>8</td>\n",
       "      <td>126</td>\n",
       "    </tr>\n",
       "    <tr>\n",
       "      <td>1</td>\n",
       "      <td>0</td>\n",
       "      <td>14</td>\n",
       "      <td>0</td>\n",
       "      <td>1</td>\n",
       "      <td>80</td>\n",
       "    </tr>\n",
       "    <tr>\n",
       "      <td>2</td>\n",
       "      <td>0</td>\n",
       "      <td>14</td>\n",
       "      <td>0</td>\n",
       "      <td>1</td>\n",
       "      <td>80</td>\n",
       "    </tr>\n",
       "    <tr>\n",
       "      <td>3</td>\n",
       "      <td>0</td>\n",
       "      <td>15</td>\n",
       "      <td>0</td>\n",
       "      <td>8</td>\n",
       "      <td>67</td>\n",
       "    </tr>\n",
       "    <tr>\n",
       "      <td>4</td>\n",
       "      <td>0</td>\n",
       "      <td>15</td>\n",
       "      <td>0</td>\n",
       "      <td>8</td>\n",
       "      <td>67</td>\n",
       "    </tr>\n",
       "    <tr>\n",
       "      <td>...</td>\n",
       "      <td>...</td>\n",
       "      <td>...</td>\n",
       "      <td>...</td>\n",
       "      <td>...</td>\n",
       "      <td>...</td>\n",
       "    </tr>\n",
       "    <tr>\n",
       "      <td>18049</td>\n",
       "      <td>0</td>\n",
       "      <td>1</td>\n",
       "      <td>0</td>\n",
       "      <td>1</td>\n",
       "      <td>80</td>\n",
       "    </tr>\n",
       "    <tr>\n",
       "      <td>18051</td>\n",
       "      <td>0</td>\n",
       "      <td>2</td>\n",
       "      <td>0</td>\n",
       "      <td>1</td>\n",
       "      <td>101</td>\n",
       "    </tr>\n",
       "    <tr>\n",
       "      <td>18053</td>\n",
       "      <td>0</td>\n",
       "      <td>2</td>\n",
       "      <td>0</td>\n",
       "      <td>13</td>\n",
       "      <td>110</td>\n",
       "    </tr>\n",
       "    <tr>\n",
       "      <td>18054</td>\n",
       "      <td>0</td>\n",
       "      <td>2</td>\n",
       "      <td>0</td>\n",
       "      <td>8</td>\n",
       "      <td>93</td>\n",
       "    </tr>\n",
       "    <tr>\n",
       "      <td>18055</td>\n",
       "      <td>0</td>\n",
       "      <td>5</td>\n",
       "      <td>0</td>\n",
       "      <td>1</td>\n",
       "      <td>80</td>\n",
       "    </tr>\n",
       "  </tbody>\n",
       "</table>\n",
       "<p>13804 rows × 5 columns</p>\n",
       "</div>"
      ],
      "text/plain": [
       "       country  rating  region  subregion  subsubregion\n",
       "0            0      15       0          8           126\n",
       "1            0      14       0          1            80\n",
       "2            0      14       0          1            80\n",
       "3            0      15       0          8            67\n",
       "4            0      15       0          8            67\n",
       "...        ...     ...     ...        ...           ...\n",
       "18049        0       1       0          1            80\n",
       "18051        0       2       0          1           101\n",
       "18053        0       2       0         13           110\n",
       "18054        0       2       0          8            93\n",
       "18055        0       5       0          1            80\n",
       "\n",
       "[13804 rows x 5 columns]"
      ]
     },
     "execution_count": 8,
     "metadata": {},
     "output_type": "execute_result"
    }
   ],
   "source": [
    "X= X.apply(LabelEncoder().fit_transform)\n",
    "X"
   ]
  },
  {
   "cell_type": "code",
   "execution_count": 9,
   "metadata": {},
   "outputs": [
    {
     "name": "stdout",
     "output_type": "stream",
     "text": [
      "[[  0.  15.   0.   8. 126.]\n",
      " [  0.  14.   0.   1.  80.]\n",
      " [  0.  14.   0.   1.  80.]\n",
      " ...\n",
      " [  0.   2.   0.  13. 110.]\n",
      " [  0.   2.   0.   8.  93.]\n",
      " [  0.   5.   0.   1.  80.]]\n"
     ]
    }
   ],
   "source": [
    "X = X.values.astype(\"float32\")\n",
    "print(X)\n",
    "# y = y.values.astype(\"float32\")"
   ]
  },
  {
   "cell_type": "code",
   "execution_count": 10,
   "metadata": {},
   "outputs": [
    {
     "name": "stdout",
     "output_type": "stream",
     "text": [
      "0           $100+\n",
      "1         $25-$50\n",
      "2        $51-$100\n",
      "3           $100+\n",
      "4           $100+\n",
      "           ...   \n",
      "18049      $0-$25\n",
      "18051     $25-$50\n",
      "18053     $25-$50\n",
      "18054     $25-$50\n",
      "18055      $0-$25\n",
      "Name: price_bin, Length: 13804, dtype: object\n"
     ]
    },
    {
     "data": {
      "text/plain": [
       "array(['$0-$25', '$100+'], dtype=object)"
      ]
     },
     "execution_count": 10,
     "metadata": {},
     "output_type": "execute_result"
    }
   ],
   "source": [
    "le = LabelEncoder()\n",
    "le.fit(y)\n",
    "print(y)\n",
    "encoded_y = le.transform(y)\n",
    "encoded_y\n",
    "le.inverse_transform(np.arange(2))"
   ]
  },
  {
   "cell_type": "code",
   "execution_count": 11,
   "metadata": {},
   "outputs": [],
   "source": [
    "X_train, X_test, y_train, y_test = train_test_split(X, encoded_y, random_state=42)"
   ]
  },
  {
   "cell_type": "code",
   "execution_count": 12,
   "metadata": {},
   "outputs": [
    {
     "data": {
      "text/plain": [
       "array([3, 3, 2, ..., 2, 2, 2], dtype=int64)"
      ]
     },
     "execution_count": 12,
     "metadata": {},
     "output_type": "execute_result"
    }
   ],
   "source": [
    "le2 = LabelEncoder()\n",
    "le2.fit(y_train)\n",
    "encoded_y_train = le2.transform(y_train)\n",
    "encoded_y_test = le2.transform(y_test)\n",
    "encoded_y_test\n",
    "# len(encoded_y_train)"
   ]
  },
  {
   "cell_type": "code",
   "execution_count": 13,
   "metadata": {},
   "outputs": [],
   "source": [
    "X_train, x_val, y_train, y_val = train_test_split(X_train, encoded_y_train, random_state=42)"
   ]
  },
  {
   "cell_type": "code",
   "execution_count": 36,
   "metadata": {},
   "outputs": [
    {
     "name": "stdout",
     "output_type": "stream",
     "text": [
      "7764\n"
     ]
    }
   ],
   "source": [
    "y_train_categorical = to_categorical(y_train)\n",
    "y_test_categorical = to_categorical(y_test)\n",
    "print(len(y_train_categorical))\n",
    "len(X_train)\n",
    "y_val_categorical = to_categorical(y_val)"
   ]
  },
  {
   "cell_type": "code",
   "execution_count": 15,
   "metadata": {},
   "outputs": [],
   "source": [
    "scaler_model = StandardScaler()"
   ]
  },
  {
   "cell_type": "code",
   "execution_count": 16,
   "metadata": {},
   "outputs": [],
   "source": [
    "X_scaler = scaler_model.fit(X_train)"
   ]
  },
  {
   "cell_type": "code",
   "execution_count": 17,
   "metadata": {},
   "outputs": [],
   "source": [
    "X_train_scaled = X_scaler.transform(X_train)\n",
    "X_test_scaled = X_scaler.transform(X_test)"
   ]
  },
  {
   "cell_type": "code",
   "execution_count": 18,
   "metadata": {},
   "outputs": [
    {
     "data": {
      "text/plain": [
       "5"
      ]
     },
     "execution_count": 18,
     "metadata": {},
     "output_type": "execute_result"
    }
   ],
   "source": [
    "input_dims = X_train.shape[1]\n",
    "input_dims"
   ]
  },
  {
   "cell_type": "code",
   "execution_count": 19,
   "metadata": {
    "scrolled": true
   },
   "outputs": [
    {
     "name": "stdout",
     "output_type": "stream",
     "text": [
      "Model: \"sequential_1\"\n",
      "_________________________________________________________________\n",
      "Layer (type)                 Output Shape              Param #   \n",
      "=================================================================\n",
      "dense_1 (Dense)              (None, 64)                384       \n",
      "_________________________________________________________________\n",
      "dense_2 (Dense)              (None, 4)                 260       \n",
      "=================================================================\n",
      "Total params: 644\n",
      "Trainable params: 644\n",
      "Non-trainable params: 0\n",
      "_________________________________________________________________\n"
     ]
    }
   ],
   "source": [
    "model = Sequential()\n",
    "model.add(Dense(64, activation = 'relu', kernel_initializer='glorot_uniform', input_dim=(input_dims)))\n",
    "# model.add(Dense(64, activation = 'relu'))\n",
    "# model.add(Dense(32, activation = 'relu'))\n",
    "model.add(Dense(4, activation='softmax'))\n",
    "model.summary()"
   ]
  },
  {
   "cell_type": "code",
   "execution_count": 20,
   "metadata": {},
   "outputs": [],
   "source": [
    "model.compile(optimizer='adam', loss='categorical_crossentropy', metrics=['accuracy'])"
   ]
  },
  {
   "cell_type": "code",
   "execution_count": 21,
   "metadata": {
    "scrolled": false
   },
   "outputs": [
    {
     "name": "stdout",
     "output_type": "stream",
     "text": [
      "Train on 6211 samples, validate on 1553 samples\n",
      "Epoch 1/100\n",
      "6211/6211 [==============================] - 1s 96us/step - loss: 1.1237 - accuracy: 0.4961 - val_loss: 1.0077 - val_accuracy: 0.5364\n",
      "Epoch 2/100\n",
      "6211/6211 [==============================] - 0s 46us/step - loss: 1.0071 - accuracy: 0.5321 - val_loss: 0.9713 - val_accuracy: 0.5351\n",
      "Epoch 3/100\n",
      "6211/6211 [==============================] - 0s 46us/step - loss: 0.9857 - accuracy: 0.5371 - val_loss: 0.9606 - val_accuracy: 0.5557\n",
      "Epoch 4/100\n",
      "6211/6211 [==============================] - 0s 65us/step - loss: 0.9782 - accuracy: 0.5434 - val_loss: 0.9560 - val_accuracy: 0.5505\n",
      "Epoch 5/100\n",
      "6211/6211 [==============================] - 0s 50us/step - loss: 0.9750 - accuracy: 0.5474 - val_loss: 0.9533 - val_accuracy: 0.5596\n",
      "Epoch 6/100\n",
      "6211/6211 [==============================] - 0s 47us/step - loss: 0.9718 - accuracy: 0.5502 - val_loss: 0.9553 - val_accuracy: 0.5628\n",
      "Epoch 7/100\n",
      "6211/6211 [==============================] - 0s 53us/step - loss: 0.9714 - accuracy: 0.5487 - val_loss: 0.9524 - val_accuracy: 0.5647\n",
      "Epoch 8/100\n",
      "6211/6211 [==============================] - 0s 54us/step - loss: 0.9708 - accuracy: 0.5489 - val_loss: 0.9542 - val_accuracy: 0.5666\n",
      "Epoch 9/100\n",
      "6211/6211 [==============================] - 0s 60us/step - loss: 0.9696 - accuracy: 0.5487 - val_loss: 0.9511 - val_accuracy: 0.5563\n",
      "Epoch 10/100\n",
      "6211/6211 [==============================] - 0s 62us/step - loss: 0.9687 - accuracy: 0.5502 - val_loss: 0.9498 - val_accuracy: 0.5544\n",
      "Epoch 11/100\n",
      "6211/6211 [==============================] - 0s 49us/step - loss: 0.9685 - accuracy: 0.5495 - val_loss: 0.9490 - val_accuracy: 0.5538\n",
      "Epoch 12/100\n",
      "6211/6211 [==============================] - 0s 46us/step - loss: 0.9679 - accuracy: 0.5540 - val_loss: 0.9516 - val_accuracy: 0.5454\n",
      "Epoch 13/100\n",
      "6211/6211 [==============================] - 0s 48us/step - loss: 0.9683 - accuracy: 0.5479 - val_loss: 0.9502 - val_accuracy: 0.5531\n",
      "Epoch 14/100\n",
      "6211/6211 [==============================] - 0s 46us/step - loss: 0.9666 - accuracy: 0.5497 - val_loss: 0.9524 - val_accuracy: 0.5544\n",
      "Epoch 15/100\n",
      "6211/6211 [==============================] - 0s 51us/step - loss: 0.9667 - accuracy: 0.5518 - val_loss: 0.9491 - val_accuracy: 0.5557\n",
      "Epoch 16/100\n",
      "6211/6211 [==============================] - 0s 43us/step - loss: 0.9657 - accuracy: 0.5535 - val_loss: 0.9480 - val_accuracy: 0.5563\n",
      "Epoch 17/100\n",
      "6211/6211 [==============================] - 0s 45us/step - loss: 0.9651 - accuracy: 0.5502 - val_loss: 0.9505 - val_accuracy: 0.5596\n",
      "Epoch 18/100\n",
      "6211/6211 [==============================] - 0s 55us/step - loss: 0.9656 - accuracy: 0.5513 - val_loss: 0.9483 - val_accuracy: 0.5531\n",
      "Epoch 19/100\n",
      "6211/6211 [==============================] - 0s 65us/step - loss: 0.9650 - accuracy: 0.5518 - val_loss: 0.9502 - val_accuracy: 0.5525\n",
      "Epoch 20/100\n",
      "6211/6211 [==============================] - 1s 81us/step - loss: 0.9647 - accuracy: 0.5539 - val_loss: 0.9492 - val_accuracy: 0.5660\n",
      "Epoch 21/100\n",
      "6211/6211 [==============================] - 1s 93us/step - loss: 0.9644 - accuracy: 0.5489 - val_loss: 0.9484 - val_accuracy: 0.5531\n",
      "Epoch 22/100\n",
      "6211/6211 [==============================] - 1s 82us/step - loss: 0.9643 - accuracy: 0.5498 - val_loss: 0.9481 - val_accuracy: 0.5570\n",
      "Epoch 23/100\n",
      "6211/6211 [==============================] - 0s 70us/step - loss: 0.9637 - accuracy: 0.5542 - val_loss: 0.9498 - val_accuracy: 0.5551\n",
      "Epoch 24/100\n",
      "6211/6211 [==============================] - 0s 73us/step - loss: 0.9647 - accuracy: 0.5526 - val_loss: 0.9507 - val_accuracy: 0.5538\n",
      "Epoch 25/100\n",
      "6211/6211 [==============================] - 0s 71us/step - loss: 0.9639 - accuracy: 0.5587 - val_loss: 0.9516 - val_accuracy: 0.5531\n",
      "Epoch 26/100\n",
      "6211/6211 [==============================] - 0s 72us/step - loss: 0.9636 - accuracy: 0.5473 - val_loss: 0.9478 - val_accuracy: 0.5660\n",
      "Epoch 27/100\n",
      "6211/6211 [==============================] - 0s 52us/step - loss: 0.9635 - accuracy: 0.5506 - val_loss: 0.9501 - val_accuracy: 0.5570\n",
      "Epoch 28/100\n",
      "6211/6211 [==============================] - 0s 49us/step - loss: 0.9627 - accuracy: 0.5516 - val_loss: 0.9502 - val_accuracy: 0.5576\n",
      "Epoch 29/100\n",
      "6211/6211 [==============================] - 0s 47us/step - loss: 0.9633 - accuracy: 0.5519 - val_loss: 0.9505 - val_accuracy: 0.5563\n",
      "Epoch 30/100\n",
      "6211/6211 [==============================] - 0s 48us/step - loss: 0.9624 - accuracy: 0.5516 - val_loss: 0.9482 - val_accuracy: 0.5576\n",
      "Epoch 31/100\n",
      "6211/6211 [==============================] - 0s 50us/step - loss: 0.9613 - accuracy: 0.5524 - val_loss: 0.9521 - val_accuracy: 0.5512\n",
      "Epoch 32/100\n",
      "6211/6211 [==============================] - 0s 47us/step - loss: 0.9609 - accuracy: 0.5534 - val_loss: 0.9494 - val_accuracy: 0.5570\n",
      "Epoch 33/100\n",
      "6211/6211 [==============================] - 0s 43us/step - loss: 0.9620 - accuracy: 0.5551 - val_loss: 0.9490 - val_accuracy: 0.5531\n",
      "Epoch 34/100\n",
      "6211/6211 [==============================] - 0s 44us/step - loss: 0.9610 - accuracy: 0.5518 - val_loss: 0.9531 - val_accuracy: 0.5505\n",
      "Epoch 35/100\n",
      "6211/6211 [==============================] - 0s 46us/step - loss: 0.9621 - accuracy: 0.5548 - val_loss: 0.9515 - val_accuracy: 0.5589\n",
      "Epoch 36/100\n",
      "6211/6211 [==============================] - 0s 47us/step - loss: 0.9604 - accuracy: 0.5540 - val_loss: 0.9475 - val_accuracy: 0.5589\n",
      "Epoch 37/100\n",
      "6211/6211 [==============================] - 0s 46us/step - loss: 0.9600 - accuracy: 0.5566 - val_loss: 0.9466 - val_accuracy: 0.5589\n",
      "Epoch 38/100\n",
      "6211/6211 [==============================] - 0s 46us/step - loss: 0.9597 - accuracy: 0.5545 - val_loss: 0.9473 - val_accuracy: 0.5563\n",
      "Epoch 39/100\n",
      "6211/6211 [==============================] - 0s 45us/step - loss: 0.9597 - accuracy: 0.5516 - val_loss: 0.9493 - val_accuracy: 0.5576\n",
      "Epoch 40/100\n",
      "6211/6211 [==============================] - 0s 48us/step - loss: 0.9597 - accuracy: 0.5584 - val_loss: 0.9515 - val_accuracy: 0.5551\n",
      "Epoch 41/100\n",
      "6211/6211 [==============================] - 0s 50us/step - loss: 0.9604 - accuracy: 0.5522 - val_loss: 0.9493 - val_accuracy: 0.5583\n",
      "Epoch 42/100\n",
      "6211/6211 [==============================] - 0s 48us/step - loss: 0.9595 - accuracy: 0.5572 - val_loss: 0.9468 - val_accuracy: 0.5563\n",
      "Epoch 43/100\n",
      "6211/6211 [==============================] - 0s 49us/step - loss: 0.9593 - accuracy: 0.5558 - val_loss: 0.9486 - val_accuracy: 0.5647\n",
      "Epoch 44/100\n",
      "6211/6211 [==============================] - 0s 48us/step - loss: 0.9589 - accuracy: 0.5563 - val_loss: 0.9471 - val_accuracy: 0.5621\n",
      "Epoch 45/100\n",
      "6211/6211 [==============================] - 0s 48us/step - loss: 0.9593 - accuracy: 0.5550 - val_loss: 0.9464 - val_accuracy: 0.5615\n",
      "Epoch 46/100\n",
      "6211/6211 [==============================] - 0s 47us/step - loss: 0.9582 - accuracy: 0.5592 - val_loss: 0.9475 - val_accuracy: 0.5634\n",
      "Epoch 47/100\n",
      "6211/6211 [==============================] - 0s 45us/step - loss: 0.9577 - accuracy: 0.5564 - val_loss: 0.9461 - val_accuracy: 0.5589\n",
      "Epoch 48/100\n",
      "6211/6211 [==============================] - 0s 45us/step - loss: 0.9586 - accuracy: 0.5550 - val_loss: 0.9462 - val_accuracy: 0.5602\n",
      "Epoch 49/100\n",
      "6211/6211 [==============================] - 0s 46us/step - loss: 0.9581 - accuracy: 0.5551 - val_loss: 0.9475 - val_accuracy: 0.5563\n",
      "Epoch 50/100\n",
      "6211/6211 [==============================] - 0s 46us/step - loss: 0.9579 - accuracy: 0.5550 - val_loss: 0.9465 - val_accuracy: 0.5518\n",
      "Epoch 51/100\n",
      "6211/6211 [==============================] - 0s 43us/step - loss: 0.9575 - accuracy: 0.5572 - val_loss: 0.9512 - val_accuracy: 0.5493\n",
      "Epoch 52/100\n",
      "6211/6211 [==============================] - 0s 45us/step - loss: 0.9580 - accuracy: 0.5539 - val_loss: 0.9501 - val_accuracy: 0.5531\n",
      "Epoch 53/100\n",
      "6211/6211 [==============================] - 0s 44us/step - loss: 0.9580 - accuracy: 0.5537 - val_loss: 0.9476 - val_accuracy: 0.5589\n",
      "Epoch 54/100\n",
      "6211/6211 [==============================] - 0s 46us/step - loss: 0.9574 - accuracy: 0.5585 - val_loss: 0.9460 - val_accuracy: 0.5589\n",
      "Epoch 55/100\n",
      "6211/6211 [==============================] - 0s 47us/step - loss: 0.9576 - accuracy: 0.5576 - val_loss: 0.9463 - val_accuracy: 0.5551\n",
      "Epoch 56/100\n"
     ]
    },
    {
     "name": "stdout",
     "output_type": "stream",
     "text": [
      "6211/6211 [==============================] - 0s 46us/step - loss: 0.9576 - accuracy: 0.5563 - val_loss: 0.9456 - val_accuracy: 0.5551\n",
      "Epoch 57/100\n",
      "6211/6211 [==============================] - 0s 45us/step - loss: 0.9569 - accuracy: 0.5572 - val_loss: 0.9485 - val_accuracy: 0.5531\n",
      "Epoch 58/100\n",
      "6211/6211 [==============================] - 0s 47us/step - loss: 0.9565 - accuracy: 0.5558 - val_loss: 0.9462 - val_accuracy: 0.5570\n",
      "Epoch 59/100\n",
      "6211/6211 [==============================] - 0s 45us/step - loss: 0.9567 - accuracy: 0.5551 - val_loss: 0.9472 - val_accuracy: 0.5602\n",
      "Epoch 60/100\n",
      "6211/6211 [==============================] - 0s 44us/step - loss: 0.9561 - accuracy: 0.5559 - val_loss: 0.9477 - val_accuracy: 0.5563\n",
      "Epoch 61/100\n",
      "6211/6211 [==============================] - 0s 44us/step - loss: 0.9564 - accuracy: 0.5564 - val_loss: 0.9476 - val_accuracy: 0.5589\n",
      "Epoch 62/100\n",
      "6211/6211 [==============================] - 0s 44us/step - loss: 0.9557 - accuracy: 0.5556 - val_loss: 0.9454 - val_accuracy: 0.5596\n",
      "Epoch 63/100\n",
      "6211/6211 [==============================] - 0s 44us/step - loss: 0.9556 - accuracy: 0.5569 - val_loss: 0.9460 - val_accuracy: 0.5596\n",
      "Epoch 64/100\n",
      "6211/6211 [==============================] - 0s 47us/step - loss: 0.9558 - accuracy: 0.5556 - val_loss: 0.9466 - val_accuracy: 0.5596\n",
      "Epoch 65/100\n",
      "6211/6211 [==============================] - 0s 52us/step - loss: 0.9560 - accuracy: 0.5568 - val_loss: 0.9451 - val_accuracy: 0.5557\n",
      "Epoch 66/100\n",
      "6211/6211 [==============================] - 0s 44us/step - loss: 0.9550 - accuracy: 0.5572 - val_loss: 0.9470 - val_accuracy: 0.5563\n",
      "Epoch 67/100\n",
      "6211/6211 [==============================] - 0s 45us/step - loss: 0.9548 - accuracy: 0.5559 - val_loss: 0.9500 - val_accuracy: 0.5589\n",
      "Epoch 68/100\n",
      "6211/6211 [==============================] - 0s 47us/step - loss: 0.9552 - accuracy: 0.5574 - val_loss: 0.9468 - val_accuracy: 0.5551\n",
      "Epoch 69/100\n",
      "6211/6211 [==============================] - 0s 47us/step - loss: 0.9542 - accuracy: 0.5601 - val_loss: 0.9491 - val_accuracy: 0.5480\n",
      "Epoch 70/100\n",
      "6211/6211 [==============================] - 0s 50us/step - loss: 0.9545 - accuracy: 0.5584 - val_loss: 0.9461 - val_accuracy: 0.5563\n",
      "Epoch 71/100\n",
      "6211/6211 [==============================] - 0s 50us/step - loss: 0.9538 - accuracy: 0.5609 - val_loss: 0.9510 - val_accuracy: 0.5557\n",
      "Epoch 72/100\n",
      "6211/6211 [==============================] - 0s 48us/step - loss: 0.9554 - accuracy: 0.5551 - val_loss: 0.9471 - val_accuracy: 0.5557\n",
      "Epoch 73/100\n",
      "6211/6211 [==============================] - 0s 52us/step - loss: 0.9544 - accuracy: 0.5564 - val_loss: 0.9482 - val_accuracy: 0.5583\n",
      "Epoch 74/100\n",
      "6211/6211 [==============================] - 0s 43us/step - loss: 0.9542 - accuracy: 0.5571 - val_loss: 0.9463 - val_accuracy: 0.5576\n",
      "Epoch 75/100\n",
      "6211/6211 [==============================] - 0s 50us/step - loss: 0.9534 - accuracy: 0.5588 - val_loss: 0.9459 - val_accuracy: 0.5563\n",
      "Epoch 76/100\n",
      "6211/6211 [==============================] - 0s 46us/step - loss: 0.9527 - accuracy: 0.5582 - val_loss: 0.9454 - val_accuracy: 0.5641\n",
      "Epoch 77/100\n",
      "6211/6211 [==============================] - 0s 44us/step - loss: 0.9533 - accuracy: 0.5614 - val_loss: 0.9460 - val_accuracy: 0.5505\n",
      "Epoch 78/100\n",
      "6211/6211 [==============================] - 0s 46us/step - loss: 0.9530 - accuracy: 0.5605 - val_loss: 0.9457 - val_accuracy: 0.5596\n",
      "Epoch 79/100\n",
      "6211/6211 [==============================] - 0s 54us/step - loss: 0.9519 - accuracy: 0.5588 - val_loss: 0.9467 - val_accuracy: 0.5538\n",
      "Epoch 80/100\n",
      "6211/6211 [==============================] - 0s 55us/step - loss: 0.9531 - accuracy: 0.5563 - val_loss: 0.9482 - val_accuracy: 0.5499\n",
      "Epoch 81/100\n",
      "6211/6211 [==============================] - 0s 48us/step - loss: 0.9526 - accuracy: 0.5617 - val_loss: 0.9461 - val_accuracy: 0.5538\n",
      "Epoch 82/100\n",
      "6211/6211 [==============================] - 0s 47us/step - loss: 0.9521 - accuracy: 0.5651 - val_loss: 0.9477 - val_accuracy: 0.5557\n",
      "Epoch 83/100\n",
      "6211/6211 [==============================] - 0s 46us/step - loss: 0.9522 - accuracy: 0.5568 - val_loss: 0.9503 - val_accuracy: 0.5512\n",
      "Epoch 84/100\n",
      "6211/6211 [==============================] - 0s 44us/step - loss: 0.9537 - accuracy: 0.5563 - val_loss: 0.9503 - val_accuracy: 0.5512\n",
      "Epoch 85/100\n",
      "6211/6211 [==============================] - 0s 44us/step - loss: 0.9520 - accuracy: 0.5621 - val_loss: 0.9461 - val_accuracy: 0.5493\n",
      "Epoch 86/100\n",
      "6211/6211 [==============================] - 0s 46us/step - loss: 0.9521 - accuracy: 0.5616 - val_loss: 0.9467 - val_accuracy: 0.5608\n",
      "Epoch 87/100\n",
      "6211/6211 [==============================] - 0s 46us/step - loss: 0.9529 - accuracy: 0.5609 - val_loss: 0.9440 - val_accuracy: 0.5570\n",
      "Epoch 88/100\n",
      "6211/6211 [==============================] - 0s 45us/step - loss: 0.9520 - accuracy: 0.5598 - val_loss: 0.9484 - val_accuracy: 0.5654\n",
      "Epoch 89/100\n",
      "6211/6211 [==============================] - 0s 44us/step - loss: 0.9518 - accuracy: 0.5608 - val_loss: 0.9461 - val_accuracy: 0.5576\n",
      "Epoch 90/100\n",
      "6211/6211 [==============================] - 0s 44us/step - loss: 0.9517 - accuracy: 0.5603 - val_loss: 0.9496 - val_accuracy: 0.5531\n",
      "Epoch 91/100\n",
      "6211/6211 [==============================] - 0s 45us/step - loss: 0.9506 - accuracy: 0.5600 - val_loss: 0.9465 - val_accuracy: 0.5518\n",
      "Epoch 92/100\n",
      "6211/6211 [==============================] - 0s 46us/step - loss: 0.9514 - accuracy: 0.5611 - val_loss: 0.9439 - val_accuracy: 0.5615\n",
      "Epoch 93/100\n",
      "6211/6211 [==============================] - 0s 52us/step - loss: 0.9511 - accuracy: 0.5588 - val_loss: 0.9504 - val_accuracy: 0.5512\n",
      "Epoch 94/100\n",
      "6211/6211 [==============================] - 0s 47us/step - loss: 0.9513 - accuracy: 0.5617 - val_loss: 0.9448 - val_accuracy: 0.5551\n",
      "Epoch 95/100\n",
      "6211/6211 [==============================] - 0s 52us/step - loss: 0.9502 - accuracy: 0.5613 - val_loss: 0.9443 - val_accuracy: 0.5615\n",
      "Epoch 96/100\n",
      "6211/6211 [==============================] - 0s 66us/step - loss: 0.9508 - accuracy: 0.5601 - val_loss: 0.9488 - val_accuracy: 0.5576\n",
      "Epoch 97/100\n",
      "6211/6211 [==============================] - 0s 48us/step - loss: 0.9511 - accuracy: 0.5619 - val_loss: 0.9431 - val_accuracy: 0.5551\n",
      "Epoch 98/100\n",
      "6211/6211 [==============================] - 0s 46us/step - loss: 0.9500 - accuracy: 0.5609 - val_loss: 0.9435 - val_accuracy: 0.5563\n",
      "Epoch 99/100\n",
      "6211/6211 [==============================] - 0s 44us/step - loss: 0.9501 - accuracy: 0.5616 - val_loss: 0.9457 - val_accuracy: 0.5647\n",
      "Epoch 100/100\n",
      "6211/6211 [==============================] - 0s 49us/step - loss: 0.9498 - accuracy: 0.5645 - val_loss: 0.9434 - val_accuracy: 0.5563\n"
     ]
    }
   ],
   "source": [
    "history = model.fit(X_train_scaled, y_train_categorical, epochs=100, batch_size=25,  verbose=1, validation_split=0.2)"
   ]
  },
  {
   "cell_type": "code",
   "execution_count": 22,
   "metadata": {},
   "outputs": [
    {
     "name": "stdout",
     "output_type": "stream",
     "text": [
      "Normal Neural Network - Loss: 0.9885308945120261, Accuracy: 0.5505650639533997\n"
     ]
    }
   ],
   "source": [
    "model_loss, model_accuracy = model.evaluate(\n",
    "    X_test_scaled, y_test_categorical, verbose=2)\n",
    "print(\n",
    "    f\"Normal Neural Network - Loss: {model_loss}, Accuracy: {model_accuracy}\")"
   ]
  },
  {
   "cell_type": "code",
   "execution_count": 23,
   "metadata": {},
   "outputs": [],
   "source": [
    "encoded_predictions = model.predict_classes(X_test_scaled[:5])\n",
    "prediction_labels = le.inverse_transform(encoded_predictions)"
   ]
  },
  {
   "cell_type": "code",
   "execution_count": 24,
   "metadata": {},
   "outputs": [
    {
     "name": "stdout",
     "output_type": "stream",
     "text": [
      "Predicted classes: ['$51-$100' '$100+' '$51-$100' '$25-$50' '$51-$100']\n",
      "Actual Labels: ['$51-$100' '$51-$100' '$25-$50' '$0-$25' '$51-$100']\n"
     ]
    }
   ],
   "source": [
    "print(f\"Predicted classes: {prediction_labels}\")\n",
    "print(f\"Actual Labels: {le.inverse_transform(list(y_test[:5]))}\")\n",
    "# print(f\"X Values: {list(X_test[:5])}\")\n"
   ]
  },
  {
   "cell_type": "code",
   "execution_count": 113,
   "metadata": {},
   "outputs": [],
   "source": [
    "# model.save('modelSS.h5')"
   ]
  },
  {
   "cell_type": "code",
   "execution_count": 25,
   "metadata": {},
   "outputs": [],
   "source": [
    "def plot_history(history):\n",
    "    loss_list = [s for s in history.history.keys() if 'loss' in s and 'val' not in s]\n",
    "    val_loss_list = [s for s in history.history.keys() if 'loss' in s and 'val' in s]\n",
    "    acc_list = [s for s in history.history.keys() if 'acc' in s and 'val' not in s]\n",
    "    val_acc_list = [s for s in history.history.keys() if 'acc' in s and 'val' in s]\n",
    "    \n",
    "    if len(loss_list) == 0:\n",
    "        print('Loss is missing in history')\n",
    "        return \n",
    "    \n",
    "    ## As loss always exists\n",
    "    epochs = range(1,len(history.history[loss_list[0]]) + 1)\n",
    "    \n",
    "    ## Loss\n",
    "    plt.figure(1)\n",
    "    for l in loss_list:\n",
    "        plt.plot(epochs, history.history[l], 'b', label='Training loss (' + str(str(format(history.history[l][-1],'.5f'))+')'))\n",
    "    for l in val_loss_list:\n",
    "        plt.plot(epochs, history.history[l], 'g', label='Validation loss (' + str(str(format(history.history[l][-1],'.5f'))+')'))\n",
    "    \n",
    "    plt.title('Loss')\n",
    "    plt.xlabel('Epochs')\n",
    "    plt.ylabel('Loss')\n",
    "    plt.legend()\n",
    "    \n",
    "    ## Accuracy\n",
    "    plt.figure(2)\n",
    "    for l in acc_list:\n",
    "        plt.plot(epochs, history.history[l], 'b', label='Training accuracy (' + str(format(history.history[l][-1],'.5f'))+')')\n",
    "    for l in val_acc_list:    \n",
    "        plt.plot(epochs, history.history[l], 'g', label='Validation accuracy (' + str(format(history.history[l][-1],'.5f'))+')')\n",
    "\n",
    "    plt.title('Accuracy')\n",
    "    plt.xlabel('Epochs')\n",
    "    plt.ylabel('Accuracy')\n",
    "    plt.legend()\n",
    "    plt.show()\n"
   ]
  },
  {
   "cell_type": "code",
   "execution_count": 26,
   "metadata": {},
   "outputs": [
    {
     "data": {
      "image/png": "[encoded data removed]",
      "text/plain": [
       "<Figure size 432x288 with 1 Axes>"
      ]
     },
     "metadata": {
      "needs_background": "light"
     },
     "output_type": "display_data"
    },
    {
     "data": {
      "image/png": "[encoded data removed]",
      "text/plain": [
       "<Figure size 432x288 with 1 Axes>"
      ]
     },
     "metadata": {
      "needs_background": "light"
     },
     "output_type": "display_data"
    }
   ],
   "source": [
    "plot_history(history)"
   ]
  },
  {
   "cell_type": "code",
   "execution_count": null,
   "metadata": {},
   "outputs": [],
   "source": []
  },
  {
   "cell_type": "code",
   "execution_count": 47,
   "metadata": {},
   "outputs": [],
   "source": [
    "def plot_confusion_matrix(cm, classes,\n",
    "                          normalize=True,\n",
    "                          cmap=plt.cm.Blues):\n",
    "    \"\"\"\n",
    "    This function prints and plots the confusion matrix.\n",
    "    Normalization can be applied by setting `normalize=True`.\n",
    "    \"\"\"\n",
    "    if normalize:\n",
    "        cm = cm.astype('float') / cm.sum(axis=1)[:, np.newaxis]\n",
    "        title='Normalized confusion matrix'\n",
    "    else:\n",
    "        title='Confusion matrix'\n",
    "\n",
    "    plt.imshow(cm, interpolation='nearest', cmap=cmap)\n",
    "    plt.title(title)\n",
    "    plt.colorbar()\n",
    "    tick_marks = np.arange(len(classes))\n",
    "    plt.xticks(tick_marks, classes, rotation=45)\n",
    "    plt.yticks(tick_marks, classes)\n",
    "\n",
    "    fmt = '.2f' if normalize else 'd'\n",
    "    thresh = cm.max() / 2.\n",
    "    for i, j in itertools.product(range(cm.shape[0]), range(cm.shape[1])):\n",
    "        plt.text(j, i, format(cm[i, j], fmt),\n",
    "                 horizontalalignment=\"center\",\n",
    "                 color=\"white\" if cm[i, j] > thresh else \"black\")\n",
    "\n",
    "    plt.tight_layout()\n",
    "    plt.ylabel('True label')\n",
    "    plt.xlabel('Predicted label')\n",
    "    plt.show()\n",
    "    \n"
   ]
  },
  {
   "cell_type": "code",
   "execution_count": 44,
   "metadata": {},
   "outputs": [],
   "source": [
    "## multiclass or binary report\n",
    "## If binary (sigmoid output), set binary parameter to True\n",
    "def full_multiclass_report(model,\n",
    "                           x,\n",
    "                           y_true,\n",
    "                           classes,\n",
    "                           batch_size=32,\n",
    "                           binary=False):\n",
    "\n",
    "    # 1. Transform one-hot encoded y_true into their class number\n",
    "    if not binary:\n",
    "        y_true = np.argmax(y_true,axis=1)\n",
    "    \n",
    "    # 2. Predict classes and stores in y_pred\n",
    "    y_pred = model.predict_classes(x, batch_size=batch_size)\n",
    "    \n",
    "    # 3. Print accuracy score\n",
    "    print(\"Accuracy : \"+ str(accuracy_score(y_true,y_pred)))\n",
    "    \n",
    "    print(\"\")\n",
    "    \n",
    "    # 4. Print classification report\n",
    "    print(\"Classification Report\")\n",
    "    print(classification_report(y_true,y_pred,digits=5))    \n",
    "    \n",
    "    # 5. Plot confusion matrix\n",
    "    cnf_matrix = confusion_matrix(y_true,y_pred)\n",
    "    print(cnf_matrix)\n",
    "    plot_confusion_matrix(cnf_matrix,classes=classes)"
   ]
  },
  {
   "cell_type": "code",
   "execution_count": 45,
   "metadata": {},
   "outputs": [
    {
     "name": "stdout",
     "output_type": "stream",
     "text": [
      "[[  0.   9.   0.   8.  67.]\n",
      " [  0.   8.   3.   3.  24.]\n",
      " [  0.  17.   0.   8.  77.]\n",
      " ...\n",
      " [  0.  10.   0.   8.   6.]\n",
      " [  0.   7.   3.   3. 139.]\n",
      " [  0.   7.   0.   8.  67.]]\n"
     ]
    },
    {
     "data": {
      "text/plain": [
       "array([1, 2, 1, ..., 2, 2, 0], dtype=int64)"
      ]
     },
     "execution_count": 45,
     "metadata": {},
     "output_type": "execute_result"
    }
   ],
   "source": [
    "print(x_val)\n",
    "y_val"
   ]
  },
  {
   "cell_type": "code",
   "execution_count": 46,
   "metadata": {},
   "outputs": [
    {
     "name": "stdout",
     "output_type": "stream",
     "text": [
      "Accuracy : 0.1425260718424102\n",
      "\n",
      "Classification Report\n",
      "              precision    recall  f1-score   support\n",
      "\n",
      "           0    0.00000   0.00000   0.00000       568\n",
      "           1    0.11780   0.96727   0.21003       275\n",
      "           2    0.55932   0.03571   0.06714       924\n",
      "           3    0.25735   0.08516   0.12797       822\n",
      "\n",
      "    accuracy                        0.14253      2589\n",
      "   macro avg    0.23362   0.27204   0.10128      2589\n",
      "weighted avg    0.29384   0.14253   0.08690      2589\n",
      "\n",
      "[[  0 471  21  76]\n",
      " [  0 266   1   8]\n",
      " [  0 773  33 118]\n",
      " [  0 748   4  70]]\n"
     ]
    },
    {
     "data": {
      "image/png": "[encoded data removed]",
      "text/plain": [
       "<Figure size 432x288 with 2 Axes>"
      ]
     },
     "metadata": {
      "needs_background": "light"
     },
     "output_type": "display_data"
    }
   ],
   "source": [
    "full_multiclass_report(model,\n",
    "                       x_val,\n",
    "                       y_val_categorical,\n",
    "                       le.inverse_transform(np.arange(4)))"
   ]
  },
  {
   "cell_type": "code",
   "execution_count": 32,
   "metadata": {},
   "outputs": [
    {
     "name": "stdout",
     "output_type": "stream",
     "text": [
      "[[ 0.          0.30125582 -0.49043316  0.30372262  1.5440887 ]\n",
      " [ 0.          1.4944456  -0.49043316  0.30372262  0.69483626]\n",
      " [ 0.          0.5995532  -0.49043316  0.30372262  0.02572829]\n",
      " ...\n",
      " [ 0.          0.5995532  -0.49043316 -1.307003    1.0551251 ]\n",
      " [ 0.         -0.29533905  2.1205769  -0.84679574 -1.0808734 ]\n",
      " [ 0.         -0.8919339  -0.49043316  1.6843446  -1.6727766 ]]\n"
     ]
    },
    {
     "data": {
      "text/plain": [
       "array([3, 3, 2, ..., 2, 2, 2])"
      ]
     },
     "execution_count": 32,
     "metadata": {},
     "output_type": "execute_result"
    }
   ],
   "source": [
    "print(X_test_scaled)\n",
    "y_test"
   ]
  },
  {
   "cell_type": "code",
   "execution_count": null,
   "metadata": {},
   "outputs": [],
   "source": []
  },
  {
   "cell_type": "code",
   "execution_count": 38,
   "metadata": {},
   "outputs": [
    {
     "name": "stdout",
     "output_type": "stream",
     "text": [
      "Accuracy : 0.55056505360765\n",
      "\n",
      "Classification Report\n",
      "              precision    recall  f1-score   support\n",
      "\n",
      "           0    0.67730   0.48262   0.56362       748\n",
      "           1    0.56277   0.36723   0.44444       354\n",
      "           2    0.53644   0.62462   0.57718      1308\n",
      "           3    0.50859   0.56868   0.53696      1041\n",
      "\n",
      "    accuracy                        0.55057      3451\n",
      "   macro avg    0.57128   0.51079   0.53055      3451\n",
      "weighted avg    0.56127   0.55057   0.54849      3451\n",
      "\n",
      "[[361   0 332  55]\n",
      " [  1 130  34 189]\n",
      " [144  19 817 328]\n",
      " [ 27  82 340 592]]\n"
     ]
    },
    {
     "data": {
      "image/png": "[encoded data removed]",
      "text/plain": [
       "<Figure size 432x288 with 2 Axes>"
      ]
     },
     "metadata": {
      "needs_background": "light"
     },
     "output_type": "display_data"
    }
   ],
   "source": [
    "full_multiclass_report(model,\n",
    "                       X_test_scaled,\n",
    "                       y_test_categorical,\n",
    "                       le.inverse_transform(np.arange(4)))"
   ]
  },
  {
   "cell_type": "code",
   "execution_count": 86,
   "metadata": {},
   "outputs": [],
   "source": [
    "# GridSearch\n",
    "def create_model(dense_layers=[8],\n",
    "                 activation='relu',\n",
    "                 optimizer='adam',\n",
    "                 kernel_initializer='glorot_uniform'):\n",
    "    model = Sequential()\n",
    "\n",
    "    for index, lsize in enumerate(dense_layers):\n",
    "        # Input Layer - includes the input_shape\n",
    "        if index == 0:\n",
    "            model.add(Dense(lsize,\n",
    "                            activation=activation,\n",
    "                            input_shape=(5,)))\n",
    "        else:\n",
    "            model.add(Dense(lsize,\n",
    "                            activation=activation))\n",
    "            \n",
    "    model.add(Dense(2,activation='sigmoid'))\n",
    "    model.compile(optimizer = optimizer,\n",
    "                  loss='categorical_crossentropy',\n",
    "                  metrics=['accuracy'])\n",
    "    return model\n",
    "\n"
   ]
  },
  {
   "cell_type": "code",
   "execution_count": 87,
   "metadata": {},
   "outputs": [
    {
     "ename": "ValueError",
     "evalue": "kernal is not a legal parameter",
     "output_type": "error",
     "traceback": [
      "\u001b[1;31m---------------------------------------------------------------------------\u001b[0m",
      "\u001b[1;31m_RemoteTraceback\u001b[0m                          Traceback (most recent call last)",
      "\u001b[1;31m_RemoteTraceback\u001b[0m: \n\"\"\"\nTraceback (most recent call last):\n  File \"C:\\Users\\koegs\\Anaconda3\\lib\\site-packages\\joblib\\externals\\loky\\process_executor.py\", line 418, in _process_worker\n    r = call_item()\n  File \"C:\\Users\\koegs\\Anaconda3\\lib\\site-packages\\joblib\\externals\\loky\\process_executor.py\", line 272, in __call__\n    return self.fn(*self.args, **self.kwargs)\n  File \"C:\\Users\\koegs\\Anaconda3\\lib\\site-packages\\joblib\\_parallel_backends.py\", line 567, in __call__\n    return self.func(*args, **kwargs)\n  File \"C:\\Users\\koegs\\Anaconda3\\lib\\site-packages\\joblib\\parallel.py\", line 225, in __call__\n    for func, args, kwargs in self.items]\n  File \"C:\\Users\\koegs\\Anaconda3\\lib\\site-packages\\joblib\\parallel.py\", line 225, in <listcomp>\n    for func, args, kwargs in self.items]\n  File \"C:\\Users\\koegs\\Anaconda3\\lib\\site-packages\\sklearn\\model_selection\\_validation.py\", line 503, in _fit_and_score\n    estimator.set_params(**parameters)\n  File \"C:\\Users\\koegs\\Anaconda3\\lib\\site-packages\\keras\\wrappers\\scikit_learn.py\", line 115, in set_params\n    self.check_params(params)\n  File \"C:\\Users\\koegs\\Anaconda3\\lib\\site-packages\\keras\\wrappers\\scikit_learn.py\", line 91, in check_params\n    '{} is not a legal parameter'.format(params_name))\nValueError: kernal is not a legal parameter\n\"\"\"",
      "\nThe above exception was the direct cause of the following exception:\n",
      "\u001b[1;31mValueError\u001b[0m                                Traceback (most recent call last)",
      "\u001b[1;32m<ipython-input-87-7cc5de0aafff>\u001b[0m in \u001b[0;36m<module>\u001b[1;34m\u001b[0m\n\u001b[0;32m     15\u001b[0m \u001b[0mparam_grid\u001b[0m \u001b[1;33m=\u001b[0m \u001b[0mdict\u001b[0m\u001b[1;33m(\u001b[0m\u001b[0mkernal\u001b[0m\u001b[1;33m=\u001b[0m\u001b[0minit_mode\u001b[0m\u001b[1;33m)\u001b[0m\u001b[1;33m\u001b[0m\u001b[1;33m\u001b[0m\u001b[0m\n\u001b[0;32m     16\u001b[0m \u001b[0mgrid\u001b[0m \u001b[1;33m=\u001b[0m \u001b[0mGridSearchCV\u001b[0m\u001b[1;33m(\u001b[0m\u001b[0mestimator\u001b[0m\u001b[1;33m=\u001b[0m\u001b[0mmodel_CV\u001b[0m\u001b[1;33m,\u001b[0m \u001b[0mparam_grid\u001b[0m\u001b[1;33m=\u001b[0m\u001b[0mparam_grid\u001b[0m\u001b[1;33m,\u001b[0m \u001b[0mn_jobs\u001b[0m\u001b[1;33m=\u001b[0m\u001b[1;33m-\u001b[0m\u001b[1;36m1\u001b[0m\u001b[1;33m,\u001b[0m \u001b[0mcv\u001b[0m\u001b[1;33m=\u001b[0m\u001b[1;36m3\u001b[0m\u001b[1;33m)\u001b[0m\u001b[1;33m\u001b[0m\u001b[1;33m\u001b[0m\u001b[0m\n\u001b[1;32m---> 17\u001b[1;33m \u001b[0mgrid_result\u001b[0m \u001b[1;33m=\u001b[0m \u001b[0mgrid\u001b[0m\u001b[1;33m.\u001b[0m\u001b[0mfit\u001b[0m\u001b[1;33m(\u001b[0m\u001b[0mX_train_scaled\u001b[0m\u001b[1;33m,\u001b[0m \u001b[0my_train\u001b[0m\u001b[1;33m)\u001b[0m\u001b[1;33m\u001b[0m\u001b[1;33m\u001b[0m\u001b[0m\n\u001b[0m",
      "\u001b[1;32m~\\Anaconda3\\lib\\site-packages\\sklearn\\model_selection\\_search.py\u001b[0m in \u001b[0;36mfit\u001b[1;34m(self, X, y, groups, **fit_params)\u001b[0m\n\u001b[0;32m    686\u001b[0m                 \u001b[1;32mreturn\u001b[0m \u001b[0mresults\u001b[0m\u001b[1;33m\u001b[0m\u001b[1;33m\u001b[0m\u001b[0m\n\u001b[0;32m    687\u001b[0m \u001b[1;33m\u001b[0m\u001b[0m\n\u001b[1;32m--> 688\u001b[1;33m             \u001b[0mself\u001b[0m\u001b[1;33m.\u001b[0m\u001b[0m_run_search\u001b[0m\u001b[1;33m(\u001b[0m\u001b[0mevaluate_candidates\u001b[0m\u001b[1;33m)\u001b[0m\u001b[1;33m\u001b[0m\u001b[1;33m\u001b[0m\u001b[0m\n\u001b[0m\u001b[0;32m    689\u001b[0m \u001b[1;33m\u001b[0m\u001b[0m\n\u001b[0;32m    690\u001b[0m         \u001b[1;31m# For multi-metric evaluation, store the best_index_, best_params_ and\u001b[0m\u001b[1;33m\u001b[0m\u001b[1;33m\u001b[0m\u001b[1;33m\u001b[0m\u001b[0m\n",
      "\u001b[1;32m~\\Anaconda3\\lib\\site-packages\\sklearn\\model_selection\\_search.py\u001b[0m in \u001b[0;36m_run_search\u001b[1;34m(self, evaluate_candidates)\u001b[0m\n\u001b[0;32m   1147\u001b[0m     \u001b[1;32mdef\u001b[0m \u001b[0m_run_search\u001b[0m\u001b[1;33m(\u001b[0m\u001b[0mself\u001b[0m\u001b[1;33m,\u001b[0m \u001b[0mevaluate_candidates\u001b[0m\u001b[1;33m)\u001b[0m\u001b[1;33m:\u001b[0m\u001b[1;33m\u001b[0m\u001b[1;33m\u001b[0m\u001b[0m\n\u001b[0;32m   1148\u001b[0m         \u001b[1;34m\"\"\"Search all candidates in param_grid\"\"\"\u001b[0m\u001b[1;33m\u001b[0m\u001b[1;33m\u001b[0m\u001b[0m\n\u001b[1;32m-> 1149\u001b[1;33m         \u001b[0mevaluate_candidates\u001b[0m\u001b[1;33m(\u001b[0m\u001b[0mParameterGrid\u001b[0m\u001b[1;33m(\u001b[0m\u001b[0mself\u001b[0m\u001b[1;33m.\u001b[0m\u001b[0mparam_grid\u001b[0m\u001b[1;33m)\u001b[0m\u001b[1;33m)\u001b[0m\u001b[1;33m\u001b[0m\u001b[1;33m\u001b[0m\u001b[0m\n\u001b[0m\u001b[0;32m   1150\u001b[0m \u001b[1;33m\u001b[0m\u001b[0m\n\u001b[0;32m   1151\u001b[0m \u001b[1;33m\u001b[0m\u001b[0m\n",
      "\u001b[1;32m~\\Anaconda3\\lib\\site-packages\\sklearn\\model_selection\\_search.py\u001b[0m in \u001b[0;36mevaluate_candidates\u001b[1;34m(candidate_params)\u001b[0m\n\u001b[0;32m    665\u001b[0m                                \u001b[1;32mfor\u001b[0m \u001b[0mparameters\u001b[0m\u001b[1;33m,\u001b[0m \u001b[1;33m(\u001b[0m\u001b[0mtrain\u001b[0m\u001b[1;33m,\u001b[0m \u001b[0mtest\u001b[0m\u001b[1;33m)\u001b[0m\u001b[1;33m\u001b[0m\u001b[1;33m\u001b[0m\u001b[0m\n\u001b[0;32m    666\u001b[0m                                in product(candidate_params,\n\u001b[1;32m--> 667\u001b[1;33m                                           cv.split(X, y, groups)))\n\u001b[0m\u001b[0;32m    668\u001b[0m \u001b[1;33m\u001b[0m\u001b[0m\n\u001b[0;32m    669\u001b[0m                 \u001b[1;32mif\u001b[0m \u001b[0mlen\u001b[0m\u001b[1;33m(\u001b[0m\u001b[0mout\u001b[0m\u001b[1;33m)\u001b[0m \u001b[1;33m<\u001b[0m \u001b[1;36m1\u001b[0m\u001b[1;33m:\u001b[0m\u001b[1;33m\u001b[0m\u001b[1;33m\u001b[0m\u001b[0m\n",
      "\u001b[1;32m~\\Anaconda3\\lib\\site-packages\\joblib\\parallel.py\u001b[0m in \u001b[0;36m__call__\u001b[1;34m(self, iterable)\u001b[0m\n\u001b[0;32m    932\u001b[0m \u001b[1;33m\u001b[0m\u001b[0m\n\u001b[0;32m    933\u001b[0m             \u001b[1;32mwith\u001b[0m \u001b[0mself\u001b[0m\u001b[1;33m.\u001b[0m\u001b[0m_backend\u001b[0m\u001b[1;33m.\u001b[0m\u001b[0mretrieval_context\u001b[0m\u001b[1;33m(\u001b[0m\u001b[1;33m)\u001b[0m\u001b[1;33m:\u001b[0m\u001b[1;33m\u001b[0m\u001b[1;33m\u001b[0m\u001b[0m\n\u001b[1;32m--> 934\u001b[1;33m                 \u001b[0mself\u001b[0m\u001b[1;33m.\u001b[0m\u001b[0mretrieve\u001b[0m\u001b[1;33m(\u001b[0m\u001b[1;33m)\u001b[0m\u001b[1;33m\u001b[0m\u001b[1;33m\u001b[0m\u001b[0m\n\u001b[0m\u001b[0;32m    935\u001b[0m             \u001b[1;31m# Make sure that we get a last message telling us we are done\u001b[0m\u001b[1;33m\u001b[0m\u001b[1;33m\u001b[0m\u001b[1;33m\u001b[0m\u001b[0m\n\u001b[0;32m    936\u001b[0m             \u001b[0melapsed_time\u001b[0m \u001b[1;33m=\u001b[0m \u001b[0mtime\u001b[0m\u001b[1;33m.\u001b[0m\u001b[0mtime\u001b[0m\u001b[1;33m(\u001b[0m\u001b[1;33m)\u001b[0m \u001b[1;33m-\u001b[0m \u001b[0mself\u001b[0m\u001b[1;33m.\u001b[0m\u001b[0m_start_time\u001b[0m\u001b[1;33m\u001b[0m\u001b[1;33m\u001b[0m\u001b[0m\n",
      "\u001b[1;32m~\\Anaconda3\\lib\\site-packages\\joblib\\parallel.py\u001b[0m in \u001b[0;36mretrieve\u001b[1;34m(self)\u001b[0m\n\u001b[0;32m    831\u001b[0m             \u001b[1;32mtry\u001b[0m\u001b[1;33m:\u001b[0m\u001b[1;33m\u001b[0m\u001b[1;33m\u001b[0m\u001b[0m\n\u001b[0;32m    832\u001b[0m                 \u001b[1;32mif\u001b[0m \u001b[0mgetattr\u001b[0m\u001b[1;33m(\u001b[0m\u001b[0mself\u001b[0m\u001b[1;33m.\u001b[0m\u001b[0m_backend\u001b[0m\u001b[1;33m,\u001b[0m \u001b[1;34m'supports_timeout'\u001b[0m\u001b[1;33m,\u001b[0m \u001b[1;32mFalse\u001b[0m\u001b[1;33m)\u001b[0m\u001b[1;33m:\u001b[0m\u001b[1;33m\u001b[0m\u001b[1;33m\u001b[0m\u001b[0m\n\u001b[1;32m--> 833\u001b[1;33m                     \u001b[0mself\u001b[0m\u001b[1;33m.\u001b[0m\u001b[0m_output\u001b[0m\u001b[1;33m.\u001b[0m\u001b[0mextend\u001b[0m\u001b[1;33m(\u001b[0m\u001b[0mjob\u001b[0m\u001b[1;33m.\u001b[0m\u001b[0mget\u001b[0m\u001b[1;33m(\u001b[0m\u001b[0mtimeout\u001b[0m\u001b[1;33m=\u001b[0m\u001b[0mself\u001b[0m\u001b[1;33m.\u001b[0m\u001b[0mtimeout\u001b[0m\u001b[1;33m)\u001b[0m\u001b[1;33m)\u001b[0m\u001b[1;33m\u001b[0m\u001b[1;33m\u001b[0m\u001b[0m\n\u001b[0m\u001b[0;32m    834\u001b[0m                 \u001b[1;32melse\u001b[0m\u001b[1;33m:\u001b[0m\u001b[1;33m\u001b[0m\u001b[1;33m\u001b[0m\u001b[0m\n\u001b[0;32m    835\u001b[0m                     \u001b[0mself\u001b[0m\u001b[1;33m.\u001b[0m\u001b[0m_output\u001b[0m\u001b[1;33m.\u001b[0m\u001b[0mextend\u001b[0m\u001b[1;33m(\u001b[0m\u001b[0mjob\u001b[0m\u001b[1;33m.\u001b[0m\u001b[0mget\u001b[0m\u001b[1;33m(\u001b[0m\u001b[1;33m)\u001b[0m\u001b[1;33m)\u001b[0m\u001b[1;33m\u001b[0m\u001b[1;33m\u001b[0m\u001b[0m\n",
      "\u001b[1;32m~\\Anaconda3\\lib\\site-packages\\joblib\\_parallel_backends.py\u001b[0m in \u001b[0;36mwrap_future_result\u001b[1;34m(future, timeout)\u001b[0m\n\u001b[0;32m    519\u001b[0m         AsyncResults.get from multiprocessing.\"\"\"\n\u001b[0;32m    520\u001b[0m         \u001b[1;32mtry\u001b[0m\u001b[1;33m:\u001b[0m\u001b[1;33m\u001b[0m\u001b[1;33m\u001b[0m\u001b[0m\n\u001b[1;32m--> 521\u001b[1;33m             \u001b[1;32mreturn\u001b[0m \u001b[0mfuture\u001b[0m\u001b[1;33m.\u001b[0m\u001b[0mresult\u001b[0m\u001b[1;33m(\u001b[0m\u001b[0mtimeout\u001b[0m\u001b[1;33m=\u001b[0m\u001b[0mtimeout\u001b[0m\u001b[1;33m)\u001b[0m\u001b[1;33m\u001b[0m\u001b[1;33m\u001b[0m\u001b[0m\n\u001b[0m\u001b[0;32m    522\u001b[0m         \u001b[1;32mexcept\u001b[0m \u001b[0mLokyTimeoutError\u001b[0m\u001b[1;33m:\u001b[0m\u001b[1;33m\u001b[0m\u001b[1;33m\u001b[0m\u001b[0m\n\u001b[0;32m    523\u001b[0m             \u001b[1;32mraise\u001b[0m \u001b[0mTimeoutError\u001b[0m\u001b[1;33m(\u001b[0m\u001b[1;33m)\u001b[0m\u001b[1;33m\u001b[0m\u001b[1;33m\u001b[0m\u001b[0m\n",
      "\u001b[1;32m~\\Anaconda3\\lib\\concurrent\\futures\\_base.py\u001b[0m in \u001b[0;36mresult\u001b[1;34m(self, timeout)\u001b[0m\n\u001b[0;32m    433\u001b[0m                 \u001b[1;32mraise\u001b[0m \u001b[0mCancelledError\u001b[0m\u001b[1;33m(\u001b[0m\u001b[1;33m)\u001b[0m\u001b[1;33m\u001b[0m\u001b[1;33m\u001b[0m\u001b[0m\n\u001b[0;32m    434\u001b[0m             \u001b[1;32melif\u001b[0m \u001b[0mself\u001b[0m\u001b[1;33m.\u001b[0m\u001b[0m_state\u001b[0m \u001b[1;33m==\u001b[0m \u001b[0mFINISHED\u001b[0m\u001b[1;33m:\u001b[0m\u001b[1;33m\u001b[0m\u001b[1;33m\u001b[0m\u001b[0m\n\u001b[1;32m--> 435\u001b[1;33m                 \u001b[1;32mreturn\u001b[0m \u001b[0mself\u001b[0m\u001b[1;33m.\u001b[0m\u001b[0m__get_result\u001b[0m\u001b[1;33m(\u001b[0m\u001b[1;33m)\u001b[0m\u001b[1;33m\u001b[0m\u001b[1;33m\u001b[0m\u001b[0m\n\u001b[0m\u001b[0;32m    436\u001b[0m             \u001b[1;32melse\u001b[0m\u001b[1;33m:\u001b[0m\u001b[1;33m\u001b[0m\u001b[1;33m\u001b[0m\u001b[0m\n\u001b[0;32m    437\u001b[0m                 \u001b[1;32mraise\u001b[0m \u001b[0mTimeoutError\u001b[0m\u001b[1;33m(\u001b[0m\u001b[1;33m)\u001b[0m\u001b[1;33m\u001b[0m\u001b[1;33m\u001b[0m\u001b[0m\n",
      "\u001b[1;32m~\\Anaconda3\\lib\\concurrent\\futures\\_base.py\u001b[0m in \u001b[0;36m__get_result\u001b[1;34m(self)\u001b[0m\n\u001b[0;32m    382\u001b[0m     \u001b[1;32mdef\u001b[0m \u001b[0m__get_result\u001b[0m\u001b[1;33m(\u001b[0m\u001b[0mself\u001b[0m\u001b[1;33m)\u001b[0m\u001b[1;33m:\u001b[0m\u001b[1;33m\u001b[0m\u001b[1;33m\u001b[0m\u001b[0m\n\u001b[0;32m    383\u001b[0m         \u001b[1;32mif\u001b[0m \u001b[0mself\u001b[0m\u001b[1;33m.\u001b[0m\u001b[0m_exception\u001b[0m\u001b[1;33m:\u001b[0m\u001b[1;33m\u001b[0m\u001b[1;33m\u001b[0m\u001b[0m\n\u001b[1;32m--> 384\u001b[1;33m             \u001b[1;32mraise\u001b[0m \u001b[0mself\u001b[0m\u001b[1;33m.\u001b[0m\u001b[0m_exception\u001b[0m\u001b[1;33m\u001b[0m\u001b[1;33m\u001b[0m\u001b[0m\n\u001b[0m\u001b[0;32m    385\u001b[0m         \u001b[1;32melse\u001b[0m\u001b[1;33m:\u001b[0m\u001b[1;33m\u001b[0m\u001b[1;33m\u001b[0m\u001b[0m\n\u001b[0;32m    386\u001b[0m             \u001b[1;32mreturn\u001b[0m \u001b[0mself\u001b[0m\u001b[1;33m.\u001b[0m\u001b[0m_result\u001b[0m\u001b[1;33m\u001b[0m\u001b[1;33m\u001b[0m\u001b[0m\n",
      "\u001b[1;31mValueError\u001b[0m: kernal is not a legal parameter"
     ]
    }
   ],
   "source": [
    "from keras.wrappers.scikit_learn import KerasClassifier\n",
    "from sklearn.model_selection import GridSearchCV\n",
    "\n",
    "seed = 7\n",
    "np.random.seed(seed)\n",
    "batch_size = 128\n",
    "epochs = 10\n",
    "\n",
    "model_CV = KerasClassifier(build_fn=create_model, epochs=epochs, \n",
    "                           batch_size=batch_size, verbose=1)\n",
    "# define the grid search parameters\n",
    "init_mode = ['uniform', 'lecun_uniform', 'normal', 'zero', \n",
    "             'glorot_normal', 'glorot_uniform', 'he_normal', 'he_uniform']\n",
    "\n",
    "param_grid = dict(kernal=init_mode)\n",
    "grid = GridSearchCV(estimator=model_CV, param_grid=param_grid, n_jobs=-1, cv=3)\n",
    "grid_result = grid.fit(X_train_scaled, y_train)"
   ]
  },
  {
   "cell_type": "code",
   "execution_count": null,
   "metadata": {},
   "outputs": [],
   "source": [
    "model = KerasClassifier(build_fn=create_model,\n",
    "                        epochs=100, \n",
    "                        batch_size=16,\n",
    "                        verbose=0)\n",
    "\n",
    "param_grid = {'dense_layers': [[8],[10],[12]],\n",
    "              'activation':['relu','tanh'],\n",
    "              'optimizer':('rmsprop','adam'),\n",
    "              'epochs':[100,300],\n",
    "              'batch_size':[10,16]}\n",
    "\n",
    "grid = GridSearchCV(model,\n",
    "                    param_grid=param_grid,\n",
    "                    return_train_score=True,\n",
    "                    scoring=['precision_macro','recall_macro','f1_macro'],\n",
    "                    refit='precision_macro')\n",
    "\n",
    "grid_results = grid.fit(X_train_scaled,y_train)\n",
    "\n",
    "print('Parameters of the best model: ')\n",
    "print(grid_results.best_params_)"
   ]
  },
  {
   "cell_type": "code",
   "execution_count": null,
   "metadata": {},
   "outputs": [],
   "source": []
  }
 ],
 "metadata": {
  "kernelspec": {
   "display_name": "Python 3",
   "language": "python",
   "name": "python3"
  },
  "language_info": {
   "codemirror_mode": {
    "name": "ipython",
    "version": 3
   },
   "file_extension": ".py",
   "mimetype": "text/x-python",
   "name": "python",
   "nbconvert_exporter": "python",
   "pygments_lexer": "ipython3",
   "version": "3.7.4"
  }
 },
 "nbformat": 4,
 "nbformat_minor": 2
}
