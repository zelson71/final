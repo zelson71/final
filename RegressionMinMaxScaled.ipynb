{
 "cells": [
  {
   "cell_type": "code",
   "execution_count": 1,
   "metadata": {},
   "outputs": [
    {
     "name": "stderr",
     "output_type": "stream",
     "text": [
      "Using TensorFlow backend.\n"
     ]
    }
   ],
   "source": [
    "\n",
    "import pandas as pd\n",
    "import pandas\n",
    "import tensorflow as tf\n",
    "import matplotlib.pyplot as plt\n",
    "import numpy as np\n",
    "from keras.models import Sequential\n",
    "from keras.layers import Dense\n",
    "from keras.wrappers.scikit_learn import KerasRegressor\n",
    "from sklearn.model_selection import cross_val_score\n",
    "from sklearn.model_selection import KFold\n",
    "from sklearn.preprocessing import MinMaxScaler, LabelEncoder, StandardScaler\n",
    "from sklearn.pipeline import Pipeline"
   ]
  },
  {
   "cell_type": "code",
   "execution_count": 2,
   "metadata": {},
   "outputs": [
    {
     "data": {
      "text/html": [
       "<div>\n",
       "<style scoped>\n",
       "    .dataframe tbody tr th:only-of-type {\n",
       "        vertical-align: middle;\n",
       "    }\n",
       "\n",
       "    .dataframe tbody tr th {\n",
       "        vertical-align: top;\n",
       "    }\n",
       "\n",
       "    .dataframe thead th {\n",
       "        text-align: right;\n",
       "    }\n",
       "</style>\n",
       "<table border=\"1\" class=\"dataframe\">\n",
       "  <thead>\n",
       "    <tr style=\"text-align: right;\">\n",
       "      <th></th>\n",
       "      <th>ID</th>\n",
       "      <th>alcohol</th>\n",
       "      <th>category</th>\n",
       "      <th>country</th>\n",
       "      <th>description</th>\n",
       "      <th>designation</th>\n",
       "      <th>price</th>\n",
       "      <th>rating</th>\n",
       "      <th>region</th>\n",
       "      <th>subregion</th>\n",
       "      <th>subsubregion</th>\n",
       "      <th>title</th>\n",
       "      <th>url</th>\n",
       "      <th>varietal</th>\n",
       "      <th>vintage</th>\n",
       "      <th>winery</th>\n",
       "    </tr>\n",
       "  </thead>\n",
       "  <tbody>\n",
       "    <tr>\n",
       "      <td>0</td>\n",
       "      <td>4</td>\n",
       "      <td>14.1</td>\n",
       "      <td>White</td>\n",
       "      <td>US</td>\n",
       "      <td>This white has an expert level of intensity an...</td>\n",
       "      <td>Dutton Ranch Walker Hill Vineyard</td>\n",
       "      <td>50.0</td>\n",
       "      <td>94</td>\n",
       "      <td>California</td>\n",
       "      <td>Sonoma</td>\n",
       "      <td>Green Valley</td>\n",
       "      <td>Dutton-Goldfield 2016 Dutton Ranch Walker Hill...</td>\n",
       "      <td>https://www.winemag.com/buying-guide/dutton-go...</td>\n",
       "      <td>Chardonnay</td>\n",
       "      <td>2016</td>\n",
       "      <td>Dutton-Goldfield</td>\n",
       "    </tr>\n",
       "    <tr>\n",
       "      <td>1</td>\n",
       "      <td>39</td>\n",
       "      <td>12.6</td>\n",
       "      <td>White</td>\n",
       "      <td>US</td>\n",
       "      <td>Stunning aromatics combine spicy citrus, tangy...</td>\n",
       "      <td>Maresh Vineyard Old Vine</td>\n",
       "      <td>30.0</td>\n",
       "      <td>94</td>\n",
       "      <td>Oregon</td>\n",
       "      <td>Willamette Valley</td>\n",
       "      <td>Dundee Hills</td>\n",
       "      <td>Harper Voit 2016 Maresh Vineyard Old Vine Ries...</td>\n",
       "      <td>https://www.winemag.com/buying-guide/harper-vo...</td>\n",
       "      <td>Riesling</td>\n",
       "      <td>2016</td>\n",
       "      <td>Harper Voit</td>\n",
       "    </tr>\n",
       "    <tr>\n",
       "      <td>2</td>\n",
       "      <td>53</td>\n",
       "      <td>13.8</td>\n",
       "      <td>White</td>\n",
       "      <td>US</td>\n",
       "      <td>This is a structured and remarkable wine, burs...</td>\n",
       "      <td>Year of the Monkey Single Vineyard</td>\n",
       "      <td>60.0</td>\n",
       "      <td>94</td>\n",
       "      <td>California</td>\n",
       "      <td>Napa-Sonoma</td>\n",
       "      <td>Carneros</td>\n",
       "      <td>Donum 2016 Year of the Monkey Single Vineyard ...</td>\n",
       "      <td>https://www.winemag.com/buying-guide/donum-201...</td>\n",
       "      <td>Chardonnay</td>\n",
       "      <td>2016</td>\n",
       "      <td>Donum</td>\n",
       "    </tr>\n",
       "    <tr>\n",
       "      <td>3</td>\n",
       "      <td>56</td>\n",
       "      <td>13.8</td>\n",
       "      <td>White</td>\n",
       "      <td>US</td>\n",
       "      <td>The wine's aromas are arresting in notes of le...</td>\n",
       "      <td>Chaleur Blanc</td>\n",
       "      <td>35.0</td>\n",
       "      <td>94</td>\n",
       "      <td>Washington</td>\n",
       "      <td>Columbia Valley</td>\n",
       "      <td>Columbia Valley (WA)</td>\n",
       "      <td>DeLille 2017 Chaleur Blanc White (Columbia Val...</td>\n",
       "      <td>https://www.winemag.com/buying-guide/delille-2...</td>\n",
       "      <td>Bordeaux-style White Blend</td>\n",
       "      <td>2017</td>\n",
       "      <td>DeLille</td>\n",
       "    </tr>\n",
       "    <tr>\n",
       "      <td>4</td>\n",
       "      <td>74</td>\n",
       "      <td>14.7</td>\n",
       "      <td>White</td>\n",
       "      <td>US</td>\n",
       "      <td>This is a grainy, structured and textured whit...</td>\n",
       "      <td>Lewis MacGregor Estate Vineyard</td>\n",
       "      <td>65.0</td>\n",
       "      <td>94</td>\n",
       "      <td>California</td>\n",
       "      <td>Sonoma</td>\n",
       "      <td>Russian River Valley</td>\n",
       "      <td>Williams Selyem 2016 Lewis MacGregor Estate Vi...</td>\n",
       "      <td>https://www.winemag.com/buying-guide/williams-...</td>\n",
       "      <td>Chardonnay</td>\n",
       "      <td>2016</td>\n",
       "      <td>Williams Selyem</td>\n",
       "    </tr>\n",
       "  </tbody>\n",
       "</table>\n",
       "</div>"
      ],
      "text/plain": [
       "   ID  alcohol category country  \\\n",
       "0   4     14.1    White      US   \n",
       "1  39     12.6    White      US   \n",
       "2  53     13.8    White      US   \n",
       "3  56     13.8    White      US   \n",
       "4  74     14.7    White      US   \n",
       "\n",
       "                                         description  \\\n",
       "0  This white has an expert level of intensity an...   \n",
       "1  Stunning aromatics combine spicy citrus, tangy...   \n",
       "2  This is a structured and remarkable wine, burs...   \n",
       "3  The wine's aromas are arresting in notes of le...   \n",
       "4  This is a grainy, structured and textured whit...   \n",
       "\n",
       "                          designation  price  rating      region  \\\n",
       "0   Dutton Ranch Walker Hill Vineyard   50.0      94  California   \n",
       "1            Maresh Vineyard Old Vine   30.0      94      Oregon   \n",
       "2  Year of the Monkey Single Vineyard   60.0      94  California   \n",
       "3                       Chaleur Blanc   35.0      94  Washington   \n",
       "4     Lewis MacGregor Estate Vineyard   65.0      94  California   \n",
       "\n",
       "           subregion          subsubregion  \\\n",
       "0             Sonoma          Green Valley   \n",
       "1  Willamette Valley          Dundee Hills   \n",
       "2        Napa-Sonoma              Carneros   \n",
       "3    Columbia Valley  Columbia Valley (WA)   \n",
       "4             Sonoma  Russian River Valley   \n",
       "\n",
       "                                               title  \\\n",
       "0  Dutton-Goldfield 2016 Dutton Ranch Walker Hill...   \n",
       "1  Harper Voit 2016 Maresh Vineyard Old Vine Ries...   \n",
       "2  Donum 2016 Year of the Monkey Single Vineyard ...   \n",
       "3  DeLille 2017 Chaleur Blanc White (Columbia Val...   \n",
       "4  Williams Selyem 2016 Lewis MacGregor Estate Vi...   \n",
       "\n",
       "                                                 url  \\\n",
       "0  https://www.winemag.com/buying-guide/dutton-go...   \n",
       "1  https://www.winemag.com/buying-guide/harper-vo...   \n",
       "2  https://www.winemag.com/buying-guide/donum-201...   \n",
       "3  https://www.winemag.com/buying-guide/delille-2...   \n",
       "4  https://www.winemag.com/buying-guide/williams-...   \n",
       "\n",
       "                     varietal  vintage            winery  \n",
       "0                  Chardonnay     2016  Dutton-Goldfield  \n",
       "1                    Riesling     2016       Harper Voit  \n",
       "2                  Chardonnay     2016             Donum  \n",
       "3  Bordeaux-style White Blend     2017           DeLille  \n",
       "4                  Chardonnay     2016   Williams Selyem  "
      ]
     },
     "execution_count": 2,
     "metadata": {},
     "output_type": "execute_result"
    }
   ],
   "source": [
    "df = pd.read_csv('Resources/uswhites.csv')\n",
    "df.head()"
   ]
  },
  {
   "cell_type": "code",
   "execution_count": 3,
   "metadata": {},
   "outputs": [
    {
     "data": {
      "text/html": [
       "<div>\n",
       "<style scoped>\n",
       "    .dataframe tbody tr th:only-of-type {\n",
       "        vertical-align: middle;\n",
       "    }\n",
       "\n",
       "    .dataframe tbody tr th {\n",
       "        vertical-align: top;\n",
       "    }\n",
       "\n",
       "    .dataframe thead th {\n",
       "        text-align: right;\n",
       "    }\n",
       "</style>\n",
       "<table border=\"1\" class=\"dataframe\">\n",
       "  <thead>\n",
       "    <tr style=\"text-align: right;\">\n",
       "      <th></th>\n",
       "      <th>alcohol</th>\n",
       "      <th>price</th>\n",
       "      <th>rating</th>\n",
       "      <th>region</th>\n",
       "      <th>subregion</th>\n",
       "      <th>varietal</th>\n",
       "      <th>vintage</th>\n",
       "    </tr>\n",
       "  </thead>\n",
       "  <tbody>\n",
       "    <tr>\n",
       "      <td>0</td>\n",
       "      <td>14.1</td>\n",
       "      <td>50.0</td>\n",
       "      <td>94</td>\n",
       "      <td>California</td>\n",
       "      <td>Sonoma</td>\n",
       "      <td>Chardonnay</td>\n",
       "      <td>2016</td>\n",
       "    </tr>\n",
       "    <tr>\n",
       "      <td>1</td>\n",
       "      <td>12.6</td>\n",
       "      <td>30.0</td>\n",
       "      <td>94</td>\n",
       "      <td>Oregon</td>\n",
       "      <td>Willamette Valley</td>\n",
       "      <td>Riesling</td>\n",
       "      <td>2016</td>\n",
       "    </tr>\n",
       "    <tr>\n",
       "      <td>2</td>\n",
       "      <td>13.8</td>\n",
       "      <td>60.0</td>\n",
       "      <td>94</td>\n",
       "      <td>California</td>\n",
       "      <td>Napa-Sonoma</td>\n",
       "      <td>Chardonnay</td>\n",
       "      <td>2016</td>\n",
       "    </tr>\n",
       "    <tr>\n",
       "      <td>3</td>\n",
       "      <td>13.8</td>\n",
       "      <td>35.0</td>\n",
       "      <td>94</td>\n",
       "      <td>Washington</td>\n",
       "      <td>Columbia Valley</td>\n",
       "      <td>Bordeaux-style White Blend</td>\n",
       "      <td>2017</td>\n",
       "    </tr>\n",
       "    <tr>\n",
       "      <td>4</td>\n",
       "      <td>14.7</td>\n",
       "      <td>65.0</td>\n",
       "      <td>94</td>\n",
       "      <td>California</td>\n",
       "      <td>Sonoma</td>\n",
       "      <td>Chardonnay</td>\n",
       "      <td>2016</td>\n",
       "    </tr>\n",
       "  </tbody>\n",
       "</table>\n",
       "</div>"
      ],
      "text/plain": [
       "   alcohol  price  rating      region          subregion  \\\n",
       "0     14.1   50.0      94  California             Sonoma   \n",
       "1     12.6   30.0      94      Oregon  Willamette Valley   \n",
       "2     13.8   60.0      94  California        Napa-Sonoma   \n",
       "3     13.8   35.0      94  Washington    Columbia Valley   \n",
       "4     14.7   65.0      94  California             Sonoma   \n",
       "\n",
       "                     varietal  vintage  \n",
       "0                  Chardonnay     2016  \n",
       "1                    Riesling     2016  \n",
       "2                  Chardonnay     2016  \n",
       "3  Bordeaux-style White Blend     2017  \n",
       "4                  Chardonnay     2016  "
      ]
     },
     "execution_count": 3,
     "metadata": {},
     "output_type": "execute_result"
    }
   ],
   "source": [
    "df = df.drop(['ID', 'category', 'country', 'description', 'designation', 'subsubregion', 'title', 'url', 'winery'], axis=1)\n",
    "df.head()\n"
   ]
  },
  {
   "cell_type": "code",
   "execution_count": 4,
   "metadata": {},
   "outputs": [],
   "source": [
    "X_df = pd.DataFrame(df)\n",
    "X_df['subregion'] = X_df['subregion'].astype(str)\n",
    "X_df['vintage'] = X_df['vintage'].astype(int)"
   ]
  },
  {
   "cell_type": "code",
   "execution_count": 5,
   "metadata": {},
   "outputs": [],
   "source": [
    "X = X_df.drop(\"price\", axis=1)\n",
    "y = df[\"price\"]"
   ]
  },
  {
   "cell_type": "code",
   "execution_count": 6,
   "metadata": {},
   "outputs": [
    {
     "data": {
      "text/html": [
       "<div>\n",
       "<style scoped>\n",
       "    .dataframe tbody tr th:only-of-type {\n",
       "        vertical-align: middle;\n",
       "    }\n",
       "\n",
       "    .dataframe tbody tr th {\n",
       "        vertical-align: top;\n",
       "    }\n",
       "\n",
       "    .dataframe thead th {\n",
       "        text-align: right;\n",
       "    }\n",
       "</style>\n",
       "<table border=\"1\" class=\"dataframe\">\n",
       "  <thead>\n",
       "    <tr style=\"text-align: right;\">\n",
       "      <th></th>\n",
       "      <th>alcohol</th>\n",
       "      <th>rating</th>\n",
       "      <th>region</th>\n",
       "      <th>subregion</th>\n",
       "      <th>varietal</th>\n",
       "      <th>vintage</th>\n",
       "    </tr>\n",
       "  </thead>\n",
       "  <tbody>\n",
       "    <tr>\n",
       "      <td>0</td>\n",
       "      <td>130</td>\n",
       "      <td>14</td>\n",
       "      <td>2</td>\n",
       "      <td>42</td>\n",
       "      <td>17</td>\n",
       "      <td>22</td>\n",
       "    </tr>\n",
       "    <tr>\n",
       "      <td>1</td>\n",
       "      <td>68</td>\n",
       "      <td>14</td>\n",
       "      <td>17</td>\n",
       "      <td>56</td>\n",
       "      <td>87</td>\n",
       "      <td>22</td>\n",
       "    </tr>\n",
       "    <tr>\n",
       "      <td>2</td>\n",
       "      <td>118</td>\n",
       "      <td>14</td>\n",
       "      <td>2</td>\n",
       "      <td>28</td>\n",
       "      <td>17</td>\n",
       "      <td>22</td>\n",
       "    </tr>\n",
       "    <tr>\n",
       "      <td>3</td>\n",
       "      <td>118</td>\n",
       "      <td>14</td>\n",
       "      <td>24</td>\n",
       "      <td>7</td>\n",
       "      <td>10</td>\n",
       "      <td>23</td>\n",
       "    </tr>\n",
       "    <tr>\n",
       "      <td>4</td>\n",
       "      <td>152</td>\n",
       "      <td>14</td>\n",
       "      <td>2</td>\n",
       "      <td>42</td>\n",
       "      <td>17</td>\n",
       "      <td>22</td>\n",
       "    </tr>\n",
       "    <tr>\n",
       "      <td>...</td>\n",
       "      <td>...</td>\n",
       "      <td>...</td>\n",
       "      <td>...</td>\n",
       "      <td>...</td>\n",
       "      <td>...</td>\n",
       "      <td>...</td>\n",
       "    </tr>\n",
       "    <tr>\n",
       "      <td>23653</td>\n",
       "      <td>147</td>\n",
       "      <td>11</td>\n",
       "      <td>2</td>\n",
       "      <td>3</td>\n",
       "      <td>17</td>\n",
       "      <td>11</td>\n",
       "    </tr>\n",
       "    <tr>\n",
       "      <td>23654</td>\n",
       "      <td>147</td>\n",
       "      <td>12</td>\n",
       "      <td>2</td>\n",
       "      <td>3</td>\n",
       "      <td>17</td>\n",
       "      <td>11</td>\n",
       "    </tr>\n",
       "    <tr>\n",
       "      <td>23655</td>\n",
       "      <td>159</td>\n",
       "      <td>12</td>\n",
       "      <td>2</td>\n",
       "      <td>3</td>\n",
       "      <td>17</td>\n",
       "      <td>11</td>\n",
       "    </tr>\n",
       "    <tr>\n",
       "      <td>23656</td>\n",
       "      <td>176</td>\n",
       "      <td>12</td>\n",
       "      <td>2</td>\n",
       "      <td>42</td>\n",
       "      <td>138</td>\n",
       "      <td>10</td>\n",
       "    </tr>\n",
       "    <tr>\n",
       "      <td>23657</td>\n",
       "      <td>139</td>\n",
       "      <td>12</td>\n",
       "      <td>2</td>\n",
       "      <td>2</td>\n",
       "      <td>17</td>\n",
       "      <td>11</td>\n",
       "    </tr>\n",
       "  </tbody>\n",
       "</table>\n",
       "<p>23658 rows × 6 columns</p>\n",
       "</div>"
      ],
      "text/plain": [
       "       alcohol  rating  region  subregion  varietal  vintage\n",
       "0          130      14       2         42        17       22\n",
       "1           68      14      17         56        87       22\n",
       "2          118      14       2         28        17       22\n",
       "3          118      14      24          7        10       23\n",
       "4          152      14       2         42        17       22\n",
       "...        ...     ...     ...        ...       ...      ...\n",
       "23653      147      11       2          3        17       11\n",
       "23654      147      12       2          3        17       11\n",
       "23655      159      12       2          3        17       11\n",
       "23656      176      12       2         42       138       10\n",
       "23657      139      12       2          2        17       11\n",
       "\n",
       "[23658 rows x 6 columns]"
      ]
     },
     "execution_count": 6,
     "metadata": {},
     "output_type": "execute_result"
    }
   ],
   "source": [
    "X= X.apply(LabelEncoder().fit_transform)\n",
    "X"
   ]
  },
  {
   "cell_type": "code",
   "execution_count": 7,
   "metadata": {},
   "outputs": [
    {
     "name": "stdout",
     "output_type": "stream",
     "text": [
      "[[130.  14.   2.  42.  17.  22.]\n",
      " [ 68.  14.  17.  56.  87.  22.]\n",
      " [118.  14.   2.  28.  17.  22.]\n",
      " ...\n",
      " [159.  12.   2.   3.  17.  11.]\n",
      " [176.  12.   2.  42. 138.  10.]\n",
      " [139.  12.   2.   2.  17.  11.]]\n",
      "[50. 30. 60. ... 29. 24. 55.]\n"
     ]
    }
   ],
   "source": [
    "X = X.values.astype(\"float32\")\n",
    "print(X)\n",
    "y = y.values.astype(\"float32\")\n",
    "print(y)"
   ]
  },
  {
   "cell_type": "code",
   "execution_count": 8,
   "metadata": {},
   "outputs": [
    {
     "name": "stdout",
     "output_type": "stream",
     "text": [
      "(5915,)\n",
      "(5915, 6)\n"
     ]
    }
   ],
   "source": [
    "from sklearn.model_selection import train_test_split\n",
    "\n",
    "X_train, X_test, y_train, y_test = train_test_split(\n",
    "    X, y, random_state=42)\n",
    "print(y_test.shape)\n",
    "print(X_test.shape)"
   ]
  },
  {
   "cell_type": "code",
   "execution_count": 9,
   "metadata": {},
   "outputs": [],
   "source": [
    "scaler_model = MinMaxScaler()"
   ]
  },
  {
   "cell_type": "code",
   "execution_count": 10,
   "metadata": {},
   "outputs": [],
   "source": [
    "y_train=y_train.reshape(-1,1)\n",
    "y_test=y_test.reshape(-1,1)"
   ]
  },
  {
   "cell_type": "code",
   "execution_count": 26,
   "metadata": {},
   "outputs": [],
   "source": [
    "X_scaler = scaler_model.fit(X_train)\n"
   ]
  },
  {
   "cell_type": "code",
   "execution_count": 25,
   "metadata": {},
   "outputs": [],
   "source": [
    "X_train_scaled = X_scaler.transform(X_train)\n",
    "X_test_scaled = X_scaler.transform(X_test)\n"
   ]
  },
  {
   "cell_type": "code",
   "execution_count": 13,
   "metadata": {},
   "outputs": [
    {
     "data": {
      "text/plain": [
       "6"
      ]
     },
     "execution_count": 13,
     "metadata": {},
     "output_type": "execute_result"
    }
   ],
   "source": [
    "input_dims = X_train.shape[1]\n",
    "input_dims"
   ]
  },
  {
   "cell_type": "code",
   "execution_count": 14,
   "metadata": {},
   "outputs": [
    {
     "name": "stdout",
     "output_type": "stream",
     "text": [
      "Model: \"sequential_1\"\n",
      "_________________________________________________________________\n",
      "Layer (type)                 Output Shape              Param #   \n",
      "=================================================================\n",
      "dense_1 (Dense)              (None, 12)                84        \n",
      "_________________________________________________________________\n",
      "dense_2 (Dense)              (None, 8)                 104       \n",
      "_________________________________________________________________\n",
      "predictions (Dense)          (None, 1)                 9         \n",
      "=================================================================\n",
      "Total params: 197\n",
      "Trainable params: 197\n",
      "Non-trainable params: 0\n",
      "_________________________________________________________________\n"
     ]
    }
   ],
   "source": [
    "model = Sequential()\n",
    "model.add(Dense(12, activation = 'relu', name='dense_1', kernel_initializer='random_uniform', input_dim=(input_dims)))\n",
    "model.add(Dense(8, activation='relu', name='dense_2', kernel_initializer='random_uniform'))\n",
    "model.add(Dense(1, activation='linear', name='predictions'))\n",
    "model.summary()"
   ]
  },
  {
   "cell_type": "code",
   "execution_count": 15,
   "metadata": {},
   "outputs": [
    {
     "name": "stdout",
     "output_type": "stream",
     "text": [
      "Train on 14194 samples, validate on 3549 samples\n",
      "Epoch 1/10\n",
      "14194/14194 [==============================] - 2s 108us/step - loss: 220.1590 - mse: 220.1592 - mae: 10.4960 - val_loss: 115.0500 - val_mse: 115.0500 - val_mae: 7.8156\n",
      "Epoch 2/10\n",
      "14194/14194 [==============================] - 1s 75us/step - loss: 115.5260 - mse: 115.5261 - mae: 7.6771 - val_loss: 105.8198 - val_mse: 105.8198 - val_mae: 7.5822\n",
      "Epoch 3/10\n",
      "14194/14194 [==============================] - 1s 74us/step - loss: 110.6252 - mse: 110.6251 - mae: 7.5361 - val_loss: 103.2650 - val_mse: 103.2650 - val_mae: 7.3663\n",
      "Epoch 4/10\n",
      "14194/14194 [==============================] - 1s 78us/step - loss: 108.3236 - mse: 108.3235 - mae: 7.4746 - val_loss: 101.4528 - val_mse: 101.4528 - val_mae: 7.3791\n",
      "Epoch 5/10\n",
      "14194/14194 [==============================] - 1s 76us/step - loss: 107.4252 - mse: 107.4251 - mae: 7.4543 - val_loss: 100.9558 - val_mse: 100.9557 - val_mae: 7.3797\n",
      "Epoch 6/10\n",
      "14194/14194 [==============================] - 1s 76us/step - loss: 107.1057 - mse: 107.1058 - mae: 7.4430 - val_loss: 100.7513 - val_mse: 100.7513 - val_mae: 7.4864\n",
      "Epoch 7/10\n",
      "14194/14194 [==============================] - 1s 81us/step - loss: 107.0217 - mse: 107.0217 - mae: 7.4551 - val_loss: 101.2980 - val_mse: 101.2980 - val_mae: 7.5846\n",
      "Epoch 8/10\n",
      "14194/14194 [==============================] - 1s 90us/step - loss: 106.7574 - mse: 106.7573 - mae: 7.4503 - val_loss: 101.0890 - val_mse: 101.0891 - val_mae: 7.3138\n",
      "Epoch 9/10\n",
      "14194/14194 [==============================] - 1s 78us/step - loss: 106.4959 - mse: 106.4958 - mae: 7.4204 - val_loss: 99.5822 - val_mse: 99.5822 - val_mae: 7.4115\n",
      "Epoch 10/10\n",
      "14194/14194 [==============================] - 1s 83us/step - loss: 104.4002 - mse: 104.4003 - mae: 7.3127 - val_loss: 98.2366 - val_mse: 98.2366 - val_mae: 7.4363\n"
     ]
    }
   ],
   "source": [
    "from numpy import sqrt,asarray\n",
    "model.compile(optimizer='adam', loss='mse', metrics=['mse','mae'])\n",
    "history = model.fit(X_train_scaled, y_train, epochs=10, batch_size=10,  verbose=1, validation_split=0.2)\n"
   ]
  },
  {
   "cell_type": "code",
   "execution_count": 16,
   "metadata": {},
   "outputs": [
    {
     "name": "stdout",
     "output_type": "stream",
     "text": [
      "[98.23463066920122, 98.234619140625, 7.355698108673096] [9.91133849 9.91133791 2.71213903]\n"
     ]
    }
   ],
   "source": [
    "error = model.evaluate(X_test_scaled, y_test, verbose=2)\n",
    "# print('MSE: %.3f, RMSE: %.3f' % (error, sqrt(error)))\n",
    "print(error, sqrt(error))"
   ]
  },
  {
   "cell_type": "code",
   "execution_count": 34,
   "metadata": {},
   "outputs": [],
   "source": [
    "# model.save('modelMMS.h5')"
   ]
  },
  {
   "cell_type": "code",
   "execution_count": 17,
   "metadata": {},
   "outputs": [
    {
     "name": "stdout",
     "output_type": "stream",
     "text": [
      "dict_keys(['val_loss', 'val_mse', 'val_mae', 'loss', 'mse', 'mae'])\n"
     ]
    },
    {
     "data": {
      "image/png": "[encoded data removed]",
      "text/plain": [
       "<Figure size 432x288 with 1 Axes>"
      ]
     },
     "metadata": {
      "needs_background": "light"
     },
     "output_type": "display_data"
    }
   ],
   "source": [
    "print(history.history.keys())\n",
    "# \"Loss\"\n",
    "plt.plot(history.history['loss'])\n",
    "plt.plot(history.history['val_loss'])\n",
    "plt.title('model loss')\n",
    "plt.ylabel('loss')\n",
    "plt.xlabel('epoch')\n",
    "plt.legend(['train', 'validation'], loc='upper left')\n",
    "plt.show()"
   ]
  },
  {
   "cell_type": "code",
   "execution_count": 36,
   "metadata": {},
   "outputs": [],
   "source": [
    "# from collections import defaultdict\n",
    "# d = defaultdict(LabelEncoder)\n",
    "\n",
    "# labeled_df = X_df.apply(lambda x: d[x.name].fit_transform(x))\n",
    "# labeled_df\n",
    "# labeled_df.apply(lambda x: d[x.name].inverse_transform(x))"
   ]
  },
  {
   "cell_type": "code",
   "execution_count": 20,
   "metadata": {},
   "outputs": [
    {
     "data": {
      "text/plain": [
       "array([[0.7068063 , 0.6315789 , 0.08      , 0.05084746, 0.12318841,\n",
       "        0.5833334 ]], dtype=float32)"
      ]
     },
     "execution_count": 20,
     "metadata": {},
     "output_type": "execute_result"
    }
   ],
   "source": [
    "test = np.expand_dims(X_test_scaled[0], axis=0)\n",
    "test"
   ]
  },
  {
   "cell_type": "code",
   "execution_count": 21,
   "metadata": {},
   "outputs": [
    {
     "name": "stdout",
     "output_type": "stream",
     "text": [
      "Predicted price: [[36.63507]]\n"
     ]
    }
   ],
   "source": [
    "print(f\"Predicted price: {model.predict(test)}\")"
   ]
  }
 ],
 "metadata": {
  "kernelspec": {
   "display_name": "Python 3",
   "language": "python",
   "name": "python3"
  },
  "language_info": {
   "codemirror_mode": {
    "name": "ipython",
    "version": 3
   },
   "file_extension": ".py",
   "mimetype": "text/x-python",
   "name": "python",
   "nbconvert_exporter": "python",
   "pygments_lexer": "ipython3",
   "version": "3.7.4"
  }
 },
 "nbformat": 4,
 "nbformat_minor": 2
}
